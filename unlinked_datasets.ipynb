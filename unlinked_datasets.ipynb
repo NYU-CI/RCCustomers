{
 "cells": [
  {
   "cell_type": "code",
   "execution_count": 2,
   "metadata": {},
   "outputs": [],
   "source": [
    "import os\n",
    "import json"
   ]
  },
  {
   "cell_type": "code",
   "execution_count": 7,
   "metadata": {},
   "outputs": [
    {
     "data": {
      "text/plain": [
       "['/Users/sophierand/RCPublications/partitions/20190726_usda_iri_publications.json',\n",
       " '/Users/sophierand/RCPublications/partitions/.DS_Store',\n",
       " '/Users/sophierand/RCPublications/partitions/20190619_usda_foodaps_publications.json',\n",
       " '/Users/sophierand/RCPublications/partitions/20190610_usda_iri_publications.json',\n",
       " '/Users/sophierand/RCPublications/partitions/20190607_bundesbank_publications.json',\n",
       " '/Users/sophierand/RCPublications/partitions/20190920_usda_endnote_publications.json',\n",
       " '/Users/sophierand/RCPublications/partitions/20190923_chapinhall_publications.json',\n",
       " '/Users/sophierand/RCPublications/partitions/20190717_usda_wic_publications.json',\n",
       " '/Users/sophierand/RCPublications/partitions/20190717_usda_snap_publications.json',\n",
       " '/Users/sophierand/RCPublications/partitions/20190723_usda_dyads_publications.json',\n",
       " '/Users/sophierand/RCPublications/partitions/20190731_bundesbank_publications.json',\n",
       " '/Users/sophierand/RCPublications/partitions/20190923_social_science_corpus_publications.json',\n",
       " '/Users/sophierand/RCPublications/partitions/20190913_usda_excel_publications.json',\n",
       " '/Users/sophierand/RCPublications/partitions/20191118_ncses_fedreporter_publications.json']"
      ]
     },
     "execution_count": 7,
     "metadata": {},
     "output_type": "execute_result"
    }
   ],
   "source": [
    "partitions"
   ]
  },
  {
   "cell_type": "code",
   "execution_count": 8,
   "metadata": {},
   "outputs": [],
   "source": [
    "partitions = [os.path.join('/Users/sophierand/RCPublications/partitions',f) for f in os.listdir('/Users/sophierand/RCPublications/partitions') if f.endswith('.json')]\n"
   ]
  },
  {
   "cell_type": "code",
   "execution_count": 9,
   "metadata": {},
   "outputs": [],
   "source": [
    "def flatten(l):\n",
    "    sl = [item for sublist in l for item in sublist]\n",
    "    return sl"
   ]
  },
  {
   "cell_type": "code",
   "execution_count": 10,
   "metadata": {},
   "outputs": [],
   "source": [
    "partition_list = []\n",
    "for p in partitions:\n",
    "    with open(p) as json_file:\n",
    "        part = json.load(json_file)\n",
    "        partition_list.append(part)\n"
   ]
  },
  {
   "cell_type": "code",
   "execution_count": 15,
   "metadata": {},
   "outputs": [],
   "source": [
    "all_pubs = flatten(partition_list)\n",
    "# all_pubs"
   ]
  },
  {
   "cell_type": "code",
   "execution_count": 16,
   "metadata": {},
   "outputs": [],
   "source": [
    "\n",
    "datasets_path = \"/Users/sophierand/RCDatasets/datasets.json\"\n",
    "with open(datasets_path) as json_file:\n",
    "    datasets = json.load(json_file)\n"
   ]
  },
  {
   "cell_type": "code",
   "execution_count": 22,
   "metadata": {},
   "outputs": [],
   "source": [
    "all_pubs[0]\n",
    "referenced_datasets = list(set(flatten([d['datasets'] for d in all_pubs])))\n",
    "# referenced_datasets"
   ]
  },
  {
   "cell_type": "code",
   "execution_count": 28,
   "metadata": {},
   "outputs": [],
   "source": [
    "unlinked_datasets = [d['id'] for d in datasets if d['id'] not in referenced_datasets]\n",
    "# unlinked_datasets"
   ]
  },
  {
   "cell_type": "code",
   "execution_count": null,
   "metadata": {},
   "outputs": [],
   "source": []
  }
 ],
 "metadata": {
  "kernelspec": {
   "display_name": "Python 3",
   "language": "python",
   "name": "python3"
  },
  "language_info": {
   "codemirror_mode": {
    "name": "ipython",
    "version": 3
   },
   "file_extension": ".py",
   "mimetype": "text/x-python",
   "name": "python",
   "nbconvert_exporter": "python",
   "pygments_lexer": "ipython3",
   "version": "3.7.3"
  }
 },
 "nbformat": 4,
 "nbformat_minor": 4
}
