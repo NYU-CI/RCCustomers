{
 "cells": [
  {
   "cell_type": "code",
   "execution_count": 5,
   "metadata": {},
   "outputs": [],
   "source": [
    "import json\n",
    "import os"
   ]
  },
  {
   "cell_type": "code",
   "execution_count": 19,
   "metadata": {},
   "outputs": [
    {
     "data": {
      "text/plain": [
       "['dataset-370',\n",
       " 'dataset-371',\n",
       " 'dataset-425',\n",
       " 'dataset-426',\n",
       " 'dataset-427',\n",
       " 'dataset-428']"
      ]
     },
     "execution_count": 19,
     "metadata": {},
     "output_type": "execute_result"
    }
   ],
   "source": [
    "cust_path = '/Users/sophierand/RCCustomers/customers.json'\n",
    "with open(cust_path) as json_file:\n",
    "    customers = json.load(json_file)\n",
    "ncses_datasets = [d['datasets'] for d in customers if d['name'] == 'National Center for Science and Engineering Statistics'][0]\n",
    "ncses_datasets"
   ]
  },
  {
   "cell_type": "code",
   "execution_count": 20,
   "metadata": {},
   "outputs": [],
   "source": [
    "datasets_path = '/Users/sophierand/RCDatasets/datasets.json'\n",
    "with open(datasets_path) as json_file:\n",
    "    datasets = json.load(json_file)"
   ]
  },
  {
   "cell_type": "code",
   "execution_count": 21,
   "metadata": {},
   "outputs": [],
   "source": [
    "ncses_datasets = [d for d in datasets if d['id'] in ncses_datasets]"
   ]
  },
  {
   "cell_type": "code",
   "execution_count": 23,
   "metadata": {},
   "outputs": [],
   "source": [
    "# ncses_datasets"
   ]
  },
  {
   "cell_type": "code",
   "execution_count": 17,
   "metadata": {},
   "outputs": [],
   "source": [
    "with open('/Users/sophierand/RCCustomers/customers/NCSES/ncses_datasets.json', 'w') as outfile:\n",
    "    json.dump(ncses_datasets, outfile,indent = 2)"
   ]
  },
  {
   "cell_type": "code",
   "execution_count": 24,
   "metadata": {},
   "outputs": [],
   "source": [
    "# PARTITIONS = os.listdir('/Users/sophierand/RCPublications/partitions')\n",
    "PARTITIONS = os.listdir('/Users/sophierand/RCGraph/step3/')\n",
    "# PARTITIONS"
   ]
  },
  {
   "cell_type": "code",
   "execution_count": 25,
   "metadata": {},
   "outputs": [],
   "source": [
    "publications = []\n",
    "for partition in PARTITIONS:\n",
    "    pathname = '/Users/sophierand/RCGraph/step3/' + partition\n",
    "    with open(pathname, \"r\") as f:\n",
    "        publications.extend(json.load(f))\n"
   ]
  },
  {
   "cell_type": "code",
   "execution_count": 7,
   "metadata": {},
   "outputs": [],
   "source": [
    "# publications = []\n",
    "# for partition in PARTITIONS:\n",
    "#     pathname = '/Users/sophierand/RCGraph/step3/' + partition\n",
    "#     with open(pathname, \"r\") as f:\n",
    "#         publications.extend(json.load(f))\n"
   ]
  },
  {
   "cell_type": "code",
   "execution_count": 27,
   "metadata": {},
   "outputs": [
    {
     "data": {
      "text/plain": [
       "['Does Globalization of the Scientific/Engineering Workforce Threaten U.S. Economic Leadership?',\n",
       " 'Internalizing Globalization, The Rise of Neoliberalism and the Decline of National Varieties of Capitalism']"
      ]
     },
     "execution_count": 27,
     "metadata": {},
     "output_type": "execute_result"
    }
   ],
   "source": [
    "[p['title'] for p in publications if 'Globalization' in p['title']]"
   ]
  },
  {
   "cell_type": "code",
   "execution_count": 29,
   "metadata": {},
   "outputs": [],
   "source": [
    "from collections import OrderedDict"
   ]
  },
  {
   "cell_type": "code",
   "execution_count": 76,
   "metadata": {},
   "outputs": [],
   "source": [
    "ncses_pubs = []\n",
    "for p in publications:\n",
    "    p_ds = p['datasets']\n",
    "    if len(set(p_ds) & set(ncses_datasets)) > 0:\n",
    "        pn = OrderedDict()\n",
    "        pn[\"title\"] = p[\"title\"]\n",
    "        pn[\"datasets\"] = p[\"datasets\"]\n",
    "        remaining_keys = [d for d in list(p.keys()) if d not in [\"datasets\",\"title\",\"Dimensions\"]]\n",
    "        testlist = [{k:v} for k,v in p.items() if k in remaining_keys]\n",
    "        pn[\"api_metadata\"] = testlist\n",
    "\n",
    "\n",
    "#         pn[remaining_keys] = p[remaining_keys]\n",
    "        ncses_pubs.append(pn)\n"
   ]
  },
  {
   "cell_type": "code",
   "execution_count": 72,
   "metadata": {},
   "outputs": [],
   "source": [
    "# dict(ncses_pubs[0])"
   ]
  },
  {
   "cell_type": "code",
   "execution_count": 77,
   "metadata": {},
   "outputs": [],
   "source": [
    "ncses_pubs_andrew = ncses_pubs[0:79]\n",
    "ncses_pubs_marcos = ncses_pubs[80:160]"
   ]
  },
  {
   "cell_type": "code",
   "execution_count": 10,
   "metadata": {},
   "outputs": [
    {
     "data": {
      "text/plain": [
       "'/Users/sophierand/RCCustomers/customers/NCSES'"
      ]
     },
     "execution_count": 10,
     "metadata": {},
     "output_type": "execute_result"
    }
   ],
   "source": [
    "import os\n",
    "os.getcwd()"
   ]
  },
  {
   "cell_type": "code",
   "execution_count": 11,
   "metadata": {},
   "outputs": [],
   "source": [
    "with open('/Users/sophierand/RCCustomers/customers/NCSES/publications_linkages.json', 'w') as outfile:\n",
    "    json.dump(ncses_pubs, outfile,indent = 2)"
   ]
  },
  {
   "cell_type": "code",
   "execution_count": 78,
   "metadata": {},
   "outputs": [],
   "source": [
    "with open('/Users/sophierand/RCCustomers/customers/NCSES/publications_linkages_andrew.json', 'w') as outfile:\n",
    "    json.dump(ncses_pubs_andrew, outfile,indent = 2)"
   ]
  },
  {
   "cell_type": "code",
   "execution_count": 79,
   "metadata": {},
   "outputs": [],
   "source": [
    "with open('/Users/sophierand/RCCustomers/customers/NCSES/publications_linkages_marcos.json', 'w') as outfile:\n",
    "    json.dump(ncses_pubs_marcos, outfile,indent = 2)"
   ]
  },
  {
   "cell_type": "code",
   "execution_count": null,
   "metadata": {},
   "outputs": [],
   "source": []
  }
 ],
 "metadata": {
  "kernelspec": {
   "display_name": "Python 3",
   "language": "python",
   "name": "python3"
  },
  "language_info": {
   "codemirror_mode": {
    "name": "ipython",
    "version": 3
   },
   "file_extension": ".py",
   "mimetype": "text/x-python",
   "name": "python",
   "nbconvert_exporter": "python",
   "pygments_lexer": "ipython3",
   "version": "3.7.3"
  }
 },
 "nbformat": 4,
 "nbformat_minor": 2
}
