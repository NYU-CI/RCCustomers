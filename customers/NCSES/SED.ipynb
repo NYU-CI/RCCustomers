{
 "cells": [
  {
   "cell_type": "code",
   "execution_count": 1,
   "metadata": {},
   "outputs": [],
   "source": [
    "import os\n",
    "import json"
   ]
  },
  {
   "cell_type": "code",
   "execution_count": 11,
   "metadata": {},
   "outputs": [],
   "source": [
    "def flatten(l):\n",
    "    fl = [item for sublist in l for item in sublist]\n",
    "    return fl"
   ]
  },
  {
   "cell_type": "code",
   "execution_count": 2,
   "metadata": {},
   "outputs": [],
   "source": [
    "\n",
    "datasets_path = \"/Users/sophierand/RCDatasets/datasets.json\"\n",
    "with open(datasets_path) as json_file:\n",
    "    datasets = json.load(json_file)\n"
   ]
  },
  {
   "cell_type": "code",
   "execution_count": 54,
   "metadata": {},
   "outputs": [
    {
     "data": {
      "text/plain": [
       "[{'id': 'dataset-370', 'title': ['Survey of Earned Doctorates', 'SED']},\n",
       " {'id': 'dataset-371', 'title': ['Survey of Doctorate Recipients', 'SDR']}]"
      ]
     },
     "execution_count": 54,
     "metadata": {},
     "output_type": "execute_result"
    }
   ],
   "source": [
    "ncses_datasets = [{'id':d['id'],'title':list((d['title'],d['alt_title'][0]))} for d in datasets if d['id'] in ['dataset-370','dataset-371']]\n",
    "ncses_datasets"
   ]
  },
  {
   "cell_type": "code",
   "execution_count": 19,
   "metadata": {},
   "outputs": [],
   "source": [
    "import dimensions_search_api_client as dscli\n",
    "import RichContextAPI"
   ]
  },
  {
   "cell_type": "code",
   "execution_count": 20,
   "metadata": {},
   "outputs": [],
   "source": [
    "api_client = RichContextAPI.connect_dimensions_api()"
   ]
  },
  {
   "cell_type": "code",
   "execution_count": 22,
   "metadata": {},
   "outputs": [],
   "source": [
    "def run_exact_string_search(string,api_client):\n",
    "    search_string = 'search publications in full_data for \"\\\\\"{}\\\\\"\" return publications limit 5'.format(string)\n",
    "    api_response = api_client.execute_query(query_string_IN = search_string )\n",
    "    return api_response"
   ]
  },
  {
   "cell_type": "code",
   "execution_count": 30,
   "metadata": {},
   "outputs": [],
   "source": [
    "a = run_exact_string_search(string = search_terms[1],api_client = api_client)"
   ]
  },
  {
   "cell_type": "code",
   "execution_count": 149,
   "metadata": {},
   "outputs": [],
   "source": [
    "dataset_returns = []\n",
    "for d in ncses_datasets:\n",
    "    ds_md = {'datasets':d['id']}\n",
    "    search_terms = d['title']\n",
    "    result_list = []\n",
    "    for t in search_terms:\n",
    "        ds_results = run_exact_string_search(string = t, api_client=api_client)\n",
    "        md_results = ds_results['publications']\n",
    "        [m.update(ds_md) for m in md_results]\n",
    "        [m.update({'search_term':t}) for m in md_results]\n",
    "        result_list.append(md_results)\n",
    "#         result_list = flatten(result_list)\n",
    "        dataset_returns.append(result_list)\n"
   ]
  },
  {
   "cell_type": "code",
   "execution_count": 158,
   "metadata": {},
   "outputs": [],
   "source": [
    "dimensions_results = flatten(flatten(dataset_returns))"
   ]
  },
  {
   "cell_type": "code",
   "execution_count": 233,
   "metadata": {},
   "outputs": [],
   "source": [
    "publications_md = []\n",
    "final_df = pd.DataFrame()\n",
    "for i,p in enumerate(dimensions_results):\n",
    "    if isinstance(p,list):\n",
    "        np = p[0]\n",
    "    elif not isinstance(p,list):\n",
    "        np = p\n",
    "    p_dict = {'title':np['title'],'journal':np['journal']['title'],'dataset':np['search_term']}\n",
    "    p_dict_df = p_dict\n",
    "    try:\n",
    "        author_list = np['author_affiliations'][0]\n",
    "        author_values = []\n",
    "        temp_df = pd.DataFrame()\n",
    "        for a in author_list:\n",
    "            the_name = a['first_name']+ ' '+a['last_name']+ ', '+a['affiliations'][0]['name']\n",
    "            auth_dict = {'first_name':a['first_name'],'last_name':a['last_name'],'affiliation':a['affiliations'][0]['name']}\n",
    "            author_values.append(the_name)\n",
    "        auth_final = \",\".join(author_values)\n",
    "        p_dict_df.update({'authors':auth_final})\n",
    "        p_df = pd.DataFrame(p_dict_df,index=[0])\n",
    "        temp_df = temp_df.append(p_df, ignore_index=True)\n",
    "            \n",
    "#             p_dict.update({'authors':author_values})\n",
    "#             publications_md.append(p_dict)\n",
    "        final_df = final_df.append(temp_df,ignore_index = True)\n",
    "    except:\n",
    "        pass"
   ]
  },
  {
   "cell_type": "code",
   "execution_count": 237,
   "metadata": {},
   "outputs": [],
   "source": [
    "final_df = final_df.drop_duplicates()"
   ]
  },
  {
   "cell_type": "code",
   "execution_count": 238,
   "metadata": {},
   "outputs": [],
   "source": [
    "# final_df_export = final_df[['title','journal','first_name','last_name','affiliation','dataset']]\n",
    "final_df.to_csv('ncses_example_linkages.csv')"
   ]
  },
  {
   "cell_type": "code",
   "execution_count": 239,
   "metadata": {},
   "outputs": [],
   "source": [
    "# final_df"
   ]
  },
  {
   "cell_type": "code",
   "execution_count": null,
   "metadata": {},
   "outputs": [],
   "source": []
  }
 ],
 "metadata": {
  "kernelspec": {
   "display_name": "Python 3",
   "language": "python",
   "name": "python3"
  },
  "language_info": {
   "codemirror_mode": {
    "name": "ipython",
    "version": 3
   },
   "file_extension": ".py",
   "mimetype": "text/x-python",
   "name": "python",
   "nbconvert_exporter": "python",
   "pygments_lexer": "ipython3",
   "version": "3.7.3"
  }
 },
 "nbformat": 4,
 "nbformat_minor": 2
}
