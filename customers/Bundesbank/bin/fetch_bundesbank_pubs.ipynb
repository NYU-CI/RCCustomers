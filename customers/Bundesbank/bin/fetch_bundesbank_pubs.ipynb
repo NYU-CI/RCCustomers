{
 "cells": [
  {
   "cell_type": "code",
   "execution_count": 33,
   "metadata": {},
   "outputs": [],
   "source": [
    "import json"
   ]
  },
  {
   "cell_type": "code",
   "execution_count": 40,
   "metadata": {},
   "outputs": [],
   "source": [
    "def read_publications():\n",
    "    pubs_path = \"/Users/sophierand/RCPublications/publications.json\"\n",
    "    with open(pubs_path) as json_file:\n",
    "        publications = json.load(json_file)\n",
    "    return publications\n",
    "\n",
    "def read_bb_datasets():\n",
    "    bb_path = '/Users/sophierand/RCCustomers/customers/Bundesbank/exports/bb_datasets_list.json'\n",
    "    with open(bb_path) as json_file:\n",
    "        bb_datasets = json.load(json_file)\n",
    "    return bb_datasets"
   ]
  },
  {
   "cell_type": "code",
   "execution_count": 41,
   "metadata": {},
   "outputs": [],
   "source": [
    "publications = read_publications()\n",
    "bb_datasets = read_bb_datasets()"
   ]
  },
  {
   "cell_type": "code",
   "execution_count": 42,
   "metadata": {},
   "outputs": [],
   "source": [
    "bb_ids = list(set([b['id'] for b in bb_datasets]))"
   ]
  },
  {
   "cell_type": "code",
   "execution_count": 43,
   "metadata": {},
   "outputs": [],
   "source": [
    "# [p for p in publications if p['datasets'] in bb_ids]"
   ]
  },
  {
   "cell_type": "code",
   "execution_count": 44,
   "metadata": {},
   "outputs": [],
   "source": [
    "bb_pubs = []\n",
    "for i,p in enumerate(publications):\n",
    "    p_ds = p['datasets']\n",
    "    for d in p_ds:\n",
    "        if d in bb_ids:\n",
    "            bb_pubs.append(p)"
   ]
  },
  {
   "cell_type": "code",
   "execution_count": 47,
   "metadata": {},
   "outputs": [
    {
     "data": {
      "text/plain": [
       "{'title': 'How does P2P lending fit into the consumer credit market?',\n",
       " 'datasets': ['dataset-012'],\n",
       " 'original': {'bbk_dataset': 'ZISTA',\n",
       "  'doi': '10.2139/ssrn.2756191 ',\n",
       "  'authors': 'Tasca P., de Roure C., Pelizzon L.',\n",
       "  'paper': 'Discussion_Paper_Tasca_deRoure_Pelizzon',\n",
       "  'journal': 'BBk Discussion Paper',\n",
       "  'url': 'https://ssrn.com/abstract=2756191',\n",
       "  'date_added': '2019-11-11 12:31:11'}}"
      ]
     },
     "execution_count": 47,
     "metadata": {},
     "output_type": "execute_result"
    }
   ],
   "source": [
    "bb_pubs[0]"
   ]
  },
  {
   "cell_type": "code",
   "execution_count": 48,
   "metadata": {},
   "outputs": [],
   "source": [
    "# publications"
   ]
  },
  {
   "cell_type": "code",
   "execution_count": 51,
   "metadata": {},
   "outputs": [],
   "source": [
    "bb_pubs_path = '/Users/sophierand/RCCustomers/customers/Bundesbank/exports/bundesbank_pubs.json'\n",
    "\n",
    "with open(bb_pubs_path,'w') as json_file:\n",
    "    bb_datasets = json.dump(bb_pubs,json_file,indent =2 )\n",
    "    \n",
    "    \n",
    "# #     usda_datasets_path = os.path.dirname(os.path.abspath(os.getcwd()))+'/exports/usda_datasets_list.json'\n",
    "# with open(usda_datasets_path, 'w') as outfile:\n",
    "#     json.dump(usda_datasets, outfile, indent=2)"
   ]
  },
  {
   "cell_type": "code",
   "execution_count": 52,
   "metadata": {},
   "outputs": [
    {
     "data": {
      "text/plain": [
       "370"
      ]
     },
     "execution_count": 52,
     "metadata": {},
     "output_type": "execute_result"
    }
   ],
   "source": [
    "len(bb_pubs)"
   ]
  },
  {
   "cell_type": "code",
   "execution_count": null,
   "metadata": {},
   "outputs": [],
   "source": []
  }
 ],
 "metadata": {
  "kernelspec": {
   "display_name": "Python 3",
   "language": "python",
   "name": "python3"
  },
  "language_info": {
   "codemirror_mode": {
    "name": "ipython",
    "version": 3
   },
   "file_extension": ".py",
   "mimetype": "text/x-python",
   "name": "python",
   "nbconvert_exporter": "python",
   "pygments_lexer": "ipython3",
   "version": "3.7.3"
  }
 },
 "nbformat": 4,
 "nbformat_minor": 2
}
