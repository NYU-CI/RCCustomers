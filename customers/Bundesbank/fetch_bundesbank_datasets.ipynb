{
 "cells": [
  {
   "cell_type": "code",
   "execution_count": 1,
   "metadata": {},
   "outputs": [],
   "source": [
    "import os\n",
    "import json"
   ]
  },
  {
   "cell_type": "markdown",
   "metadata": {},
   "source": [
    "### Extract dataset mentions by looking at datasets"
   ]
  },
  {
   "cell_type": "code",
   "execution_count": 3,
   "metadata": {},
   "outputs": [],
   "source": [
    "def read_datasets_listing():\n",
    "    datasets_path = \"/Users/sophierand/RCDatasets/datasets.json\"\n",
    "    with open(datasets_path) as json_file:\n",
    "        datasets = json.load(json_file)\n",
    "    return datasets"
   ]
  },
  {
   "cell_type": "code",
   "execution_count": 4,
   "metadata": {},
   "outputs": [],
   "source": [
    "datasets = read_datasets_listing()"
   ]
  },
  {
   "cell_type": "code",
   "execution_count": 10,
   "metadata": {},
   "outputs": [],
   "source": [
    "bb_datasets = list(set([d['id'] for d in datasets if d['provider'] == \"Deutsche Bundesbank\"]))"
   ]
  },
  {
   "cell_type": "code",
   "execution_count": 11,
   "metadata": {},
   "outputs": [
    {
     "data": {
      "text/plain": [
       "['dataset-387',\n",
       " 'dataset-385',\n",
       " 'dataset-005',\n",
       " 'dataset-381',\n",
       " 'dataset-003',\n",
       " 'dataset-013',\n",
       " 'dataset-006',\n",
       " 'dataset-004',\n",
       " 'dataset-007',\n",
       " 'dataset-011',\n",
       " 'dataset-009',\n",
       " 'dataset-380',\n",
       " 'dataset-015',\n",
       " 'dataset-431',\n",
       " 'dataset-388',\n",
       " 'dataset-008',\n",
       " 'dataset-386',\n",
       " 'dataset-010',\n",
       " 'dataset-012',\n",
       " 'dataset-383',\n",
       " 'dataset-382',\n",
       " 'dataset-384',\n",
       " 'dataset-014']"
      ]
     },
     "execution_count": 11,
     "metadata": {},
     "output_type": "execute_result"
    }
   ],
   "source": [
    "bb_datasets"
   ]
  },
  {
   "cell_type": "code",
   "execution_count": 2,
   "metadata": {},
   "outputs": [],
   "source": [
    "customer_name = 'U.S. Department of Agriculture'\n",
    "customer_alias = 'usda'"
   ]
  },
  {
   "cell_type": "code",
   "execution_count": 2,
   "metadata": {},
   "outputs": [
    {
     "data": {
      "text/plain": [
       "[]"
      ]
     },
     "execution_count": 2,
     "metadata": {},
     "output_type": "execute_result"
    }
   ],
   "source": [
    "usda_partitions = [os.path.join('/Users/sophierand/RCPublications/partitions',f) for f in os.listdir('/Users/sophierand/RCPublications/partitions') if f.endswith('.json') and 'bundesbank' in f]\n",
    "usda_partitions"
   ]
  },
  {
   "cell_type": "code",
   "execution_count": 4,
   "metadata": {},
   "outputs": [],
   "source": [
    "def flatten(l):\n",
    "    fl = [item for sublist in l for item in sublist]\n",
    "    return fl\n",
    "\n",
    "def read_partitions(partitions):\n",
    "    pub_list = []\n",
    "    for p in partitions:\n",
    "        with open(p) as json_file:\n",
    "            partition = json.load(json_file)\n",
    "            pub_list.append(partition)\n",
    "    pub_list = flatten(pub_list)\n",
    "    return pub_list\n",
    "\n",
    "def extract_datasets(publication_data):\n",
    "    datasets = []\n",
    "    publication_datasets = [d['datasets'] for d in publication_data]\n",
    "    for i in publication_datasets:\n",
    "        datasets += i\n",
    "    datasets = list(set(datasets))\n",
    "    return datasets"
   ]
  },
  {
   "cell_type": "code",
   "execution_count": 5,
   "metadata": {},
   "outputs": [],
   "source": [
    "usda_pubs = read_partitions(usda_partitions)\n",
    "datasets_publication = extract_datasets(usda_pubs)"
   ]
  },
  {
   "cell_type": "markdown",
   "metadata": {},
   "source": [
    "#### Extract datasets by looking at the `provider` field in `datasets.json`"
   ]
  },
  {
   "cell_type": "code",
   "execution_count": 6,
   "metadata": {},
   "outputs": [],
   "source": [
    "def datasets_by_provider(datasets,provider_name):\n",
    "    datasets = list(set([d['id'] for d in datasets if d['provider'] == provider_name]))\n",
    "    return datasets\n",
    "def read_datasets_listing():\n",
    "    datasets_path = \"/Users/sophierand/RCDatasets/datasets.json\"\n",
    "    with open(datasets_path) as json_file:\n",
    "        datasets = json.load(json_file)\n",
    "    return datasets"
   ]
  },
  {
   "cell_type": "code",
   "execution_count": 7,
   "metadata": {},
   "outputs": [],
   "source": [
    "datasets = read_datasets_listing()"
   ]
  },
  {
   "cell_type": "code",
   "execution_count": 8,
   "metadata": {},
   "outputs": [],
   "source": [
    "datasets_provider = datasets_by_provider(datasets = datasets, provider_name = customer_name)"
   ]
  },
  {
   "cell_type": "markdown",
   "metadata": {},
   "source": [
    "#### Extract datasets by looking at customers.json"
   ]
  },
  {
   "cell_type": "code",
   "execution_count": 9,
   "metadata": {},
   "outputs": [],
   "source": [
    "customers_path = \"/Users/sophierand/RCCustomers/customers.json\"\n",
    "with open(customers_path) as json_file:\n",
    "    customers = json.load(json_file)\n"
   ]
  },
  {
   "cell_type": "code",
   "execution_count": 10,
   "metadata": {},
   "outputs": [],
   "source": [
    "customers_datasets = flatten([d['datasets'] for d in customers if d['name']=='U.S. Department of Agriculture'])\n",
    "# customers_datasets"
   ]
  },
  {
   "cell_type": "markdown",
   "metadata": {},
   "source": [
    "#### Combine datasets"
   ]
  },
  {
   "cell_type": "code",
   "execution_count": 11,
   "metadata": {},
   "outputs": [],
   "source": [
    "usda_datasets = list(set(datasets_provider+datasets_publication+customers_datasets))"
   ]
  },
  {
   "cell_type": "code",
   "execution_count": 26,
   "metadata": {},
   "outputs": [],
   "source": [
    "import os"
   ]
  },
  {
   "cell_type": "code",
   "execution_count": 25,
   "metadata": {},
   "outputs": [],
   "source": [
    "# usda_datasets_path = 'usda_datasets_list.json'\n",
    "usda_datasets_path = os.path.dirname(os.path.abspath(os.getcwd()))+'/exports/usda_datasets_list.json'\n",
    "with open(usda_datasets_path, 'w') as outfile:\n",
    "    json.dump(usda_datasets, outfile, indent=2)"
   ]
  },
  {
   "cell_type": "code",
   "execution_count": 15,
   "metadata": {},
   "outputs": [],
   "source": [
    "# customers = {'name':customer_name,'alias':customer_alias,'datasets':usda_datasets}"
   ]
  },
  {
   "cell_type": "code",
   "execution_count": 16,
   "metadata": {},
   "outputs": [],
   "source": [
    "# json_cust_path = 'customerspublications.json'"
   ]
  },
  {
   "cell_type": "code",
   "execution_count": null,
   "metadata": {},
   "outputs": [],
   "source": [
    "# with open(json_pub_path, 'w') as outfile:\n",
    "#     json.dump(linkage_list, outfile, indent=2)"
   ]
  },
  {
   "cell_type": "code",
   "execution_count": null,
   "metadata": {},
   "outputs": [],
   "source": []
  }
 ],
 "metadata": {
  "kernelspec": {
   "display_name": "Python 3",
   "language": "python",
   "name": "python3"
  },
  "language_info": {
   "codemirror_mode": {
    "name": "ipython",
    "version": 3
   },
   "file_extension": ".py",
   "mimetype": "text/x-python",
   "name": "python",
   "nbconvert_exporter": "python",
   "pygments_lexer": "ipython3",
   "version": "3.7.3"
  }
 },
 "nbformat": 4,
 "nbformat_minor": 2
}
