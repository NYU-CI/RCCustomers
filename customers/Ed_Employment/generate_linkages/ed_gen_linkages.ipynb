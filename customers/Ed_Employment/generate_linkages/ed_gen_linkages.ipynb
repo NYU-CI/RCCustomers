{
 "cells": [
  {
   "cell_type": "code",
   "execution_count": 109,
   "metadata": {},
   "outputs": [
    {
     "data": {
      "text/plain": [
       "<module 'RichContextApi_new' from '/Users/sophierand/RCCustomers/customers/Ed_Employment/generate_linkages/RichContextApi_new.py'>"
      ]
     },
     "execution_count": 109,
     "metadata": {},
     "output_type": "execute_result"
    }
   ],
   "source": [
    "import RichContextApi_new\n",
    "import importlib\n",
    "import json\n",
    "import re\n",
    "import os\n",
    "import pandas as pd\n",
    "importlib.reload(RichContextApi_new)"
   ]
  },
  {
   "cell_type": "code",
   "execution_count": 28,
   "metadata": {},
   "outputs": [],
   "source": [
    "ds_list = '/Users/sophierand/RCCustomers/customers/Ed_Employment/exports/dataset_list.json'\n",
    "with open(ds_list) as json_file:\n",
    "    datasets_list = json.load(json_file)"
   ]
  },
  {
   "cell_type": "code",
   "execution_count": 103,
   "metadata": {},
   "outputs": [],
   "source": [
    "def gen_folder_name(dataset_name):\n",
    "    folder_path = '/Users/sophierand/RichContextMetadata/metadata/{}_{}/'.format(date.today().strftime(\"%Y%m%d\"),re.sub(\" \",'',dataset_name))\n",
    "    folder_name = '{}_{}'.format(date.today().strftime(\"%Y%m%d\"),re.sub(\" \",'',dataset_name))\n",
    "    return folder_name\n",
    "\n",
    "def flatten(l):\n",
    "    sl = [item for sublist in l for item in sublist]\n",
    "    return sl\n",
    "    \n",
    "def gen_file_name(search_term,api_name,export_location):\n",
    "    export_file_name = re.sub(' ','',search_term+'_'+api_name+'_'+'_linkages_.json')\n",
    "    file_name = export_location+\"/\"+export_file_name\n",
    "    return file_name"
   ]
  },
  {
   "cell_type": "code",
   "execution_count": 88,
   "metadata": {},
   "outputs": [],
   "source": [
    "api_names = ['openaire','researchgate','dimensions']"
   ]
  },
  {
   "cell_type": "code",
   "execution_count": 158,
   "metadata": {},
   "outputs": [],
   "source": [
    "for i in datasets_list:\n",
    "    folder_name = gen_folder_name(dataset_name = i['title']) \n",
    "    file_path = '/Users/sophierand/RichContextMetadata/metadata/'+folder_name\n",
    "    if folder_name not in os.listdir('/Users/sophierand/RichContextMetadata/metadata'):\n",
    "#         print('making new {}'.format(file_path))\n",
    "        os.mkdir(file_path)\n",
    "        for a in api_names:\n",
    "            file_name = gen_file_name(search_term = i['title'],api_name = a,export_location = file_path)\n",
    "            ft_search = RichContextApi_new.fulltext_search(search_term = i['title'], api_name = a)\n",
    "            [f.update({'search_term':i['title'],'dataset':i['id']}) for f in ft_search]\n",
    "            json_list = []\n",
    "            if len(ft_search)>0:\n",
    "                json_list.append(ft_search)\n",
    "#                 with open(file_name, 'w') as outfile:\n",
    "#                     json.dump(ft_search, outfile,indent = 2)\n",
    "        json_list_flat = flatten(json_list)\n",
    "        json_df = pd.DataFrame(json_list_flat)\n",
    "        csv_path = file_path+'/{}_linkages.csv'.format(re.sub(\" \",\"\",i['title']))\n",
    "        json_df.to_csv(csv_path,index = False)\n",
    "        \n",
    "    else:\n",
    "        pass"
   ]
  },
  {
   "cell_type": "code",
   "execution_count": null,
   "metadata": {},
   "outputs": [],
   "source": []
  }
 ],
 "metadata": {
  "kernelspec": {
   "display_name": "Python 3",
   "language": "python",
   "name": "python3"
  },
  "language_info": {
   "codemirror_mode": {
    "name": "ipython",
    "version": 3
   },
   "file_extension": ".py",
   "mimetype": "text/x-python",
   "name": "python",
   "nbconvert_exporter": "python",
   "pygments_lexer": "ipython3",
   "version": "3.7.3"
  }
 },
 "nbformat": 4,
 "nbformat_minor": 2
}
