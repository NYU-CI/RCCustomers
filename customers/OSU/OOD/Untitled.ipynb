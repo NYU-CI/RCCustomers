{
 "cells": [
  {
   "cell_type": "code",
   "execution_count": null,
   "metadata": {},
   "outputs": [],
   "source": [
    "import pandas as pd \n",
    "import json \n",
    "from sqlalchemy import create_engine"
   ]
  },
  {
   "cell_type": "code",
   "execution_count": null,
   "metadata": {
    "comments": [
     {
      "body": [
       {
        "created": "2020-01-23T18:48:01.481Z",
        "creator": {
         "image": "https://avatars0.githubusercontent.com/u/36464752?v=4",
         "name": "Benjamin Feder",
         "user": "benjamin-feder"
        },
        "edited": false,
        "value": "hi"
       }
      ],
      "id": "anno/1",
      "resolved": false,
      "total": 1
     }
    ]
   },
   "outputs": [],
   "source": [
    "host = 'stuffed.adrf.info' \n",
    "DB = 'appliedda'\n",
    "connection_string = 'postgresql://{}/{}'.format(host, DB)\n",
    "conn = create_engine(connection_string)"
   ]
  },
  {
   "cell_type": "code",
   "execution_count": null,
   "metadata": {},
   "outputs": [],
   "source": []
  }
 ],
 "metadata": {
  "kernelspec": {
   "display_name": "Python 3",
   "language": "python",
   "name": "python3"
  },
  "language_info": {
   "codemirror_mode": {
    "name": "ipython",
    "version": 3
   },
   "file_extension": ".py",
   "mimetype": "text/x-python",
   "name": "python",
   "nbconvert_exporter": "python",
   "pygments_lexer": "ipython3",
   "version": "3.7.3"
  }
 },
 "nbformat": 4,
 "nbformat_minor": 4
}
