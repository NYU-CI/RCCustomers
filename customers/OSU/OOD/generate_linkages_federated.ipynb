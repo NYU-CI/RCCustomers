{
 "cells": [
  {
   "cell_type": "code",
   "execution_count": 90,
   "metadata": {},
   "outputs": [
    {
     "data": {
      "text/plain": [
       "<module 'federated_searches' from '/Users/sophierand/RCCustomers/customers/OSU/federated_searches.py'>"
      ]
     },
     "execution_count": 90,
     "metadata": {},
     "output_type": "execute_result"
    }
   ],
   "source": [
    "# import richcontext.scholapi\n",
    "from richcontext import scholapi as rc_scholapi\n",
    "import federated_searches\n",
    "import importlib\n",
    "importlib.reload(federated_searches)"
   ]
  },
  {
   "cell_type": "code",
   "execution_count": 116,
   "metadata": {},
   "outputs": [],
   "source": [
    "\n",
    "def main(search_term,limit):\n",
    "    schol = rc_scholapi.ScholInfraAPI(config_file=\"rc.cfg\", logger=None)\n",
    "    api_meta_list = []\n",
    "    for api in [schol.openaire, schol.dimensions]:\n",
    "        results = api.full_text_search(search_term = search_term,limit = limit)\n",
    "        if api == schol.openaire:\n",
    "            meta = federated_searches.parse_oa(results)\n",
    "        if api == schol.dimensions:\n",
    "            meta = federated_searches.parse_dimensions(results)\n",
    "        if meta:\n",
    "            [m.update({\"search_term\":search_term}) for m in meta]\n",
    "            api_meta_list.extend(meta)\n",
    "    if len(api_meta_list) > 0:\n",
    "        return api_meta_list\n",
    "    if api_meta_list == []:\n",
    "        print('No results for that search term')\n",
    "        return None\n",
    "    \n",
    "def export(meta_list):\n",
    "    file_name = \"{}_{}_linkages.json\".format(datetime.date.today().strftime(\"%Y%m%d\"),search_term)\n",
    "    print('Writing results to {}'.format(file_name))\n",
    "    with open(file_name, 'w') as outfile:\n",
    "        json.dump(a, outfile,indent = 2)"
   ]
  },
  {
   "cell_type": "code",
   "execution_count": 105,
   "metadata": {},
   "outputs": [],
   "source": [
    "a = main(search_term = \"NHANES\", limit = 2)"
   ]
  },
  {
   "cell_type": "code",
   "execution_count": null,
   "metadata": {},
   "outputs": [],
   "source": []
  },
  {
   "cell_type": "code",
   "execution_count": 112,
   "metadata": {},
   "outputs": [],
   "source": [
    "import datetime\n",
    "import json"
   ]
  },
  {
   "cell_type": "code",
   "execution_count": 115,
   "metadata": {},
   "outputs": [],
   "source": [
    "file_name = \"{}_{}_linkages.json\".format(datetime.date.today().strftime(\"%Y%m%d\"),search_term)"
   ]
  },
  {
   "cell_type": "code",
   "execution_count": 114,
   "metadata": {},
   "outputs": [],
   "source": [
    "with open(file_name, 'w') as outfile:\n",
    "    json.dump(a, outfile,indent = 2)"
   ]
  },
  {
   "cell_type": "code",
   "execution_count": null,
   "metadata": {},
   "outputs": [],
   "source": []
  },
  {
   "cell_type": "code",
   "execution_count": 46,
   "metadata": {},
   "outputs": [],
   "source": [
    "# def federated_full_text_search(schol, api, limit, search_term):\n",
    "#     if api == \"openaire\":\n",
    "#         search_results = schol.openaire.fulltext_search(search_term = search_term, limit = limit)\n",
    "#         return search_results\n",
    "#     if api == \"pubmed\":\n",
    "#         search_results = schol.pubmed.fulltext_search(search_term = search_term, limit = limit)\n",
    "#         if isinstance(search_results,list):\n",
    "#             meta_list = []\n",
    "#             for m in search_results:\n",
    "#                 meta = schol.pubmed.parse_pubmed_metadata(pubmed_result = m)                \n",
    "#                 meta_list.append(meta)\n",
    "#             return meta_list\n",
    "#     if api == \"dimensions\":\n",
    "#         search_results = schol.dimensions.full_text_search(search_term = search_term,limit = limit)\n",
    "#         meta_list = []\n",
    "#         for m in search_results:\n",
    "#             md = federated_searches.parse_dimensions(m)\n",
    "#             if md:\n",
    "#                 meta_list.append(md)\n",
    "#         return meta_list"
   ]
  },
  {
   "cell_type": "code",
   "execution_count": 62,
   "metadata": {},
   "outputs": [],
   "source": [
    "search_term = 'NHANES'\n",
    "limit = 10\n",
    "schol = rc_scholapi.ScholInfraAPI(config_file=\"rc.cfg\", logger=None)\n"
   ]
  },
  {
   "cell_type": "code",
   "execution_count": 48,
   "metadata": {},
   "outputs": [
    {
     "ename": "AttributeError",
     "evalue": "'ScholInfra_OpenAIRE' object has no attribute 'fulltext_search'",
     "output_type": "error",
     "traceback": [
      "\u001b[0;31m---------------------------------------------------------------------------\u001b[0m",
      "\u001b[0;31mAttributeError\u001b[0m                            Traceback (most recent call last)",
      "\u001b[0;32m<ipython-input-48-257f8d2a1547>\u001b[0m in \u001b[0;36m<module>\u001b[0;34m\u001b[0m\n\u001b[0;32m----> 1\u001b[0;31m \u001b[0ma\u001b[0m \u001b[0;34m=\u001b[0m \u001b[0mfederated_full_text_search\u001b[0m\u001b[0;34m(\u001b[0m\u001b[0mschol\u001b[0m \u001b[0;34m=\u001b[0m \u001b[0mschol\u001b[0m\u001b[0;34m,\u001b[0m \u001b[0mapi\u001b[0m \u001b[0;34m=\u001b[0m \u001b[0;34m'openaire'\u001b[0m\u001b[0;34m,\u001b[0m \u001b[0mlimit\u001b[0m \u001b[0;34m=\u001b[0m \u001b[0;36m10\u001b[0m\u001b[0;34m,\u001b[0m \u001b[0msearch_term\u001b[0m \u001b[0;34m=\u001b[0m \u001b[0msearch_term\u001b[0m\u001b[0;34m)\u001b[0m\u001b[0;34m\u001b[0m\u001b[0;34m\u001b[0m\u001b[0m\n\u001b[0m",
      "\u001b[0;32m<ipython-input-31-225412b02f53>\u001b[0m in \u001b[0;36mfederated_full_text_search\u001b[0;34m(schol, api, limit, search_term)\u001b[0m\n\u001b[1;32m      1\u001b[0m \u001b[0;32mdef\u001b[0m \u001b[0mfederated_full_text_search\u001b[0m\u001b[0;34m(\u001b[0m\u001b[0mschol\u001b[0m\u001b[0;34m,\u001b[0m \u001b[0mapi\u001b[0m\u001b[0;34m,\u001b[0m \u001b[0mlimit\u001b[0m\u001b[0;34m,\u001b[0m \u001b[0msearch_term\u001b[0m\u001b[0;34m)\u001b[0m\u001b[0;34m:\u001b[0m\u001b[0;34m\u001b[0m\u001b[0;34m\u001b[0m\u001b[0m\n\u001b[1;32m      2\u001b[0m     \u001b[0;32mif\u001b[0m \u001b[0mapi\u001b[0m \u001b[0;34m==\u001b[0m \u001b[0;34m\"openaire\"\u001b[0m\u001b[0;34m:\u001b[0m\u001b[0;34m\u001b[0m\u001b[0;34m\u001b[0m\u001b[0m\n\u001b[0;32m----> 3\u001b[0;31m         \u001b[0msearch_results\u001b[0m \u001b[0;34m=\u001b[0m \u001b[0mschol\u001b[0m\u001b[0;34m.\u001b[0m\u001b[0mopenaire\u001b[0m\u001b[0;34m.\u001b[0m\u001b[0mfulltext_search\u001b[0m\u001b[0;34m(\u001b[0m\u001b[0msearch_term\u001b[0m \u001b[0;34m=\u001b[0m \u001b[0msearch_term\u001b[0m\u001b[0;34m,\u001b[0m \u001b[0mlimit\u001b[0m \u001b[0;34m=\u001b[0m \u001b[0mlimit\u001b[0m\u001b[0;34m)\u001b[0m\u001b[0;34m\u001b[0m\u001b[0;34m\u001b[0m\u001b[0m\n\u001b[0m\u001b[1;32m      4\u001b[0m         \u001b[0;32mreturn\u001b[0m \u001b[0msearch_results\u001b[0m\u001b[0;34m\u001b[0m\u001b[0;34m\u001b[0m\u001b[0m\n\u001b[1;32m      5\u001b[0m     \u001b[0;32mif\u001b[0m \u001b[0mapi\u001b[0m \u001b[0;34m==\u001b[0m \u001b[0;34m\"pubmed\"\u001b[0m\u001b[0;34m:\u001b[0m\u001b[0;34m\u001b[0m\u001b[0;34m\u001b[0m\u001b[0m\n",
      "\u001b[0;31mAttributeError\u001b[0m: 'ScholInfra_OpenAIRE' object has no attribute 'fulltext_search'"
     ]
    }
   ],
   "source": [
    "a = federated_full_text_search(schol = schol, api = 'openaire', limit = 10, search_term = search_term)"
   ]
  },
  {
   "cell_type": "code",
   "execution_count": 63,
   "metadata": {},
   "outputs": [],
   "source": [
    "search_results = schol.openaire.full_text_search(search_term = search_term, limit = 2)"
   ]
  },
  {
   "cell_type": "code",
   "execution_count": 65,
   "metadata": {},
   "outputs": [],
   "source": [
    "# meta = federated_searches.parse_dimensions(search_results)"
   ]
  },
  {
   "cell_type": "code",
   "execution_count": 56,
   "metadata": {},
   "outputs": [
    {
     "data": {
      "text/plain": [
       "2"
      ]
     },
     "execution_count": 56,
     "metadata": {},
     "output_type": "execute_result"
    }
   ],
   "source": [
    "len(search_results)"
   ]
  },
  {
   "cell_type": "code",
   "execution_count": 71,
   "metadata": {},
   "outputs": [],
   "source": [
    "search_results = schol.openaire.full_text_search(search_term = search_term, limit = 2)\n",
    "meta = federated_searches.parse_oa(search_results)"
   ]
  },
  {
   "cell_type": "code",
   "execution_count": 74,
   "metadata": {},
   "outputs": [],
   "source": [
    "\n",
    "# import pandas as pd\n",
    "# pd.DataFrame(meta)"
   ]
  },
  {
   "cell_type": "code",
   "execution_count": 77,
   "metadata": {},
   "outputs": [
    {
     "data": {
      "text/plain": [
       "{'title': 'Additional file 1: of Diet quality trends among adults with diabetes by socioeconomic status in the U.S.: 1999–2014',\n",
       " 'url': 'http://dx.doi.org/10.6084/m9.figshare.8215127',\n",
       " 'authors': ['Orr, Colin',\n",
       "  'Keyserling, Thomas',\n",
       "  'Ammerman, Alice',\n",
       "  'Berkowitz, Seth'],\n",
       " 'open': False,\n",
       " 'api': 'openaire'}"
      ]
     },
     "execution_count": 77,
     "metadata": {},
     "output_type": "execute_result"
    }
   ],
   "source": [
    "dict(meta[0])"
   ]
  },
  {
   "cell_type": "code",
   "execution_count": null,
   "metadata": {},
   "outputs": [],
   "source": []
  }
 ],
 "metadata": {
  "kernelspec": {
   "display_name": "Python 3",
   "language": "python",
   "name": "python3"
  },
  "language_info": {
   "codemirror_mode": {
    "name": "ipython",
    "version": 3
   },
   "file_extension": ".py",
   "mimetype": "text/x-python",
   "name": "python",
   "nbconvert_exporter": "python",
   "pygments_lexer": "ipython3",
   "version": "3.7.3"
  }
 },
 "nbformat": 4,
 "nbformat_minor": 2
}
