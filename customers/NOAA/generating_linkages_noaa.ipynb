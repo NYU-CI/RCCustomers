{
 "cells": [
  {
   "cell_type": "markdown",
   "metadata": {},
   "source": [
    "## Generating Linkages\n",
    "This notebook generates potential linkages between datasets and publications by running full text searches through various APIs. The search terms used are dataset `titles` (dataset `alt_titles` can also be used, though they are not here). NOAA datasets are used in this example."
   ]
  },
  {
   "cell_type": "code",
   "execution_count": 15,
   "metadata": {},
   "outputs": [],
   "source": [
    "import os\n",
    "import json\n",
    "import pandas as pd\n",
    "import re\n",
    "import importlib\n",
    "import requests\n",
    "import dimcli\n",
    "from bs4 import BeautifulSoup\n",
    "from collections import OrderedDict\n",
    "import datetime\n",
    "import richcontext.scholapi as scholapi\n",
    "# importlib.reload(scholapi)"
   ]
  },
  {
   "cell_type": "markdown",
   "metadata": {},
   "source": [
    "#### Create and instance of the scholapi class from the richcontext.scholapi library (`scholapi`)"
   ]
  },
  {
   "cell_type": "code",
   "execution_count": 3,
   "metadata": {},
   "outputs": [],
   "source": [
    "schol = scholapi.ScholInfraAPI(config_file=\"rc.cfg\")"
   ]
  },
  {
   "cell_type": "markdown",
   "metadata": {},
   "source": [
    "#### Read in datasets and filter to those for a specific client"
   ]
  },
  {
   "cell_type": "code",
   "execution_count": 4,
   "metadata": {},
   "outputs": [],
   "source": [
    "with open('/Users/sophierand/RCDatasets/datasets.json') as json_file:\n",
    "    datasets = json.load(json_file) "
   ]
  },
  {
   "cell_type": "code",
   "execution_count": 5,
   "metadata": {},
   "outputs": [],
   "source": [
    "with open('/Users/sophierand/RCCustomers/customers.json') as json_file:\n",
    "    customers = json.load(json_file) "
   ]
  },
  {
   "cell_type": "code",
   "execution_count": 14,
   "metadata": {},
   "outputs": [],
   "source": [
    "noaa_datasets = [c['datasets'] for c in customers if c['name'] == 'NOAA'][0]\n",
    "# noaa_datasets"
   ]
  },
  {
   "cell_type": "markdown",
   "metadata": {},
   "source": [
    "### Full Text Search Functions"
   ]
  },
  {
   "cell_type": "code",
   "execution_count": 6,
   "metadata": {},
   "outputs": [],
   "source": [
    "def parse_api_results(n,api_name,nresults):\n",
    "    s_term = n[\"title\"]\n",
    "    s_id = n[\"id\"]\n",
    "\n",
    "    if api_name == \"openaire\":\n",
    "        search_results = schol.openaire.full_text_search(search_term = s_term, nresults = nresults)\n",
    "\n",
    "    if api_name == \"pubmed\":\n",
    "        search_results = schol.pubmed.full_text_search(search_term = s_term, nresults = nresults)\n",
    "    \n",
    "    if api_name == \"dimensions\":\n",
    "        search_results = schol.dimensions.full_text_search(search_term = s_term,nresults = nresults)\n",
    "\n",
    "    if search_results:\n",
    "        if isinstance(search_results,list) and len(search_results) > 0:\n",
    "            meta_list = []\n",
    "            for m in search_results:\n",
    "                if api_name == \"openaire\":\n",
    "                    meta = schol.openaire.parse_oa(result = m)\n",
    "                if api_name == \"pubmed\":\n",
    "                    meta = schol.pubmed.parse_pubmed(result = m)\n",
    "                if api_name == \"dimensions\":\n",
    "                    meta = schol.dimensions.parse_dimensions(result = m)\n",
    "                if meta:\n",
    "                    meta_list.append(meta)\n",
    "\n",
    "\n",
    "            return meta_list\n",
    "    elif not search_results:\n",
    "        print('no results for search term {} from API {}'.format(s_term, api_name))\n",
    "        return None\n",
    "\n",
    "def convert_md_list(n,meta_list):\n",
    "    s_term = n[\"title\"]\n",
    "    s_id = n[\"id\"]\n",
    "    if len(meta_list) > 0:\n",
    "        df = pd.DataFrame(meta_list)\n",
    "        df[\"authors\"] = df['authors'].apply(lambda x:', '.join(x) if isinstance(x,list) else x)\n",
    "        df['search_term'] = s_term\n",
    "        df['dataset_id'] = s_id\n",
    "        return df\n",
    "\n",
    "def export_linkages(df,s_term,api_name):\n",
    "    folder_name = \"/Users/sophierand/RichContextMetadata/metadata/{}_{}_{}\".format(datetime.date.today().strftime(\"%Y%m%d\"),api_name,re.sub(\" \",\"\",s_term))\n",
    "    path_name = folder_name + \"/{}.csv\".format(re.sub(\" \",\"\",s_term))\n",
    "    if not os.path.exists(folder_name):\n",
    "        os.mkdir(folder_name)\n",
    "    df.to_csv(path_name,index = False, encoding='utf-8-sig')"
   ]
  },
  {
   "cell_type": "markdown",
   "metadata": {},
   "source": [
    "### Running the below cells will create exports in the RichContextMetadata/metadata folder"
   ]
  },
  {
   "cell_type": "markdown",
   "metadata": {},
   "source": [
    "#### OpenAire"
   ]
  },
  {
   "cell_type": "code",
   "execution_count": 44,
   "metadata": {},
   "outputs": [],
   "source": [
    "oa_ds_names = ['National Data Buoy Center',\n",
    " 'Long Range Forecasts',\n",
    " 'Local Climatological Data',\n",
    " 'Local Climate Analysis Tool Data',\n",
    " 'Integrated Surface Database',\n",
    " 'Global Precipitation Measurement',\n",
    " 'Global Historical Climatology Network',\n",
    " 'Global Forecast System',\n",
    " 'ERA5 Reanalysis',\n",
    " 'Digital Forecast Database',\n",
    " 'Digital Elevation Model Data',\n",
    " 'Coastal Topographic Lidar',\n",
    " 'Coastal Flood Frequency',\n",
    " 'Coastal Change Analysis Program Data',\n",
    " 'Climate Resilience Screening Index and Domain Scores',\n",
    " 'Billion-Dollar Weather and Climate Disasters',\n",
    " 'Applied Climate Information System',\n",
    " 'Next Generation Weather Radar',\n",
    " 'Shuttle Radar Topography Mission',\n",
    " 'Global Precipitation Measurement',\n",
    " 'Global Historical Climatology Network',\n",
    " 'Tidal Datum',\n",
    " 'Long Range Forecasts']\n",
    "oa_ds = [d for d in datasets if d['title'] in oa_ds_names]"
   ]
  },
  {
   "cell_type": "code",
   "execution_count": 18,
   "metadata": {},
   "outputs": [],
   "source": [
    "m = schol.openaire.full_text_search(search_term = \"Sea Level Rise\",nresults = 5)"
   ]
  },
  {
   "cell_type": "code",
   "execution_count": 20,
   "metadata": {},
   "outputs": [],
   "source": [
    "# m[0]"
   ]
  },
  {
   "cell_type": "code",
   "execution_count": 45,
   "metadata": {},
   "outputs": [],
   "source": [
    "for n in oa_ds:\n",
    "    s_term = n[\"title\"]\n",
    "    s_id = n[\"id\"]\n",
    "    meta_list = parse_api_results(n = n, api_name = 'openaire',nresults = 100)\n",
    "    if meta_list:\n",
    "        df = convert_md_list(n = n, meta_list = meta_list)\n",
    "        if df is not None and len(df) > 0:\n",
    "            export_linkages(df = df, s_term = s_term ,api_name = 'openaire')"
   ]
  },
  {
   "cell_type": "markdown",
   "metadata": {},
   "source": [
    "#### Pubmed"
   ]
  },
  {
   "cell_type": "code",
   "execution_count": 78,
   "metadata": {},
   "outputs": [],
   "source": [
    "meta_full = schol.pubmed.full_text_search(search_term = \"Sea Level Rise Inundation\")"
   ]
  },
  {
   "cell_type": "markdown",
   "metadata": {},
   "source": [
    "re-exporting for csvs that were too large"
   ]
  },
  {
   "cell_type": "code",
   "execution_count": 16,
   "metadata": {},
   "outputs": [],
   "source": [
    "# noaa_ids = [\n",
    "#     \"dataset-612\",\"dataset-613\",\"dataset-620\",\"dataset-615\",\"dataset-616\",\"dataset-624\",\"dataset-622\",\n",
    "#     \"dataset-611\",\"dataset-621\",\"dataset-614\",\"dataset-610\",\"dataset-623\",\"dataset-618\" \n",
    "#             ]\n",
    "# noaa_datasets_sub_pubmed = [d for d in noaa_datasets if d['id'] in noaa_ids]"
   ]
  },
  {
   "cell_type": "code",
   "execution_count": 64,
   "metadata": {},
   "outputs": [],
   "source": [
    "pubmed_ds_names = [\n",
    " 'Coastal Topographic Lidar',\n",
    " 'Sea Level Rise Inundation',\n",
    " 'Tidal Datum',\n",
    " 'Integrated Surface Database',\n",
    " 'Coastal Flood Frequency',\n",
    " 'National Land Cover Database',\n",
    " 'US Interagency Elevation Inventory',\n",
    " 'Global Forecast System']\n",
    "pubmed_ds = [d for d in datasets if d['title'] in pubmed_ds_names]\n",
    "pubmed_ds.extend([{\"title\":\"NEXRAD\",\"id\":\"dataset-612\"},{\"id\":\"dataset-610\",\"title\":\"Sea Level Rise Data\"}])\n",
    "# pubmed_ds"
   ]
  },
  {
   "cell_type": "code",
   "execution_count": 76,
   "metadata": {},
   "outputs": [
    {
     "name": "stdout",
     "output_type": "stream",
     "text": [
      "no results for search term US Interagency Elevation Inventory from API pubmed\n"
     ]
    }
   ],
   "source": [
    "for n in pubmed_ds:\n",
    "    s_term = n[\"title\"]\n",
    "    s_id = n[\"id\"]\n",
    "    meta_list = parse_api_results(n = n, api_name = 'pubmed',nresults = 100)\n",
    "    if meta_list:\n",
    "        df = convert_md_list(n = n, meta_list = meta_list)\n",
    "        if df is not None and len(df) > 0:\n",
    "            export_linkages(df = df, s_term = s_term ,api_name = 'pubmed')"
   ]
  },
  {
   "cell_type": "markdown",
   "metadata": {},
   "source": [
    "#### Dimensions"
   ]
  },
  {
   "cell_type": "code",
   "execution_count": 87,
   "metadata": {},
   "outputs": [],
   "source": [
    "# noaa_ids = [\n",
    "#     \"dataset-624\",\"dataset-614\",\"dataset-623\",\"dataset-613\",\"dataset-611\",\"dataset-622\"\n",
    "# ]\n",
    "# noaa_datasets_sub_dimensions = [d for d in noaa_datasets if d['id'] in noaa_ids]\n",
    "dimensions_ds_names = [\n",
    " 'Coastal Flood Frequency',\n",
    " 'Coastal Change Analysis Program Data',\n",
    " 'National Land Cover Database']\n",
    "dimensions_ds = [d for d in datasets if d['title'] in dimensions_ds_names]"
   ]
  },
  {
   "cell_type": "code",
   "execution_count": 88,
   "metadata": {},
   "outputs": [
    {
     "name": "stdout",
     "output_type": "stream",
     "text": [
      "no results for search term Coastal Change Analysis Program Data from API dimensions\n"
     ]
    }
   ],
   "source": [
    "for n in dimensions_ds:\n",
    "    s_term = n[\"title\"]\n",
    "    s_id = n[\"id\"]\n",
    "    meta_list = parse_api_results(n = n, api_name = 'dimensions',nresults = 100)\n",
    "    if meta_list:\n",
    "        df = convert_md_list(n = n, meta_list = meta_list)\n",
    "        if df is not None and len(df) > 0:\n",
    "            export_linkages(df = df, s_term = s_term ,api_name = 'dimensions')"
   ]
  },
  {
   "cell_type": "code",
   "execution_count": 80,
   "metadata": {},
   "outputs": [],
   "source": [
    "meta_full = schol.dimensions.full_text_search(search_term = \"Sea Level Rise Inundation\")"
   ]
  },
  {
   "cell_type": "markdown",
   "metadata": {},
   "source": [
    "### Single Search Term"
   ]
  },
  {
   "cell_type": "code",
   "execution_count": 50,
   "metadata": {},
   "outputs": [],
   "source": [
    "def parse_dimensions(result):\n",
    "    if result[\"type\"] in [\"article\",\"preprint\"]:\n",
    "        meta = OrderedDict()\n",
    "        meta[\"title\"] = result[\"title\"]\n",
    "        try:\n",
    "            meta[\"journal\"] = result[\"journal\"][\"title\"]\n",
    "        except:\n",
    "            pass\n",
    "        try:\n",
    "            meta[\"doi\"] = result[\"doi\"]\n",
    "        except:\n",
    "            pass\n",
    "        try:\n",
    "            author_list = result[\"authors\"]\n",
    "            meta[\"authors\"] = [b[\"last_name\"] + \", \" + b[\"first_name\"] for b in author_list]\n",
    "        except:\n",
    "            pass\n",
    "        return meta\n",
    "    else:\n",
    "        return None"
   ]
  },
  {
   "cell_type": "code",
   "execution_count": 39,
   "metadata": {},
   "outputs": [],
   "source": [
    "dimcli.login(username='sr2661@nyu.edu',\n",
    "                password='',\n",
    "                verbose=False\n",
    "                )\n",
    "api_obj = dimcli.Dsl(verbose=False)"
   ]
  },
  {
   "cell_type": "code",
   "execution_count": 42,
   "metadata": {},
   "outputs": [],
   "source": [
    "query = 'search publications for \"\\\\\"NOAA\\\\\" AND \\\\\"Social Vulnerability Index\\\\\"\" return publications[all] limit 100'\n",
    "response = api_obj.query(query)\n",
    "search_results = response.publications"
   ]
  },
  {
   "cell_type": "code",
   "execution_count": 51,
   "metadata": {},
   "outputs": [],
   "source": [
    "meta_list = []\n",
    "for m in search_results:\n",
    "    meta = parse_dimensions(result = m)\n",
    "    if meta:\n",
    "        meta_list.append(meta)\n"
   ]
  },
  {
   "cell_type": "code",
   "execution_count": 56,
   "metadata": {},
   "outputs": [],
   "source": [
    "df = pd.DataFrame(meta_list)\n",
    "df[\"authors\"] = df['authors'].apply(lambda x:', '.join(x) if isinstance(x,list) else x)\n",
    "df['search_term'] = \"NOAA AND 'Social Vulnerability Index'\"\n",
    "df['dataset_id'] = \"dataset-613\"\n",
    "# df.to_csv(\"\")"
   ]
  },
  {
   "cell_type": "code",
   "execution_count": 59,
   "metadata": {},
   "outputs": [],
   "source": [
    "folder_name = \"/Users/sophierand/RichContextMetadata/metadata/{}_dimensions_svi_noaa\".format(datetime.date.today().strftime(\"%Y%m%d\"))\n",
    "path_name = folder_name + \"/dimensions_svi_noaa.csv\"\n",
    "if not os.path.exists(folder_name):\n",
    "    os.mkdir(folder_name)\n",
    "df.to_csv(path_name,index = False, encoding='utf-8-sig')"
   ]
  },
  {
   "cell_type": "code",
   "execution_count": null,
   "metadata": {},
   "outputs": [],
   "source": [
    "query = 'search publications in full_data_exact for \"{}\" return publications[all] limit 1000'.format(search_term)"
   ]
  },
  {
   "cell_type": "code",
   "execution_count": 30,
   "metadata": {},
   "outputs": [
    {
     "data": {
      "application/json": {
       "_stats": {
        "limit": 10,
        "offset": 0,
        "total_count": 2215
       },
       "_warnings": [
        "Field 'terms' is deprecated in favor of concepts. Please refer to https://docs.dimensions.ai/dsl/releasenotes.html for more details",
        "Field 'open_access' is deprecated in favor of open_access_categories. Please refer to https://docs.dimensions.ai/dsl/releasenotes.html for more details",
        "Field 'RCDC' is deprecated in favor of category_rcdc. Please refer to https://docs.dimensions.ai/dsl/releasenotes.html for more details",
        "Field 'FOR' is deprecated in favor of category_for. Please refer to https://docs.dimensions.ai/dsl/releasenotes.html for more details",
        "Field 'author_affiliations' is deprecated in favor of authors. Please refer to https://docs.dimensions.ai/dsl/releasenotes.html for more details",
        "Field 'FOR_first' is deprecated in favor of category_for. Please refer to https://docs.dimensions.ai/dsl/releasenotes.html for more details",
        "Field 'HRCS_RAC' is deprecated in favor of category_hrcs_rac. Please refer to https://docs.dimensions.ai/dsl/releasenotes.html for more details",
        "Field 'HRCS_HC' is deprecated in favor of category_hrcs_hc. Please refer to https://docs.dimensions.ai/dsl/releasenotes.html for more details",
        "Field 'references' is deprecated in favor of reference_ids. Please refer to https://docs.dimensions.ai/dsl/releasenotes.html for more details"
       ],
       "publications": [
        {
         "FOR": [
          {
           "id": "2558",
           "name": "0502 Environmental Science and Management"
          },
          {
           "id": "2597",
           "name": "0602 Ecology"
          }
         ],
         "FOR_first": [
          {
           "id": "2205",
           "name": "05 Environmental Sciences"
          },
          {
           "id": "2206",
           "name": "06 Biological Sciences"
          }
         ],
         "HRCS_RAC": [
          {
           "id": "10202",
           "name": "2.2 Factors relating to physical environment"
          }
         ],
         "RCDC": [
          {
           "id": "429",
           "name": "Climate-Related Exposures and Conditions"
          }
         ],
         "author_affiliations": [
          [
           {
            "affiliations": [
             {
              "city": "Cambridge",
              "city_id": 4931972,
              "country": "United States",
              "country_code": "US",
              "id": "grid.38142.3c",
              "name": "Harvard University",
              "state": "Massachusetts",
              "state_code": "US-MA"
             }
            ],
            "corresponding": true,
            "current_organization_id": "",
            "first_name": "Ronnie",
            "last_name": "Levin",
            "orcid": "",
            "researcher_id": ""
           },
           {
            "affiliations": [
             {
              "city": "Cambridge",
              "city_id": 4931972,
              "country": "United States",
              "country_code": "US",
              "id": "grid.38142.3c",
              "name": "Harvard University",
              "state": "Massachusetts",
              "state_code": "US-MA"
             }
            ],
            "corresponding": "",
            "current_organization_id": "grid.38142.3c",
            "first_name": "Carolina L. Zilli",
            "last_name": "Vieira",
            "orcid": "",
            "researcher_id": "ur.01040532327.00"
           },
           {
            "affiliations": [
             {
              "name": "Wachusett Animal Hospital and Pet Retreat, Westminster, MA, 01473, USA"
             }
            ],
            "corresponding": "",
            "current_organization_id": "",
            "first_name": "Daniel C.",
            "last_name": "Mordarski",
            "orcid": "",
            "researcher_id": ""
           },
           {
            "affiliations": [
             {
              "city": "Medford",
              "city_id": 4943629,
              "country": "United States",
              "country_code": "US",
              "id": "grid.429997.8",
              "name": "Tufts University",
              "state": "Massachusetts",
              "state_code": "US-MA"
             }
            ],
            "corresponding": "",
            "current_organization_id": "",
            "first_name": "Marieke H.",
            "last_name": "Rosenbaum",
            "orcid": "",
            "researcher_id": ""
           }
          ]
         ],
         "authors": [
          {
           "affiliations": [
            {
             "city": "Cambridge",
             "city_id": 4931972,
             "country": "United States",
             "country_code": "US",
             "id": "grid.38142.3c",
             "name": "Harvard University",
             "state": "Massachusetts",
             "state_code": "US-MA"
            }
           ],
           "corresponding": true,
           "current_organization_id": "",
           "first_name": "Ronnie",
           "last_name": "Levin",
           "orcid": "",
           "researcher_id": ""
          },
          {
           "affiliations": [
            {
             "city": "Cambridge",
             "city_id": 4931972,
             "country": "United States",
             "country_code": "US",
             "id": "grid.38142.3c",
             "name": "Harvard University",
             "state": "Massachusetts",
             "state_code": "US-MA"
            }
           ],
           "corresponding": "",
           "current_organization_id": "grid.38142.3c",
           "first_name": "Carolina L. Zilli",
           "last_name": "Vieira",
           "orcid": "",
           "researcher_id": "ur.01040532327.00"
          },
          {
           "affiliations": [
            {
             "name": "Wachusett Animal Hospital and Pet Retreat, Westminster, MA, 01473, USA"
            }
           ],
           "corresponding": "",
           "current_organization_id": "",
           "first_name": "Daniel C.",
           "last_name": "Mordarski",
           "orcid": "",
           "researcher_id": ""
          },
          {
           "affiliations": [
            {
             "city": "Medford",
             "city_id": 4943629,
             "country": "United States",
             "country_code": "US",
             "id": "grid.429997.8",
             "name": "Tufts University",
             "state": "Massachusetts",
             "state_code": "US-MA"
            }
           ],
           "corresponding": "",
           "current_organization_id": "",
           "first_name": "Marieke H.",
           "last_name": "Rosenbaum",
           "orcid": "",
           "researcher_id": ""
          }
         ],
         "category_for": [
          {
           "id": "2205",
           "name": "05 Environmental Sciences"
          },
          {
           "id": "2206",
           "name": "06 Biological Sciences"
          },
          {
           "id": "2597",
           "name": "0602 Ecology"
          },
          {
           "id": "2558",
           "name": "0502 Environmental Science and Management"
          }
         ],
         "category_hrcs_rac": [
          {
           "id": "10202",
           "name": "2.2 Factors relating to physical environment"
          }
         ],
         "category_rcdc": [
          {
           "id": "429",
           "name": "Climate-Related Exposures and Conditions"
          }
         ],
         "category_ua": [
          {
           "id": "30007",
           "name": "B07 Earth Systems and Environmental Sciences"
          }
         ],
         "concepts": [
          "health of humans",
          "humans",
          "animals",
          "natural environment",
          "environment",
          "warm weather",
          "weather",
          "wild animals",
          "land",
          "water species",
          "species",
          "pristine environment",
          "evidence",
          "seasonality",
          "natural world",
          "world",
          "high temperature",
          "temperature",
          "solar radiation",
          "radiation",
          "humidity",
          "pollution results",
          "results",
          "low pH",
          "pH",
          "water",
          "soil",
          "environmental acidification",
          "acidification",
          "lead bioavailability",
          "bioavailability",
          "mobility",
          "plant exposure",
          "exposure",
          "addition",
          "biosphere",
          "high growth rate",
          "growth rate",
          "rate",
          "assessment",
          "lead",
          "data",
          "Earth system",
          "system",
          "integrated assessment",
          "human activities",
          "activity",
          "natural cyclicity",
          "cyclicity",
          "remediation strategies",
          "strategies",
          "total environment",
          "global warming",
          "warming",
          "climate change events",
          "change events",
          "events",
          "toxicity"
         ],
         "date": "2020-01-01",
         "date_inserted": "2019-10-09",
         "doi": "10.1016/j.envres.2019.108797",
         "id": "pub.1121554022",
         "issn": [
          "0013-9351",
          "1096-0953"
         ],
         "journal": {
          "id": "jour.1009554",
          "title": "Environmental Research"
         },
         "journal_lists": [
          "ERA 2015",
          "Norwegian register level 2",
          "VABB-SHW",
          "PubMed"
         ],
         "open_access_categories": [
          {
           "description": "No freely available copy has been identified",
           "id": "closed",
           "name": "Closed"
          }
         ],
         "pages": "108797",
         "pmid": "31761335",
         "publisher": "Elsevier",
         "reference_ids": [
          "pub.1024488315",
          "pub.1023866620",
          "pub.1039372862",
          "pub.1039558647",
          "pub.1050770678",
          "pub.1025867136",
          "pub.1092003699",
          "pub.1027507247",
          "pub.1046174711",
          "pub.1019304251",
          "pub.1079252717",
          "pub.1100625179",
          "pub.1076395449",
          "pub.1024720158",
          "pub.1026877508",
          "pub.1042981177",
          "pub.1072662174",
          "pub.1072360786",
          "pub.1111402483",
          "pub.1008786173",
          "pub.1077918818",
          "pub.1023096456",
          "pub.1064744318",
          "pub.1046055329",
          "pub.1083035804",
          "pub.1011608894",
          "pub.1075075727",
          "pub.1014370363",
          "pub.1030469155",
          "pub.1070459317",
          "pub.1035640230",
          "pub.1009174310",
          "pub.1039542906",
          "pub.1046034492",
          "pub.1045729405",
          "pub.1049896476",
          "pub.1022083135",
          "pub.1058430726",
          "pub.1003205702",
          "pub.1064736992",
          "pub.1055089393",
          "pub.1038723522",
          "pub.1008927274",
          "pub.1002178254",
          "pub.1052090321",
          "pub.1006553301",
          "pub.1031444695",
          "pub.1024371068",
          "pub.1027684905",
          "pub.1029879605",
          "pub.1107911302",
          "pub.1017753122",
          "pub.1043447767",
          "pub.1064742888",
          "pub.1106914275",
          "pub.1073067836",
          "pub.1044991543",
          "pub.1040976349",
          "pub.1019269726",
          "pub.1049055207",
          "pub.1001477207",
          "pub.1017800034",
          "pub.1033834874",
          "pub.1005270855",
          "pub.1067819858",
          "pub.1084758710",
          "pub.1001739105",
          "pub.1017344765",
          "pub.1004100293",
          "pub.1068848242",
          "pub.1006958305",
          "pub.1043578973",
          "pub.1025637250",
          "pub.1046865896",
          "pub.1118043451",
          "pub.1055503066",
          "pub.1024661168",
          "pub.1020367667",
          "pub.1106045725",
          "pub.1077366823",
          "pub.1038016344",
          "pub.1090738227",
          "pub.1099329805",
          "pub.1028914008",
          "pub.1035705559",
          "pub.1007860903",
          "pub.1007954693",
          "pub.1001121688",
          "pub.1117084981",
          "pub.1017660003",
          "pub.1099329796",
          "pub.1022507171",
          "pub.1005392443",
          "pub.1045970831",
          "pub.1055505414",
          "pub.1030357115",
          "pub.1019071504",
          "pub.1004943816",
          "pub.1013474531",
          "pub.1055485533",
          "pub.1035839109",
          "pub.1018794893",
          "pub.1011065069",
          "pub.1064747116",
          "pub.1037932869",
          "pub.1064741646",
          "pub.1050043489",
          "pub.1003322169",
          "pub.1026357458",
          "pub.1036183136",
          "pub.1004254540",
          "pub.1034487739",
          "pub.1034747338",
          "pub.1033395711",
          "pub.1084100101",
          "pub.1099329822",
          "pub.1031712103",
          "pub.1002787169",
          "pub.1013804714",
          "pub.1071158504",
          "pub.1036221037",
          "pub.1068871311",
          "pub.1007220189"
         ],
         "references": [
          "pub.1024488315",
          "pub.1023866620",
          "pub.1039372862",
          "pub.1039558647",
          "pub.1050770678",
          "pub.1025867136",
          "pub.1092003699",
          "pub.1027507247",
          "pub.1046174711",
          "pub.1019304251",
          "pub.1079252717",
          "pub.1100625179",
          "pub.1076395449",
          "pub.1024720158",
          "pub.1026877508",
          "pub.1042981177",
          "pub.1072662174",
          "pub.1072360786",
          "pub.1111402483",
          "pub.1008786173",
          "pub.1077918818",
          "pub.1023096456",
          "pub.1064744318",
          "pub.1046055329",
          "pub.1083035804",
          "pub.1011608894",
          "pub.1075075727",
          "pub.1014370363",
          "pub.1030469155",
          "pub.1070459317",
          "pub.1035640230",
          "pub.1009174310",
          "pub.1039542906",
          "pub.1046034492",
          "pub.1045729405",
          "pub.1049896476",
          "pub.1022083135",
          "pub.1058430726",
          "pub.1003205702",
          "pub.1064736992",
          "pub.1055089393",
          "pub.1038723522",
          "pub.1008927274",
          "pub.1002178254",
          "pub.1052090321",
          "pub.1006553301",
          "pub.1031444695",
          "pub.1024371068",
          "pub.1027684905",
          "pub.1029879605",
          "pub.1107911302",
          "pub.1017753122",
          "pub.1043447767",
          "pub.1064742888",
          "pub.1106914275",
          "pub.1073067836",
          "pub.1044991543",
          "pub.1040976349",
          "pub.1019269726",
          "pub.1049055207",
          "pub.1001477207",
          "pub.1017800034",
          "pub.1033834874",
          "pub.1005270855",
          "pub.1067819858",
          "pub.1084758710",
          "pub.1001739105",
          "pub.1017344765",
          "pub.1004100293",
          "pub.1068848242",
          "pub.1006958305",
          "pub.1043578973",
          "pub.1025637250",
          "pub.1046865896",
          "pub.1118043451",
          "pub.1055503066",
          "pub.1024661168",
          "pub.1020367667",
          "pub.1106045725",
          "pub.1077366823",
          "pub.1038016344",
          "pub.1090738227",
          "pub.1099329805",
          "pub.1028914008",
          "pub.1035705559",
          "pub.1007860903",
          "pub.1007954693",
          "pub.1001121688",
          "pub.1117084981",
          "pub.1017660003",
          "pub.1099329796",
          "pub.1022507171",
          "pub.1005392443",
          "pub.1045970831",
          "pub.1055505414",
          "pub.1030357115",
          "pub.1019071504",
          "pub.1004943816",
          "pub.1013474531",
          "pub.1055485533",
          "pub.1035839109",
          "pub.1018794893",
          "pub.1011065069",
          "pub.1064747116",
          "pub.1037932869",
          "pub.1064741646",
          "pub.1050043489",
          "pub.1003322169",
          "pub.1026357458",
          "pub.1036183136",
          "pub.1004254540",
          "pub.1034487739",
          "pub.1034747338",
          "pub.1033395711",
          "pub.1084100101",
          "pub.1099329822",
          "pub.1031712103",
          "pub.1002787169",
          "pub.1013804714",
          "pub.1071158504",
          "pub.1036221037",
          "pub.1068871311",
          "pub.1007220189"
         ],
         "research_org_cities": [
          {
           "id": 4931972,
           "name": "Cambridge"
          },
          {
           "id": 4943629,
           "name": "Medford"
          },
          {
           "id": 4955247,
           "name": "Westminster"
          }
         ],
         "research_org_countries": [
          {
           "id": "US",
           "name": "United States"
          }
         ],
         "research_org_country_names": [
          "United States"
         ],
         "research_org_state_codes": [
          {
           "id": "US-MA",
           "name": "Massachusetts"
          }
         ],
         "research_org_state_names": [
          "Massachusetts"
         ],
         "research_orgs": [
          {
           "city_name": "Medford",
           "country_name": "United States",
           "id": "grid.429997.8",
           "latitude": 42.40983,
           "linkout": [
            "http://www.tufts.edu/"
           ],
           "longitude": -71.12194,
           "name": "Tufts University",
           "state_name": "Massachusetts",
           "types": [
            "Education"
           ]
          },
          {
           "city_name": "Cambridge",
           "country_name": "United States",
           "id": "grid.38142.3c",
           "latitude": 42.377052,
           "linkout": [
            "http://www.harvard.edu/"
           ],
           "longitude": -71.11665,
           "name": "Harvard University",
           "state_name": "Massachusetts",
           "types": [
            "Education"
           ]
          }
         ],
         "researchers": [
          {
           "first_name": "Carolina Letícia Zilli",
           "id": "ur.01040532327.00",
           "last_name": "Vieira",
           "research_orgs": [
            "grid.38142.3c",
            "grid.11899.38"
           ]
          }
         ],
         "score": 0.12848225,
         "terms": [
          "health of humans",
          "humans",
          "animals",
          "natural environment",
          "environment",
          "warm weather",
          "weather",
          "wild animals",
          "land",
          "water species",
          "species",
          "pristine environment",
          "evidence",
          "seasonality",
          "natural world",
          "world",
          "high temperature",
          "temperature",
          "solar radiation",
          "radiation",
          "humidity",
          "pollution results",
          "results",
          "low pH",
          "pH",
          "water",
          "soil",
          "environmental acidification",
          "acidification",
          "lead bioavailability",
          "bioavailability",
          "mobility",
          "plant exposure",
          "exposure",
          "addition",
          "biosphere",
          "high growth rate",
          "growth rate",
          "rate",
          "assessment",
          "lead",
          "data",
          "Earth system",
          "system",
          "integrated assessment",
          "human activities",
          "activity",
          "natural cyclicity",
          "cyclicity",
          "remediation strategies",
          "strategies",
          "total environment",
          "global warming",
          "warming",
          "climate change events",
          "change events",
          "events",
          "toxicity"
         ],
         "title": "Lead seasonality in humans, animals, and the natural environment",
         "type": "article",
         "volume": "180",
         "year": 2020
        },
        {
         "book_series_title": "Lecture Notes in Networks and Systems",
         "concepts": [
          "advances",
          "information",
          "communication",
          "future of information",
          "future",
          "conference"
         ],
         "date": "2020-01-01",
         "date_inserted": "2019-02-03",
         "doi": "10.1007/978-3-030-12388-8",
         "id": "pub.1111874118",
         "issn": [
          "2367-3370",
          "2367-3389"
         ],
         "open_access_categories": [
          {
           "description": "No freely available copy has been identified",
           "id": "closed",
           "name": "Closed"
          }
         ],
         "publisher": "Springer Nature",
         "score": 0.01945525,
         "terms": [
          "advances",
          "information",
          "communication",
          "future of information",
          "future",
          "conference"
         ],
         "title": "Advances in Information and Communication, Proceedings of the 2019 Future of Information and Communication Conference (FICC), Volume 1",
         "type": "book",
         "volume": "69",
         "year": 2020
        },
        {
         "concepts": [
          "infection control",
          "control",
          "dental office"
         ],
         "date": "2020-01-01",
         "date_inserted": "2019-11-19",
         "doi": "10.1007/978-3-030-30085-2",
         "id": "pub.1122666209",
         "open_access_categories": [
          {
           "description": "No freely available copy has been identified",
           "id": "closed",
           "name": "Closed"
          }
         ],
         "publisher": "Springer Nature",
         "score": 0.042118363,
         "terms": [
          "infection control",
          "control",
          "dental office"
         ],
         "title": "Infection Control in the Dental Office, A Global Perspective",
         "type": "book",
         "year": 2020
        },
        {
         "book_series_title": "Encyclopedia of the UN Sustainable Development Goals",
         "concepts": [
          "good health",
          "health",
          "well-being",
          "being"
         ],
         "date": "2020-01-01",
         "date_inserted": "2019-09-27",
         "doi": "10.1007/978-3-319-95681-7",
         "id": "pub.1121263650",
         "issn": [
          "2523-7403",
          "2523-7411"
         ],
         "open_access_categories": [
          {
           "description": "No freely available copy has been identified",
           "id": "closed",
           "name": "Closed"
          }
         ],
         "publisher": "Springer Nature",
         "score": 0.01505125,
         "terms": [
          "good health",
          "health",
          "well-being",
          "being"
         ],
         "title": "Good Health and Well-Being",
         "type": "book",
         "year": 2020
        },
        {
         "FOR": [
          {
           "id": "2486",
           "name": "0399 Other Chemical Sciences"
          }
         ],
         "FOR_first": [
          {
           "id": "2203",
           "name": "03 Chemical Sciences"
          }
         ],
         "altmetric": 2,
         "altmetric_id": 64044108,
         "author_affiliations": [
          [
           {
            "affiliations": [
             {
              "city": "Manchester",
              "city_id": 2643123,
              "country": "United Kingdom",
              "country_code": "GB",
              "id": "grid.25627.34",
              "name": "Manchester Metropolitan University",
              "state": null,
              "state_code": null
             },
             {
              "name": "Chemistry Matters Inc., Alberta, Canada"
             }
            ],
            "corresponding": true,
            "current_organization_id": "",
            "first_name": "David",
            "last_name": "Megson",
            "orcid": "",
            "researcher_id": ""
           },
           {
            "affiliations": [
             {
              "city": "Toronto",
              "city_id": 6167865,
              "country": "Canada",
              "country_code": "CA",
              "id": "grid.419892.f",
              "name": "Ministry of the Environment and Climate Change",
              "state": "Ontario",
              "state_code": "CA-ON"
             }
            ],
            "corresponding": "",
            "current_organization_id": "",
            "first_name": "Nadine",
            "last_name": "Benoit",
            "orcid": "",
            "researcher_id": ""
           },
           {
            "affiliations": [
             {
              "name": "Chemistry Matters Inc., Alberta, Canada"
             },
             {
              "city": "Calgary",
              "city_id": 5913490,
              "country": "Canada",
              "country_code": "CA",
              "id": "grid.411852.b",
              "name": "Mount Royal University",
              "state": "Alberta",
              "state_code": "CA-AB"
             }
            ],
            "corresponding": "",
            "current_organization_id": "",
            "first_name": "Courtney",
            "last_name": "Sandau",
            "orcid": "",
            "researcher_id": ""
           },
           {
            "affiliations": [
             {
              "city": "Toronto",
              "city_id": 6167865,
              "country": "Canada",
              "country_code": "CA",
              "id": "grid.419892.f",
              "name": "Ministry of the Environment and Climate Change",
              "state": "Ontario",
              "state_code": "CA-ON"
             }
            ],
            "corresponding": "",
            "current_organization_id": "",
            "first_name": "Sri",
            "last_name": "Chaudhuri",
            "orcid": "",
            "researcher_id": ""
           },
           {
            "affiliations": [
             {
              "city": "Toronto",
              "city_id": 6167865,
              "country": "Canada",
              "country_code": "CA",
              "id": "grid.419892.f",
              "name": "Ministry of the Environment and Climate Change",
              "state": "Ontario",
              "state_code": "CA-ON"
             }
            ],
            "corresponding": "",
            "current_organization_id": "",
            "first_name": "Tanya",
            "last_name": "Long",
            "orcid": "",
            "researcher_id": ""
           },
           {
            "affiliations": [
             {
              "city": "Manchester",
              "city_id": 2643123,
              "country": "United Kingdom",
              "country_code": "GB",
              "id": "grid.25627.34",
              "name": "Manchester Metropolitan University",
              "state": null,
              "state_code": null
             }
            ],
            "corresponding": "",
            "current_organization_id": "",
            "first_name": "Emma",
            "last_name": "Coulthard",
            "orcid": "",
            "researcher_id": ""
           },
           {
            "affiliations": [
             {
              "city": "Salt Lake City",
              "city_id": 5780993,
              "country": "United States",
              "country_code": "US",
              "id": "grid.223827.e",
              "name": "University of Utah",
              "state": "Utah",
              "state_code": "US-UT"
             }
            ],
            "corresponding": "",
            "current_organization_id": "",
            "first_name": "Glenn",
            "last_name": "Johnson",
            "orcid": "",
            "researcher_id": ""
           }
          ]
         ],
         "authors": [
          {
           "affiliations": [
            {
             "city": "Manchester",
             "city_id": 2643123,
             "country": "United Kingdom",
             "country_code": "GB",
             "id": "grid.25627.34",
             "name": "Manchester Metropolitan University",
             "state": null,
             "state_code": null
            },
            {
             "name": "Chemistry Matters Inc., Alberta, Canada"
            }
           ],
           "corresponding": true,
           "current_organization_id": "",
           "first_name": "David",
           "last_name": "Megson",
           "orcid": "",
           "researcher_id": ""
          },
          {
           "affiliations": [
            {
             "city": "Toronto",
             "city_id": 6167865,
             "country": "Canada",
             "country_code": "CA",
             "id": "grid.419892.f",
             "name": "Ministry of the Environment and Climate Change",
             "state": "Ontario",
             "state_code": "CA-ON"
            }
           ],
           "corresponding": "",
           "current_organization_id": "",
           "first_name": "Nadine",
           "last_name": "Benoit",
           "orcid": "",
           "researcher_id": ""
          },
          {
           "affiliations": [
            {
             "name": "Chemistry Matters Inc., Alberta, Canada"
            },
            {
             "city": "Calgary",
             "city_id": 5913490,
             "country": "Canada",
             "country_code": "CA",
             "id": "grid.411852.b",
             "name": "Mount Royal University",
             "state": "Alberta",
             "state_code": "CA-AB"
            }
           ],
           "corresponding": "",
           "current_organization_id": "",
           "first_name": "Courtney",
           "last_name": "Sandau",
           "orcid": "",
           "researcher_id": ""
          },
          {
           "affiliations": [
            {
             "city": "Toronto",
             "city_id": 6167865,
             "country": "Canada",
             "country_code": "CA",
             "id": "grid.419892.f",
             "name": "Ministry of the Environment and Climate Change",
             "state": "Ontario",
             "state_code": "CA-ON"
            }
           ],
           "corresponding": "",
           "current_organization_id": "",
           "first_name": "Sri",
           "last_name": "Chaudhuri",
           "orcid": "",
           "researcher_id": ""
          },
          {
           "affiliations": [
            {
             "city": "Toronto",
             "city_id": 6167865,
             "country": "Canada",
             "country_code": "CA",
             "id": "grid.419892.f",
             "name": "Ministry of the Environment and Climate Change",
             "state": "Ontario",
             "state_code": "CA-ON"
            }
           ],
           "corresponding": "",
           "current_organization_id": "",
           "first_name": "Tanya",
           "last_name": "Long",
           "orcid": "",
           "researcher_id": ""
          },
          {
           "affiliations": [
            {
             "city": "Manchester",
             "city_id": 2643123,
             "country": "United Kingdom",
             "country_code": "GB",
             "id": "grid.25627.34",
             "name": "Manchester Metropolitan University",
             "state": null,
             "state_code": null
            }
           ],
           "corresponding": "",
           "current_organization_id": "",
           "first_name": "Emma",
           "last_name": "Coulthard",
           "orcid": "",
           "researcher_id": ""
          },
          {
           "affiliations": [
            {
             "city": "Salt Lake City",
             "city_id": 5780993,
             "country": "United States",
             "country_code": "US",
             "id": "grid.223827.e",
             "name": "University of Utah",
             "state": "Utah",
             "state_code": "US-UT"
            }
           ],
           "corresponding": "",
           "current_organization_id": "",
           "first_name": "Glenn",
           "last_name": "Johnson",
           "orcid": "",
           "researcher_id": ""
          }
         ],
         "category_for": [
          {
           "id": "2203",
           "name": "03 Chemical Sciences"
          },
          {
           "id": "2486",
           "name": "0399 Other Chemical Sciences"
          }
         ],
         "category_ua": [
          {
           "id": "30012",
           "name": "B12 Engineering"
          }
         ],
         "concepts": [
          "polychlorinated biphenyls",
          "biphenyls",
          "group",
          "persistent organic pollutants",
          "organic pollutants",
          "pollutants",
          "analytical run",
          "run",
          "PCB congeners",
          "congeners",
          "indicator PCBs",
          "dioxin",
          "health risks",
          "range",
          "technical mixtures",
          "mixture",
          "total PCB concentrations",
          "PCB concentrations",
          "concentration",
          "decades",
          "commercial mixture",
          "fractionation processes",
          "process",
          "additional source",
          "source",
          "Aroclor PCBs",
          "total concentration",
          "useful tool",
          "background exposure",
          "exposure",
          "environmental matrices",
          "matrix",
          "environmental investigations",
          "investigation"
         ],
         "date": "2019-12-01",
         "date_inserted": "2019-07-23",
         "doi": "10.1016/j.chemosphere.2019.124429",
         "id": "pub.1118151694",
         "issn": [
          "0045-6535",
          "1879-1298"
         ],
         "journal": {
          "id": "jour.1015185",
          "title": "Chemosphere"
         },
         "journal_lists": [
          "ERA 2015",
          "Norwegian register level 1",
          "PubMed"
         ],
         "mesh_terms": [
          "Aroclors",
          "Dioxins",
          "Environmental Exposure",
          "Environmental Monitoring",
          "Environmental Pollutants",
          "Humans",
          "Indicators and Reagents",
          "Polychlorinated Biphenyls"
         ],
         "open_access_categories": [
          {
           "description": "No freely available copy has been identified",
           "id": "closed",
           "name": "Closed"
          }
         ],
         "pages": "124429",
         "pmid": "31352098",
         "publisher": "Elsevier",
         "reference_ids": [
          "pub.1004199961",
          "pub.1059648197",
          "pub.1052397819",
          "pub.1050505943",
          "pub.1055495471",
          "pub.1019042160",
          "pub.1039746073",
          "pub.1064741549",
          "pub.1048926521",
          "pub.1025329505",
          "pub.1017026394",
          "pub.1018411814",
          "pub.1022947396",
          "pub.1029746936",
          "pub.1027734688",
          "pub.1036600223",
          "pub.1103254142",
          "pub.1002861613",
          "pub.1036089663",
          "pub.1091750219",
          "pub.1038773612",
          "pub.1086069229",
          "pub.1036800176",
          "pub.1033968470",
          "pub.1006252139",
          "pub.1026413747",
          "pub.1026417043",
          "pub.1055514580",
          "pub.1018168982",
          "pub.1005182889",
          "pub.1034825591",
          "pub.1055088981",
          "pub.1019878525",
          "pub.1002748371",
          "pub.1026731035",
          "pub.1025596450",
          "pub.1055497227",
          "pub.1055516452",
          "pub.1018328138",
          "pub.1030123430",
          "pub.1055088149",
          "pub.1030258836",
          "pub.1029003812",
          "pub.1083877363",
          "pub.1017391047",
          "pub.1032726077",
          "pub.1111156677",
          "pub.1014938091",
          "pub.1035081786",
          "pub.1026077249",
          "pub.1008266161",
          "pub.1055508085",
          "pub.1028159678",
          "pub.1044869491",
          "pub.1040479359",
          "pub.1027749994",
          "pub.1055494440"
         ],
         "references": [
          "pub.1004199961",
          "pub.1059648197",
          "pub.1052397819",
          "pub.1050505943",
          "pub.1055495471",
          "pub.1019042160",
          "pub.1039746073",
          "pub.1064741549",
          "pub.1048926521",
          "pub.1025329505",
          "pub.1017026394",
          "pub.1018411814",
          "pub.1022947396",
          "pub.1029746936",
          "pub.1027734688",
          "pub.1036600223",
          "pub.1103254142",
          "pub.1002861613",
          "pub.1036089663",
          "pub.1091750219",
          "pub.1038773612",
          "pub.1086069229",
          "pub.1036800176",
          "pub.1033968470",
          "pub.1006252139",
          "pub.1026413747",
          "pub.1026417043",
          "pub.1055514580",
          "pub.1018168982",
          "pub.1005182889",
          "pub.1034825591",
          "pub.1055088981",
          "pub.1019878525",
          "pub.1002748371",
          "pub.1026731035",
          "pub.1025596450",
          "pub.1055497227",
          "pub.1055516452",
          "pub.1018328138",
          "pub.1030123430",
          "pub.1055088149",
          "pub.1030258836",
          "pub.1029003812",
          "pub.1083877363",
          "pub.1017391047",
          "pub.1032726077",
          "pub.1111156677",
          "pub.1014938091",
          "pub.1035081786",
          "pub.1026077249",
          "pub.1008266161",
          "pub.1055508085",
          "pub.1028159678",
          "pub.1044869491",
          "pub.1040479359",
          "pub.1027749994",
          "pub.1055494440"
         ],
         "research_org_cities": [
          {
           "id": 6167865,
           "name": "Toronto"
          },
          {
           "id": 5913490,
           "name": "Calgary"
          },
          {
           "id": 2643123,
           "name": "Manchester"
          },
          {
           "id": 5780993,
           "name": "Salt Lake City"
          }
         ],
         "research_org_countries": [
          {
           "id": "US",
           "name": "United States"
          },
          {
           "id": "CA",
           "name": "Canada"
          },
          {
           "id": "GB",
           "name": "United Kingdom"
          }
         ],
         "research_org_country_names": [
          "United States",
          "Canada",
          "United Kingdom"
         ],
         "research_org_state_codes": [
          {
           "id": "US-UT",
           "name": "Utah"
          },
          {
           "id": "CA-AB",
           "name": "Alberta"
          },
          {
           "id": "CA-ON",
           "name": "Ontario"
          }
         ],
         "research_org_state_names": [
          "Ontario",
          "Alberta",
          "Utah"
         ],
         "research_orgs": [
          {
           "acronym": "MMU",
           "city_name": "Manchester",
           "country_name": "United Kingdom",
           "id": "grid.25627.34",
           "latitude": 53.470295,
           "linkout": [
            "http://www2.mmu.ac.uk/"
           ],
           "longitude": -2.240949,
           "name": "Manchester Metropolitan University",
           "state_name": "Manchester",
           "types": [
            "Education"
           ]
          },
          {
           "acronym": "MOECC",
           "city_name": "Toronto",
           "country_name": "Canada",
           "id": "grid.419892.f",
           "latitude": 43.721928,
           "linkout": [
            "https://www.ontario.ca/page/ministry-environment-and-climate-change"
           ],
           "longitude": -79.55835,
           "name": "Ministry of the Environment and Climate Change",
           "state_name": "Ontario",
           "types": [
            "Government"
           ]
          },
          {
           "acronym": "UU",
           "city_name": "Salt Lake City",
           "country_name": "United States",
           "id": "grid.223827.e",
           "latitude": 40.76496,
           "linkout": [
            "http://www.utah.edu/"
           ],
           "longitude": -111.84215,
           "name": "University of Utah",
           "state_name": "Utah",
           "types": [
            "Education"
           ]
          },
          {
           "acronym": "MRU",
           "city_name": "Calgary",
           "country_name": "Canada",
           "id": "grid.411852.b",
           "latitude": 51.01244,
           "linkout": [
            "http://www.mtroyal.ca/"
           ],
           "longitude": -114.12901,
           "name": "Mount Royal University",
           "state_name": "Alberta",
           "types": [
            "Education"
           ]
          }
         ],
         "score": 0.18582167,
         "terms": [
          "polychlorinated biphenyls",
          "biphenyls",
          "group",
          "persistent organic pollutants",
          "organic pollutants",
          "pollutants",
          "analytical run",
          "run",
          "PCB congeners",
          "congeners",
          "indicator PCBs",
          "dioxin",
          "health risks",
          "range",
          "technical mixtures",
          "mixture",
          "total PCB concentrations",
          "PCB concentrations",
          "concentration",
          "decades",
          "commercial mixture",
          "fractionation processes",
          "process",
          "additional source",
          "source",
          "Aroclor PCBs",
          "total concentration",
          "useful tool",
          "background exposure",
          "exposure",
          "environmental matrices",
          "matrix",
          "environmental investigations",
          "investigation"
         ],
         "title": "Evaluation of the effectiveness of different indicator PCBs to estimating total PCB concentrations in environmental investigations",
         "type": "article",
         "volume": "237",
         "year": 2019
        },
        {
         "FOR": [
          {
           "id": "3177",
           "name": "1117 Public Health and Health Services"
          }
         ],
         "FOR_first": [
          {
           "id": "2211",
           "name": "11 Medical and Health Sciences"
          }
         ],
         "RCDC": [
          {
           "id": "388",
           "name": "Nutrition"
          }
         ],
         "author_affiliations": [
          [
           {
            "affiliations": [
             {
              "city": "Atlanta",
              "city_id": 4180439,
              "country": "United States",
              "country_code": "US",
              "id": "grid.416778.b",
              "name": "National Center for Environmental Health",
              "state": "Georgia",
              "state_code": "US-GA"
             }
            ],
            "corresponding": true,
            "current_organization_id": "grid.416778.b",
            "first_name": "Lorraine C.",
            "last_name": "Backer",
            "orcid": "",
            "researcher_id": "ur.0645302741.87"
           },
           {
            "affiliations": [
             {
              "city": "Atlanta",
              "city_id": 4180439,
              "country": "United States",
              "country_code": "US",
              "id": "grid.416778.b",
              "name": "National Center for Environmental Health",
              "state": "Georgia",
              "state_code": "US-GA"
             },
             {
              "city": "Decatur",
              "city_id": 4191124,
              "country": "United States",
              "country_code": "US",
              "id": "grid.452591.e",
              "name": "International Trachoma Initiative",
              "state": "Georgia",
              "state_code": "US-GA"
             }
            ],
            "corresponding": "",
            "current_organization_id": "grid.452591.e",
            "first_name": "Birgit",
            "last_name": "Bolton",
            "orcid": "",
            "researcher_id": "ur.01151167172.71"
           },
           {
            "affiliations": [
             {
              "city": "Silver Spring",
              "city_id": 4369596,
              "country": "United States",
              "country_code": "US",
              "id": "grid.422702.1",
              "name": "National Marine Fisheries Service",
              "state": "Maryland",
              "state_code": "US-MD"
             }
            ],
            "corresponding": "",
            "current_organization_id": "",
            "first_name": "Jenny A.",
            "last_name": "Litz",
            "orcid": "",
            "researcher_id": ""
           },
           {
            "affiliations": [
             {
              "city": "Gaithersburg",
              "city_id": 4355843,
              "country": "United States",
              "country_code": "US",
              "id": "grid.94225.38",
              "name": "National Institute of Standards and Technology",
              "state": "Maryland",
              "state_code": "US-MD"
             }
            ],
            "corresponding": "",
            "current_organization_id": "",
            "first_name": "Jennifer",
            "last_name": "Trevillian",
            "orcid": "",
            "researcher_id": ""
           },
           {
            "affiliations": [
             {
              "city": "Atlanta",
              "city_id": 4180439,
              "country": "United States",
              "country_code": "US",
              "id": "grid.416778.b",
              "name": "National Center for Environmental Health",
              "state": "Georgia",
              "state_code": "US-GA"
             }
            ],
            "corresponding": "",
            "current_organization_id": "grid.416778.b",
            "first_name": "Stephanie",
            "last_name": "Kieszak",
            "orcid": "",
            "researcher_id": "ur.01360455576.67"
           },
           {
            "affiliations": [
             {
              "city": "Gaithersburg",
              "city_id": 4355843,
              "country": "United States",
              "country_code": "US",
              "id": "grid.94225.38",
              "name": "National Institute of Standards and Technology",
              "state": "Maryland",
              "state_code": "US-MD"
             }
            ],
            "corresponding": "",
            "current_organization_id": "grid.417757.7",
            "first_name": "John",
            "last_name": "Kucklick",
            "orcid": "",
            "researcher_id": "ur.0735046742.37"
           }
          ]
         ],
         "authors": [
          {
           "affiliations": [
            {
             "city": "Atlanta",
             "city_id": 4180439,
             "country": "United States",
             "country_code": "US",
             "id": "grid.416778.b",
             "name": "National Center for Environmental Health",
             "state": "Georgia",
             "state_code": "US-GA"
            }
           ],
           "corresponding": true,
           "current_organization_id": "grid.416778.b",
           "first_name": "Lorraine C.",
           "last_name": "Backer",
           "orcid": "",
           "researcher_id": "ur.0645302741.87"
          },
          {
           "affiliations": [
            {
             "city": "Atlanta",
             "city_id": 4180439,
             "country": "United States",
             "country_code": "US",
             "id": "grid.416778.b",
             "name": "National Center for Environmental Health",
             "state": "Georgia",
             "state_code": "US-GA"
            },
            {
             "city": "Decatur",
             "city_id": 4191124,
             "country": "United States",
             "country_code": "US",
             "id": "grid.452591.e",
             "name": "International Trachoma Initiative",
             "state": "Georgia",
             "state_code": "US-GA"
            }
           ],
           "corresponding": "",
           "current_organization_id": "grid.452591.e",
           "first_name": "Birgit",
           "last_name": "Bolton",
           "orcid": "",
           "researcher_id": "ur.01151167172.71"
          },
          {
           "affiliations": [
            {
             "city": "Silver Spring",
             "city_id": 4369596,
             "country": "United States",
             "country_code": "US",
             "id": "grid.422702.1",
             "name": "National Marine Fisheries Service",
             "state": "Maryland",
             "state_code": "US-MD"
            }
           ],
           "corresponding": "",
           "current_organization_id": "",
           "first_name": "Jenny A.",
           "last_name": "Litz",
           "orcid": "",
           "researcher_id": ""
          },
          {
           "affiliations": [
            {
             "city": "Gaithersburg",
             "city_id": 4355843,
             "country": "United States",
             "country_code": "US",
             "id": "grid.94225.38",
             "name": "National Institute of Standards and Technology",
             "state": "Maryland",
             "state_code": "US-MD"
            }
           ],
           "corresponding": "",
           "current_organization_id": "",
           "first_name": "Jennifer",
           "last_name": "Trevillian",
           "orcid": "",
           "researcher_id": ""
          },
          {
           "affiliations": [
            {
             "city": "Atlanta",
             "city_id": 4180439,
             "country": "United States",
             "country_code": "US",
             "id": "grid.416778.b",
             "name": "National Center for Environmental Health",
             "state": "Georgia",
             "state_code": "US-GA"
            }
           ],
           "corresponding": "",
           "current_organization_id": "grid.416778.b",
           "first_name": "Stephanie",
           "last_name": "Kieszak",
           "orcid": "",
           "researcher_id": "ur.01360455576.67"
          },
          {
           "affiliations": [
            {
             "city": "Gaithersburg",
             "city_id": 4355843,
             "country": "United States",
             "country_code": "US",
             "id": "grid.94225.38",
             "name": "National Institute of Standards and Technology",
             "state": "Maryland",
             "state_code": "US-MD"
            }
           ],
           "corresponding": "",
           "current_organization_id": "grid.417757.7",
           "first_name": "John",
           "last_name": "Kucklick",
           "orcid": "",
           "researcher_id": "ur.0735046742.37"
          }
         ],
         "category_bra": [
          {
           "id": "4003",
           "name": "Public Health"
          }
         ],
         "category_for": [
          {
           "id": "3177",
           "name": "1117 Public Health and Health Services"
          },
          {
           "id": "2211",
           "name": "11 Medical and Health Sciences"
          }
         ],
         "category_hra": [
          {
           "id": "3903",
           "name": "Population & Society"
          }
         ],
         "category_rcdc": [
          {
           "id": "388",
           "name": "Nutrition"
          }
         ],
         "category_ua": [
          {
           "id": "30003",
           "name": "A03 Allied Health Professions, Dentistry, Nursing and Pharmacy"
          }
         ],
         "concepts": [
          "Background People",
          "people",
          "community",
          "risk",
          "exposure",
          "environmental hazards",
          "hazards",
          "legacy chemicals",
          "database",
          "NHANES",
          "high levels",
          "levels",
          "United States",
          "study",
          "local animal populations",
          "animal populations",
          "population",
          "objective",
          "profile",
          "human populations",
          "area",
          "data",
          "dolphin studies",
          "same area",
          "eligible adults",
          "adults",
          "consent form",
          "questionnaire",
          "demographics",
          "seafood consumption",
          "consumption",
          "blood samples",
          "samples",
          "seafood",
          "blood",
          "population studies",
          "human blood analysis",
          "blood analysis",
          "report",
          "proportion",
          "animals",
          "representative data",
          "types",
          "relative levels",
          "environmental contaminants",
          "National Health",
          "health",
          "Nutrition Examination Survey",
          "Examination Survey",
          "survey"
         ],
         "date": "2019-12-01",
         "date_inserted": "2019-08-26",
         "doi": "10.1016/j.scitotenv.2019.134041",
         "id": "pub.1120497865",
         "issn": [
          "0048-9697",
          "1879-1026"
         ],
         "journal": {
          "id": "jour.1015499",
          "title": "The Science of The Total Environment"
         },
         "journal_lists": [
          "ERA 2015",
          "Norwegian register level 2",
          "VABB-SHW"
         ],
         "open_access_categories": [
          {
           "description": "No freely available copy has been identified",
           "id": "closed",
           "name": "Closed"
          }
         ],
         "pages": "134041",
         "publisher": "Elsevier",
         "reference_ids": [
          "pub.1031903062",
          "pub.1055897464",
          "pub.1054997074",
          "pub.1055500469",
          "pub.1055516113",
          "pub.1001543139",
          "pub.1078048163",
          "pub.1002035733",
          "pub.1006975288",
          "pub.1055502703",
          "pub.1055496329",
          "pub.1074235122"
         ],
         "references": [
          "pub.1031903062",
          "pub.1055897464",
          "pub.1054997074",
          "pub.1055500469",
          "pub.1055516113",
          "pub.1001543139",
          "pub.1078048163",
          "pub.1002035733",
          "pub.1006975288",
          "pub.1055502703",
          "pub.1055496329",
          "pub.1074235122"
         ],
         "research_org_cities": [
          {
           "id": 4369596,
           "name": "Silver Spring"
          },
          {
           "id": 4355843,
           "name": "Gaithersburg"
          },
          {
           "id": 4191124,
           "name": "Decatur"
          },
          {
           "id": 4180439,
           "name": "Atlanta"
          }
         ],
         "research_org_countries": [
          {
           "id": "US",
           "name": "United States"
          }
         ],
         "research_org_country_names": [
          "United States"
         ],
         "research_org_state_codes": [
          {
           "id": "US-MD",
           "name": "Maryland"
          },
          {
           "id": "US-GA",
           "name": "Georgia"
          }
         ],
         "research_org_state_names": [
          "Georgia",
          "Maryland"
         ],
         "research_orgs": [
          {
           "acronym": "NMFS",
           "city_name": "Silver Spring",
           "country_name": "United States",
           "id": "grid.422702.1",
           "latitude": 38.99241,
           "linkout": [
            "http://www.nmfs.noaa.gov/"
           ],
           "longitude": -77.0305,
           "name": "National Marine Fisheries Service",
           "state_name": "Maryland",
           "types": [
            "Government"
           ]
          },
          {
           "acronym": "NIST",
           "city_name": "Gaithersburg",
           "country_name": "United States",
           "id": "grid.94225.38",
           "latitude": 39.13559,
           "linkout": [
            "http://www.nist.gov/"
           ],
           "longitude": -77.21574,
           "name": "National Institute of Standards and Technology",
           "state_name": "Maryland",
           "types": [
            "Government"
           ]
          },
          {
           "acronym": "NCEH",
           "city_name": "Atlanta",
           "country_name": "United States",
           "id": "grid.416778.b",
           "latitude": 33.847942,
           "linkout": [
            "http://www.cdc.gov/nceh/"
           ],
           "longitude": -84.658775,
           "name": "National Center for Environmental Health",
           "state_name": "Georgia",
           "types": [
            "Facility"
           ]
          },
          {
           "acronym": "ITI",
           "city_name": "Decatur",
           "country_name": "United States",
           "id": "grid.452591.e",
           "latitude": 33.773872,
           "linkout": [
            "http://www.trachoma.org/"
           ],
           "longitude": -84.30076,
           "name": "International Trachoma Initiative",
           "state_name": "Georgia",
           "types": [
            "Nonprofit"
           ]
          }
         ],
         "researchers": [
          {
           "first_name": "Lorraine C",
           "id": "ur.0645302741.87",
           "last_name": "Backer",
           "research_orgs": [
            "grid.410382.c",
            "grid.416778.b",
            "grid.418698.a",
            "grid.47100.32",
            "grid.416738.f"
           ]
          },
          {
           "first_name": "Birgit",
           "id": "ur.01151167172.71",
           "last_name": "Bolton",
           "research_orgs": [
            "grid.452591.e",
            "grid.416778.b"
           ]
          },
          {
           "first_name": "Stephanie M",
           "id": "ur.01360455576.67",
           "last_name": "Kieszak",
           "research_orgs": [
            "grid.416778.b",
            "grid.416738.f",
            "grid.15276.37"
           ]
          },
          {
           "first_name": "John R",
           "id": "ur.0735046742.37",
           "last_name": "Kucklick",
           "research_orgs": [
            "grid.254567.7",
            "grid.422702.1",
            "grid.473841.d",
            "grid.94225.38",
            "grid.291951.7",
            "grid.417757.7",
            "grid.3532.7"
           ]
          }
         ],
         "score": 0.43458405,
         "terms": [
          "Background People",
          "people",
          "community",
          "risk",
          "exposure",
          "environmental hazards",
          "hazards",
          "legacy chemicals",
          "database",
          "NHANES",
          "high levels",
          "levels",
          "United States",
          "study",
          "local animal populations",
          "animal populations",
          "population",
          "objective",
          "profile",
          "human populations",
          "area",
          "data",
          "dolphin studies",
          "same area",
          "eligible adults",
          "adults",
          "consent form",
          "questionnaire",
          "demographics",
          "seafood consumption",
          "consumption",
          "blood samples",
          "samples",
          "seafood",
          "blood",
          "population studies",
          "human blood analysis",
          "blood analysis",
          "report",
          "proportion",
          "animals",
          "representative data",
          "types",
          "relative levels",
          "environmental contaminants",
          "National Health",
          "health",
          "Nutrition Examination Survey",
          "Examination Survey",
          "survey"
         ],
         "title": "Environmental contaminants in coastal populations: Comparisons with the National Health and Nutrition Examination Survey (NHANES) and resident dolphins",
         "type": "article",
         "volume": "696",
         "year": 2019
        },
        {
         "FOR": [
          {
           "id": "3177",
           "name": "1117 Public Health and Health Services"
          }
         ],
         "FOR_first": [
          {
           "id": "2211",
           "name": "11 Medical and Health Sciences"
          }
         ],
         "HRCS_HC": [
          {
           "id": "896",
           "name": "Respiratory"
          }
         ],
         "HRCS_RAC": [
          {
           "id": "10202",
           "name": "2.2 Factors relating to physical environment"
          }
         ],
         "RCDC": [
          {
           "id": "410",
           "name": "Lung"
          },
          {
           "id": "507",
           "name": "Clinical Research"
          }
         ],
         "author_affiliations": [
          [
           {
            "affiliations": [
             {
              "city": "Corvallis",
              "city_id": 5720727,
              "country": "United States",
              "country_code": "US",
              "id": "grid.4391.f",
              "name": "Oregon State University",
              "state": "Oregon",
              "state_code": "US-OR"
             }
            ],
            "corresponding": true,
            "current_organization_id": "grid.4391.f",
            "first_name": "Diana",
            "last_name": "Rohlman",
            "orcid": "['0000-0002-3982-0327']",
            "researcher_id": "ur.01372367005.47"
           },
           {
            "affiliations": [
             {
              "city": "Corvallis",
              "city_id": 5720727,
              "country": "United States",
              "country_code": "US",
              "id": "grid.4391.f",
              "name": "Oregon State University",
              "state": "Oregon",
              "state_code": "US-OR"
             }
            ],
            "corresponding": "",
            "current_organization_id": "grid.4391.f",
            "first_name": "Holly M.",
            "last_name": "Dixon",
            "orcid": "['0000-0003-0326-4477']",
            "researcher_id": "ur.013560713623.66"
           },
           {
            "affiliations": [
             {
              "city": "Corvallis",
              "city_id": 5720727,
              "country": "United States",
              "country_code": "US",
              "id": "grid.4391.f",
              "name": "Oregon State University",
              "state": "Oregon",
              "state_code": "US-OR"
             }
            ],
            "corresponding": "",
            "current_organization_id": "grid.4391.f",
            "first_name": "Laurel",
            "last_name": "Kincl",
            "orcid": "",
            "researcher_id": "ur.0734033252.93"
           },
           {
            "affiliations": [
             {
              "city": "Corvallis",
              "city_id": 5720727,
              "country": "United States",
              "country_code": "US",
              "id": "grid.4391.f",
              "name": "Oregon State University",
              "state": "Oregon",
              "state_code": "US-OR"
             }
            ],
            "corresponding": "",
            "current_organization_id": "grid.4391.f",
            "first_name": "Andrew",
            "last_name": "Larkin",
            "orcid": "",
            "researcher_id": "ur.015452066115.38"
           },
           {
            "affiliations": [
             {
              "city": "Corvallis",
              "city_id": 5720727,
              "country": "United States",
              "country_code": "US",
              "id": "grid.4391.f",
              "name": "Oregon State University",
              "state": "Oregon",
              "state_code": "US-OR"
             }
            ],
            "corresponding": "",
            "current_organization_id": "grid.4391.f",
            "first_name": "Richard",
            "last_name": "Evoy",
            "orcid": "",
            "researcher_id": "ur.010307104343.89"
           },
           {
            "affiliations": [
             {
              "city": "Corvallis",
              "city_id": 5720727,
              "country": "United States",
              "country_code": "US",
              "id": "grid.4391.f",
              "name": "Oregon State University",
              "state": "Oregon",
              "state_code": "US-OR"
             }
            ],
            "corresponding": "",
            "current_organization_id": "grid.4391.f",
            "first_name": "Michael",
            "last_name": "Barton",
            "orcid": "",
            "researcher_id": "ur.0732733627.19"
           },
           {
            "affiliations": [
             {
              "city": "Richland",
              "city_id": 5808276,
              "country": "United States",
              "country_code": "US",
              "id": "grid.451303.0",
              "name": "Pacific Northwest National Laboratory",
              "state": "Washington",
              "state_code": "US-WA"
             }
            ],
            "corresponding": "",
            "current_organization_id": "",
            "first_name": "Aaron",
            "last_name": "Phillips",
            "orcid": "",
            "researcher_id": ""
           },
           {
            "affiliations": [
             {
              "city": "Richland",
              "city_id": 5808276,
              "country": "United States",
              "country_code": "US",
              "id": "grid.451303.0",
              "name": "Pacific Northwest National Laboratory",
              "state": "Washington",
              "state_code": "US-WA"
             }
            ],
            "corresponding": "",
            "current_organization_id": "grid.451303.0",
            "first_name": "Elena",
            "last_name": "Peterson",
            "orcid": "",
            "researcher_id": "ur.01324547605.82"
           },
           {
            "affiliations": [
             {
              "city": "Corvallis",
              "city_id": 5720727,
              "country": "United States",
              "country_code": "US",
              "id": "grid.4391.f",
              "name": "Oregon State University",
              "state": "Oregon",
              "state_code": "US-OR"
             }
            ],
            "corresponding": "",
            "current_organization_id": "grid.4391.f",
            "first_name": "Christopher",
            "last_name": "Scaffidi",
            "orcid": "",
            "researcher_id": "ur.010561663621.27"
           },
           {
            "affiliations": [
             {
              "city": "New York",
              "city_id": 5128581,
              "country": "United States",
              "country_code": "US",
              "id": "grid.21729.3f",
              "name": "Columbia University",
              "state": "New York",
              "state_code": "US-NY"
             }
            ],
            "corresponding": "",
            "current_organization_id": "grid.21729.3f",
            "first_name": "Julie B.",
            "last_name": "Herbstman",
            "orcid": "",
            "researcher_id": "ur.0703450475.17"
           },
           {
            "affiliations": [
             {
              "city": "Richland",
              "city_id": 5808276,
              "country": "United States",
              "country_code": "US",
              "id": "grid.451303.0",
              "name": "Pacific Northwest National Laboratory",
              "state": "Washington",
              "state_code": "US-WA"
             }
            ],
            "corresponding": "",
            "current_organization_id": "grid.451303.0",
            "first_name": "Katrina M.",
            "last_name": "Waters",
            "orcid": "['0000-0003-4696-5396']",
            "researcher_id": "ur.0725520436.32"
           },
           {
            "affiliations": [
             {
              "city": "Corvallis",
              "city_id": 5720727,
              "country": "United States",
              "country_code": "US",
              "id": "grid.4391.f",
              "name": "Oregon State University",
              "state": "Oregon",
              "state_code": "US-OR"
             }
            ],
            "corresponding": "",
            "current_organization_id": "grid.4391.f",
            "first_name": "Kim A.",
            "last_name": "Anderson",
            "orcid": "",
            "researcher_id": "ur.01047162227.15"
           }
          ]
         ],
         "authors": [
          {
           "affiliations": [
            {
             "city": "Corvallis",
             "city_id": 5720727,
             "country": "United States",
             "country_code": "US",
             "id": "grid.4391.f",
             "name": "Oregon State University",
             "state": "Oregon",
             "state_code": "US-OR"
            }
           ],
           "corresponding": true,
           "current_organization_id": "grid.4391.f",
           "first_name": "Diana",
           "last_name": "Rohlman",
           "orcid": "['0000-0002-3982-0327']",
           "researcher_id": "ur.01372367005.47"
          },
          {
           "affiliations": [
            {
             "city": "Corvallis",
             "city_id": 5720727,
             "country": "United States",
             "country_code": "US",
             "id": "grid.4391.f",
             "name": "Oregon State University",
             "state": "Oregon",
             "state_code": "US-OR"
            }
           ],
           "corresponding": "",
           "current_organization_id": "grid.4391.f",
           "first_name": "Holly M.",
           "last_name": "Dixon",
           "orcid": "['0000-0003-0326-4477']",
           "researcher_id": "ur.013560713623.66"
          },
          {
           "affiliations": [
            {
             "city": "Corvallis",
             "city_id": 5720727,
             "country": "United States",
             "country_code": "US",
             "id": "grid.4391.f",
             "name": "Oregon State University",
             "state": "Oregon",
             "state_code": "US-OR"
            }
           ],
           "corresponding": "",
           "current_organization_id": "grid.4391.f",
           "first_name": "Laurel",
           "last_name": "Kincl",
           "orcid": "",
           "researcher_id": "ur.0734033252.93"
          },
          {
           "affiliations": [
            {
             "city": "Corvallis",
             "city_id": 5720727,
             "country": "United States",
             "country_code": "US",
             "id": "grid.4391.f",
             "name": "Oregon State University",
             "state": "Oregon",
             "state_code": "US-OR"
            }
           ],
           "corresponding": "",
           "current_organization_id": "grid.4391.f",
           "first_name": "Andrew",
           "last_name": "Larkin",
           "orcid": "",
           "researcher_id": "ur.015452066115.38"
          },
          {
           "affiliations": [
            {
             "city": "Corvallis",
             "city_id": 5720727,
             "country": "United States",
             "country_code": "US",
             "id": "grid.4391.f",
             "name": "Oregon State University",
             "state": "Oregon",
             "state_code": "US-OR"
            }
           ],
           "corresponding": "",
           "current_organization_id": "grid.4391.f",
           "first_name": "Richard",
           "last_name": "Evoy",
           "orcid": "",
           "researcher_id": "ur.010307104343.89"
          },
          {
           "affiliations": [
            {
             "city": "Corvallis",
             "city_id": 5720727,
             "country": "United States",
             "country_code": "US",
             "id": "grid.4391.f",
             "name": "Oregon State University",
             "state": "Oregon",
             "state_code": "US-OR"
            }
           ],
           "corresponding": "",
           "current_organization_id": "grid.4391.f",
           "first_name": "Michael",
           "last_name": "Barton",
           "orcid": "",
           "researcher_id": "ur.0732733627.19"
          },
          {
           "affiliations": [
            {
             "city": "Richland",
             "city_id": 5808276,
             "country": "United States",
             "country_code": "US",
             "id": "grid.451303.0",
             "name": "Pacific Northwest National Laboratory",
             "state": "Washington",
             "state_code": "US-WA"
            }
           ],
           "corresponding": "",
           "current_organization_id": "",
           "first_name": "Aaron",
           "last_name": "Phillips",
           "orcid": "",
           "researcher_id": ""
          },
          {
           "affiliations": [
            {
             "city": "Richland",
             "city_id": 5808276,
             "country": "United States",
             "country_code": "US",
             "id": "grid.451303.0",
             "name": "Pacific Northwest National Laboratory",
             "state": "Washington",
             "state_code": "US-WA"
            }
           ],
           "corresponding": "",
           "current_organization_id": "grid.451303.0",
           "first_name": "Elena",
           "last_name": "Peterson",
           "orcid": "",
           "researcher_id": "ur.01324547605.82"
          },
          {
           "affiliations": [
            {
             "city": "Corvallis",
             "city_id": 5720727,
             "country": "United States",
             "country_code": "US",
             "id": "grid.4391.f",
             "name": "Oregon State University",
             "state": "Oregon",
             "state_code": "US-OR"
            }
           ],
           "corresponding": "",
           "current_organization_id": "grid.4391.f",
           "first_name": "Christopher",
           "last_name": "Scaffidi",
           "orcid": "",
           "researcher_id": "ur.010561663621.27"
          },
          {
           "affiliations": [
            {
             "city": "New York",
             "city_id": 5128581,
             "country": "United States",
             "country_code": "US",
             "id": "grid.21729.3f",
             "name": "Columbia University",
             "state": "New York",
             "state_code": "US-NY"
            }
           ],
           "corresponding": "",
           "current_organization_id": "grid.21729.3f",
           "first_name": "Julie B.",
           "last_name": "Herbstman",
           "orcid": "",
           "researcher_id": "ur.0703450475.17"
          },
          {
           "affiliations": [
            {
             "city": "Richland",
             "city_id": 5808276,
             "country": "United States",
             "country_code": "US",
             "id": "grid.451303.0",
             "name": "Pacific Northwest National Laboratory",
             "state": "Washington",
             "state_code": "US-WA"
            }
           ],
           "corresponding": "",
           "current_organization_id": "grid.451303.0",
           "first_name": "Katrina M.",
           "last_name": "Waters",
           "orcid": "['0000-0003-4696-5396']",
           "researcher_id": "ur.0725520436.32"
          },
          {
           "affiliations": [
            {
             "city": "Corvallis",
             "city_id": 5720727,
             "country": "United States",
             "country_code": "US",
             "id": "grid.4391.f",
             "name": "Oregon State University",
             "state": "Oregon",
             "state_code": "US-OR"
            }
           ],
           "corresponding": "",
           "current_organization_id": "grid.4391.f",
           "first_name": "Kim A.",
           "last_name": "Anderson",
           "orcid": "",
           "researcher_id": "ur.01047162227.15"
          }
         ],
         "category_for": [
          {
           "id": "3177",
           "name": "1117 Public Health and Health Services"
          },
          {
           "id": "2211",
           "name": "11 Medical and Health Sciences"
          }
         ],
         "category_hra": [
          {
           "id": "3903",
           "name": "Population & Society"
          }
         ],
         "category_hrcs_hc": [
          {
           "id": "896",
           "name": "Respiratory"
          }
         ],
         "category_hrcs_rac": [
          {
           "id": "10202",
           "name": "2.2 Factors relating to physical environment"
          }
         ],
         "category_icrp_cso": [
          {
           "id": "3751",
           "name": "2.1 Exogenous Factors in the Origin and Cause of Cancer"
          }
         ],
         "category_icrp_ct": [
          {
           "id": "3809",
           "name": "Lung Cancer"
          }
         ],
         "category_rcdc": [
          {
           "id": "410",
           "name": "Lung"
          },
          {
           "id": "507",
           "name": "Clinical Research"
          }
         ],
         "category_ua": [
          {
           "id": "30002",
           "name": "A02 Public Health, Health Services and Primary Care"
          }
         ],
         "concepts": [
          "environmental health research",
          "health research",
          "personal chemical exposure",
          "chemical exposure",
          "exposure",
          "health outcomes",
          "outcomes",
          "environmental health concerns",
          "health concern",
          "concern",
          "respiratory health",
          "health",
          "quality",
          "ELF",
          "association",
          "diminished lung function",
          "lung function",
          "function",
          "health assessment tool",
          "assessment tool",
          "silicone wristbands",
          "wristband",
          "geospatial location data",
          "data",
          "lung function measures",
          "function measures",
          "measures",
          "spirometer",
          "individuals",
          "moderate asthma",
          "asthma",
          "days",
          "participants",
          "PAH exposure",
          "spirometry",
          "respiratory health measures",
          "health measures",
          "study population",
          "population",
          "exposure data",
          "temporal sensitivity",
          "sensitivity",
          "Inventory",
          "mapping system",
          "respiratory health outcomes",
          "criteria",
          "American Thoracic Society",
          "Thoracic Society",
          "compliance",
          "community members",
          "data collection",
          "self",
          "development",
          "health tools"
         ],
         "date": "2019-12-01",
         "date_inserted": "2019-07-03",
         "doi": "10.1186/s12889-019-7217-z",
         "funder_countries": [
          {
           "id": "US",
           "name": "United States"
          }
         ],
         "funders": [
          {
           "acronym": "NIEHS",
           "city_name": "Durham",
           "country_name": "United States",
           "id": "grid.280664.e",
           "latitude": 35.88383,
           "linkout": [
            "http://www.niehs.nih.gov/"
           ],
           "longitude": -78.88177,
           "name": "National Institute of Environmental Health Sciences",
           "state_name": "North Carolina",
           "types": [
            "Facility"
           ]
          },
          {
           "acronym": "DOE",
           "city_name": "Washington D.C.",
           "country_name": "United States",
           "id": "grid.85084.31",
           "latitude": 38.886944,
           "linkout": [
            "http://www.energy.gov/"
           ],
           "longitude": -77.02611,
           "name": "United States Department of Energy",
           "state_name": "District of Columbia",
           "types": [
            "Government"
           ]
          }
         ],
         "id": "pub.1117679594",
         "issn": [
          "1471-2458"
         ],
         "issue": "1",
         "journal": {
          "id": "jour.1024954",
          "title": "BMC Public Health"
         },
         "journal_lists": [
          "DOAJ",
          "ERA 2015",
          "Norwegian register level 1",
          "VABB-SHW",
          "PubMed"
         ],
         "linkout": "https://bmcpublichealth.biomedcentral.com/track/pdf/10.1186/s12889-019-7217-z",
         "mesh_terms": [
          "Adult",
          "Data Collection",
          "Environmental Exposure",
          "Environmental Health",
          "Female",
          "Geographic Information Systems",
          "Humans",
          "Male",
          "Middle Aged",
          "Polycyclic Aromatic Hydrocarbons",
          "Respiratory Physiological Phenomena"
         ],
         "open_access": [
          "Open Access - all",
          "Open Access - publisher",
          "Open Access - published"
         ],
         "open_access_categories": [
          {
           "description": "Article is freely available",
           "id": "oa_all",
           "name": "All OA"
          },
          {
           "description": "Version Of Record (VOR) is free under an open licence from a full OA journal",
           "id": "gold_pure",
           "name": "Pure Gold"
          }
         ],
         "pages": "854",
         "pmcid": "PMC6604385",
         "pmid": "31262274",
         "publisher": "Springer Nature",
         "reference_ids": [
          "pub.1016505747",
          "pub.1101204698",
          "pub.1003079799",
          "pub.1042495505",
          "pub.1020019172",
          "pub.1025135001",
          "pub.1086030932",
          "pub.1001075908",
          "pub.1077623628",
          "pub.1011759364",
          "pub.1059392573",
          "pub.1050071917",
          "pub.1100103939",
          "pub.1014186126",
          "pub.1026600701",
          "pub.1039011404",
          "pub.1086140994",
          "pub.1026116885",
          "pub.1044684944",
          "pub.1002383581",
          "pub.1094259206",
          "pub.1051910364",
          "pub.1003251759",
          "pub.1021333698",
          "pub.1019567935",
          "pub.1111950336",
          "pub.1077599222",
          "pub.1001164602",
          "pub.1038100298",
          "pub.1091865033",
          "pub.1045178966",
          "pub.1021318452",
          "pub.1030131683",
          "pub.1050038939",
          "pub.1085471085",
          "pub.1031221266",
          "pub.1055498851",
          "pub.1085389923",
          "pub.1022080430",
          "pub.1069287044",
          "pub.1104169778",
          "pub.1030794872",
          "pub.1093303221",
          "pub.1014095494",
          "pub.1013936437",
          "pub.1101886850",
          "pub.1100565566",
          "pub.1055088649",
          "pub.1104284140",
          "pub.1018821601",
          "pub.1023150231",
          "pub.1090896793",
          "pub.1101566641",
          "pub.1085865962",
          "pub.1015931417",
          "pub.1008873933",
          "pub.1106946664",
          "pub.1005530921",
          "pub.1028924546",
          "pub.1111642990",
          "pub.1018532658",
          "pub.1059261223",
          "pub.1090898236",
          "pub.1100417670",
          "pub.1023601152",
          "pub.1015070805"
         ],
         "references": [
          "pub.1016505747",
          "pub.1101204698",
          "pub.1003079799",
          "pub.1042495505",
          "pub.1020019172",
          "pub.1025135001",
          "pub.1086030932",
          "pub.1001075908",
          "pub.1077623628",
          "pub.1011759364",
          "pub.1059392573",
          "pub.1050071917",
          "pub.1100103939",
          "pub.1014186126",
          "pub.1026600701",
          "pub.1039011404",
          "pub.1086140994",
          "pub.1026116885",
          "pub.1044684944",
          "pub.1002383581",
          "pub.1094259206",
          "pub.1051910364",
          "pub.1003251759",
          "pub.1021333698",
          "pub.1019567935",
          "pub.1111950336",
          "pub.1077599222",
          "pub.1001164602",
          "pub.1038100298",
          "pub.1091865033",
          "pub.1045178966",
          "pub.1021318452",
          "pub.1030131683",
          "pub.1050038939",
          "pub.1085471085",
          "pub.1031221266",
          "pub.1055498851",
          "pub.1085389923",
          "pub.1022080430",
          "pub.1069287044",
          "pub.1104169778",
          "pub.1030794872",
          "pub.1093303221",
          "pub.1014095494",
          "pub.1013936437",
          "pub.1101886850",
          "pub.1100565566",
          "pub.1055088649",
          "pub.1104284140",
          "pub.1018821601",
          "pub.1023150231",
          "pub.1090896793",
          "pub.1101566641",
          "pub.1085865962",
          "pub.1015931417",
          "pub.1008873933",
          "pub.1106946664",
          "pub.1005530921",
          "pub.1028924546",
          "pub.1111642990",
          "pub.1018532658",
          "pub.1059261223",
          "pub.1090898236",
          "pub.1100417670",
          "pub.1023601152",
          "pub.1015070805"
         ],
         "research_org_cities": [
          {
           "id": 5808276,
           "name": "Richland"
          },
          {
           "id": 5128581,
           "name": "New York City"
          },
          {
           "id": 5720727,
           "name": "Corvallis"
          }
         ],
         "research_org_countries": [
          {
           "id": "US",
           "name": "United States"
          }
         ],
         "research_org_country_names": [
          "United States"
         ],
         "research_org_state_codes": [
          {
           "id": "US-NY",
           "name": "New York"
          },
          {
           "id": "US-WA",
           "name": "Washington"
          },
          {
           "id": "US-OR",
           "name": "Oregon"
          }
         ],
         "research_org_state_names": [
          "Washington",
          "Oregon",
          "New York"
         ],
         "research_orgs": [
          {
           "acronym": "PNNL",
           "city_name": "Richland",
           "country_name": "United States",
           "id": "grid.451303.0",
           "latitude": 46.343224,
           "linkout": [
            "http://www.pnnl.gov/"
           ],
           "longitude": -119.27634,
           "name": "Pacific Northwest National Laboratory",
           "state_name": "Washington",
           "types": [
            "Facility"
           ]
          },
          {
           "acronym": "OSU",
           "city_name": "Corvallis",
           "country_name": "United States",
           "id": "grid.4391.f",
           "latitude": 44.563995,
           "linkout": [
            "http://oregonstate.edu/"
           ],
           "longitude": -123.279465,
           "name": "Oregon State University",
           "state_name": "Oregon",
           "types": [
            "Education"
           ]
          },
          {
           "acronym": "CU",
           "city_name": "New York",
           "country_name": "United States",
           "id": "grid.21729.3f",
           "latitude": 40.807774,
           "linkout": [
            "http://www.columbia.edu/"
           ],
           "longitude": -73.962585,
           "name": "Columbia University",
           "state_name": "New York",
           "types": [
            "Education"
           ]
          }
         ],
         "researchers": [
          {
           "first_name": "Diana",
           "id": "ur.01372367005.47",
           "last_name": "Rohlman",
           "orcid_id": [
            "0000-0002-3982-0327"
           ],
           "research_orgs": [
            "grid.4391.f"
           ]
          },
          {
           "first_name": "Holly M",
           "id": "ur.013560713623.66",
           "last_name": "Dixon",
           "orcid_id": [
            "0000-0003-0326-4477"
           ],
           "research_orgs": [
            "grid.4391.f"
           ]
          },
          {
           "first_name": "Laurel D",
           "id": "ur.0734033252.93",
           "last_name": "Kincl",
           "research_orgs": [
            "grid.4391.f",
            "grid.94365.3d",
            "grid.170202.6",
            "grid.24827.3b",
            "grid.417617.2"
           ]
          },
          {
           "first_name": "Andrew J",
           "id": "ur.015452066115.38",
           "last_name": "Larkin",
           "research_orgs": [
            "grid.4391.f"
           ]
          },
          {
           "first_name": "Richard",
           "id": "ur.010307104343.89",
           "last_name": "Evoy",
           "research_orgs": [
            "grid.4391.f"
           ]
          },
          {
           "first_name": "Michael L",
           "id": "ur.0732733627.19",
           "last_name": "Barton",
           "research_orgs": [
            "grid.4391.f"
           ]
          },
          {
           "first_name": "Elena S",
           "id": "ur.01324547605.82",
           "last_name": "Peterson",
           "research_orgs": [
            "grid.451303.0"
           ]
          },
          {
           "first_name": "Christopher",
           "id": "ur.010561663621.27",
           "last_name": "Scaffidi",
           "research_orgs": [
            "grid.147455.6",
            "grid.281386.6",
            "grid.4391.f",
            "grid.263081.e"
           ]
          },
          {
           "first_name": "Julie Beth",
           "id": "ur.0703450475.17",
           "last_name": "Herbstman",
           "research_orgs": [
            "grid.239585.0",
            "grid.21107.35",
            "grid.21729.3f",
            "grid.413734.6"
           ]
          },
          {
           "first_name": "Katrina M",
           "id": "ur.0725520436.32",
           "last_name": "Waters",
           "orcid_id": [
            "0000-0003-4696-5396"
           ],
           "research_orgs": [
            "grid.4391.f",
            "grid.66875.3a",
            "grid.451303.0",
            "grid.14003.36",
            "grid.8756.c",
            "grid.5288.7",
            "grid.281043.c"
           ]
          },
          {
           "first_name": "Kim A",
           "id": "ur.01047162227.15",
           "last_name": "Anderson",
           "research_orgs": [
            "grid.4391.f"
           ]
          }
         ],
         "score": 0.2279413,
         "supporting_grant_ids": [
          "grant.2683495",
          "grant.3933771",
          "grant.5054590",
          "grant.2439078",
          "grant.2439097"
         ],
         "terms": [
          "environmental health research",
          "health research",
          "personal chemical exposure",
          "chemical exposure",
          "exposure",
          "health outcomes",
          "outcomes",
          "environmental health concerns",
          "health concern",
          "concern",
          "respiratory health",
          "health",
          "quality",
          "ELF",
          "association",
          "diminished lung function",
          "lung function",
          "function",
          "health assessment tool",
          "assessment tool",
          "silicone wristbands",
          "wristband",
          "geospatial location data",
          "data",
          "lung function measures",
          "function measures",
          "measures",
          "spirometer",
          "individuals",
          "moderate asthma",
          "asthma",
          "days",
          "participants",
          "PAH exposure",
          "spirometry",
          "respiratory health measures",
          "health measures",
          "study population",
          "population",
          "exposure data",
          "temporal sensitivity",
          "sensitivity",
          "Inventory",
          "mapping system",
          "respiratory health outcomes",
          "criteria",
          "American Thoracic Society",
          "Thoracic Society",
          "compliance",
          "community members",
          "data collection",
          "self",
          "development",
          "health tools"
         ],
         "title": "Development of an environmental health tool linking chemical exposures, physical location and lung function",
         "type": "article",
         "volume": "19",
         "year": 2019
        },
        {
         "FOR": [
          {
           "id": "3177",
           "name": "1117 Public Health and Health Services"
          }
         ],
         "FOR_first": [
          {
           "id": "2211",
           "name": "11 Medical and Health Sciences"
          }
         ],
         "RCDC": [
          {
           "id": "547",
           "name": "Pediatric"
          },
          {
           "id": "558",
           "name": "Prevention"
          }
         ],
         "author_affiliations": [
          [
           {
            "affiliations": [
             {
              "city": "Washington D.C.",
              "city_id": 4140963,
              "country": "United States",
              "country_code": "US",
              "id": "grid.418698.a",
              "name": "Environmental Protection Agency",
              "state": "District of Columbia",
              "state_code": "US-DC"
             }
            ],
            "corresponding": true,
            "current_organization_id": "grid.418698.a",
            "first_name": "Heather",
            "last_name": "Klemick",
            "orcid": "['0000-0003-2141-2023']",
            "researcher_id": "ur.015614052655.91"
           },
           {
            "affiliations": [
             {
              "city": "Washington D.C.",
              "city_id": 4140963,
              "country": "United States",
              "country_code": "US",
              "id": "grid.418698.a",
              "name": "Environmental Protection Agency",
              "state": "District of Columbia",
              "state_code": "US-DC"
             }
            ],
            "corresponding": "",
            "current_organization_id": "",
            "first_name": "Henry",
            "last_name": "Mason",
            "orcid": "",
            "researcher_id": ""
           },
           {
            "affiliations": [
             {
              "city": "Washington D.C.",
              "city_id": 4140963,
              "country": "United States",
              "country_code": "US",
              "id": "grid.418698.a",
              "name": "Environmental Protection Agency",
              "state": "District of Columbia",
              "state_code": "US-DC"
             }
            ],
            "corresponding": "",
            "current_organization_id": "grid.418698.a",
            "first_name": "Karen",
            "last_name": "Sullivan",
            "orcid": "",
            "researcher_id": "ur.011105320711.88"
           }
          ]
         ],
         "authors": [
          {
           "affiliations": [
            {
             "city": "Washington D.C.",
             "city_id": 4140963,
             "country": "United States",
             "country_code": "US",
             "id": "grid.418698.a",
             "name": "Environmental Protection Agency",
             "state": "District of Columbia",
             "state_code": "US-DC"
            }
           ],
           "corresponding": true,
           "current_organization_id": "grid.418698.a",
           "first_name": "Heather",
           "last_name": "Klemick",
           "orcid": "['0000-0003-2141-2023']",
           "researcher_id": "ur.015614052655.91"
          },
          {
           "affiliations": [
            {
             "city": "Washington D.C.",
             "city_id": 4140963,
             "country": "United States",
             "country_code": "US",
             "id": "grid.418698.a",
             "name": "Environmental Protection Agency",
             "state": "District of Columbia",
             "state_code": "US-DC"
            }
           ],
           "corresponding": "",
           "current_organization_id": "",
           "first_name": "Henry",
           "last_name": "Mason",
           "orcid": "",
           "researcher_id": ""
          },
          {
           "affiliations": [
            {
             "city": "Washington D.C.",
             "city_id": 4140963,
             "country": "United States",
             "country_code": "US",
             "id": "grid.418698.a",
             "name": "Environmental Protection Agency",
             "state": "District of Columbia",
             "state_code": "US-DC"
            }
           ],
           "corresponding": "",
           "current_organization_id": "grid.418698.a",
           "first_name": "Karen",
           "last_name": "Sullivan",
           "orcid": "",
           "researcher_id": "ur.011105320711.88"
          }
         ],
         "category_for": [
          {
           "id": "2214",
           "name": "14 Economics"
          },
          {
           "id": "3286",
           "name": "1401 Economic Theory"
          },
          {
           "id": "3292",
           "name": "1402 Applied Economics"
          },
          {
           "id": "2205",
           "name": "05 Environmental Sciences"
          },
          {
           "id": "2558",
           "name": "0502 Environmental Science and Management"
          }
         ],
         "category_hra": [
          {
           "id": "3903",
           "name": "Population & Society"
          }
         ],
         "category_rcdc": [
          {
           "id": "547",
           "name": "Pediatric"
          },
          {
           "id": "558",
           "name": "Prevention"
          }
         ],
         "category_ua": [
          {
           "id": "30002",
           "name": "A02 Public Health, Health Services and Primary Care"
          }
         ],
         "concepts": [
          "study",
          "effects",
          "program",
          "children's lead exposure",
          "lead exposure",
          "exposure",
          "blood lead level (BLL) measurement",
          "children",
          "data",
          "sites",
          "risk factors",
          "factors",
          "causal effect",
          "rate",
          "elevated BLLs",
          "BLL",
          "differences",
          "changes",
          "triple difference model",
          "comparison group",
          "group",
          "potential bias",
          "unobserved differences",
          "treatment",
          "risk",
          "percent"
         ],
         "date": "2019-12-01",
         "date_inserted": "2019-12-27",
         "doi": "10.1016/j.jeem.2019.102289",
         "id": "pub.1123669227",
         "issn": [
          "0095-0696",
          "1096-0449"
         ],
         "journal": {
          "id": "jour.1120840",
          "title": "Journal of Environmental Economics and Management"
         },
         "journal_lists": [
          "ERA 2015",
          "Norwegian register level 2",
          "VABB-SHW"
         ],
         "open_access_categories": [
          {
           "description": "No freely available copy has been identified",
           "id": "closed",
           "name": "Closed"
          }
         ],
         "pages": "102289",
         "publisher": "Elsevier",
         "reference_ids": [
          "pub.1063352963",
          "pub.1039834946",
          "pub.1018271768",
          "pub.1083928938",
          "pub.1026360970",
          "pub.1046882668",
          "pub.1071226036",
          "pub.1100180882",
          "pub.1064525433",
          "pub.1049829883",
          "pub.1090296350",
          "pub.1110073618",
          "pub.1064525366",
          "pub.1055501491",
          "pub.1034973826",
          "pub.1106886735",
          "pub.1024267422",
          "pub.1064530166"
         ],
         "references": [
          "pub.1063352963",
          "pub.1039834946",
          "pub.1018271768",
          "pub.1083928938",
          "pub.1026360970",
          "pub.1046882668",
          "pub.1071226036",
          "pub.1100180882",
          "pub.1064525433",
          "pub.1049829883",
          "pub.1090296350",
          "pub.1110073618",
          "pub.1064525366",
          "pub.1055501491",
          "pub.1034973826",
          "pub.1106886735",
          "pub.1024267422",
          "pub.1064530166"
         ],
         "research_org_cities": [
          {
           "id": 4140963,
           "name": "Washington, D.C."
          }
         ],
         "research_org_countries": [
          {
           "id": "US",
           "name": "United States"
          }
         ],
         "research_org_country_names": [
          "United States"
         ],
         "research_org_state_codes": [
          {
           "id": "US-DC",
           "name": "District of Columbia"
          }
         ],
         "research_org_state_names": [
          "District of Columbia"
         ],
         "research_orgs": [
          {
           "acronym": "EPA",
           "city_name": "Washington D.C.",
           "country_name": "United States",
           "id": "grid.418698.a",
           "latitude": 38.89374,
           "linkout": [
            "http://www2.epa.gov/"
           ],
           "longitude": -77.03043,
           "name": "Environmental Protection Agency",
           "state_name": "District of Columbia",
           "types": [
            "Government"
           ]
          }
         ],
         "researchers": [
          {
           "first_name": "Heather",
           "id": "ur.015614052655.91",
           "last_name": "Klemick",
           "orcid_id": [
            "0000-0003-2141-2023"
           ],
           "research_orgs": [
            "grid.418698.a"
           ]
          },
          {
           "first_name": "Karen A",
           "id": "ur.011105320711.88",
           "last_name": "Sullivan",
           "research_orgs": [
            "grid.418698.a"
           ]
          }
         ],
         "score": 0.08102578,
         "terms": [
          "study",
          "effects",
          "program",
          "children's lead exposure",
          "lead exposure",
          "exposure",
          "blood lead level (BLL) measurement",
          "children",
          "data",
          "sites",
          "risk factors",
          "factors",
          "causal effect",
          "rate",
          "elevated BLLs",
          "BLL",
          "differences",
          "changes",
          "triple difference model",
          "comparison group",
          "group",
          "potential bias",
          "unobserved differences",
          "treatment",
          "risk",
          "percent"
         ],
         "title": "Superfund cleanups and Children's lead exposure",
         "type": "article",
         "year": 2019
        },
        {
         "FOR": [
          {
           "id": "3177",
           "name": "1117 Public Health and Health Services"
          }
         ],
         "FOR_first": [
          {
           "id": "2211",
           "name": "11 Medical and Health Sciences"
          }
         ],
         "HRCS_HC": [
          {
           "id": "890",
           "name": "Generic Health Relevance"
          }
         ],
         "RCDC": [
          {
           "id": "429",
           "name": "Climate-Related Exposures and Conditions"
          }
         ],
         "author_affiliations": [
          [
           {
            "affiliations": [],
            "corresponding": "",
            "current_organization_id": "",
            "first_name": "Sun Kyoung",
            "last_name": "Park",
            "orcid": "",
            "researcher_id": ""
           }
          ]
         ],
         "authors": [
          {
           "affiliations": [],
           "corresponding": "",
           "current_organization_id": "",
           "first_name": "Sun Kyoung",
           "last_name": "Park",
           "orcid": "",
           "researcher_id": ""
          }
         ],
         "category_bra": [
          {
           "id": "4003",
           "name": "Public Health"
          }
         ],
         "category_for": [
          {
           "id": "3177",
           "name": "1117 Public Health and Health Services"
          },
          {
           "id": "2211",
           "name": "11 Medical and Health Sciences"
          }
         ],
         "category_hra": [
          {
           "id": "3903",
           "name": "Population & Society"
          }
         ],
         "category_hrcs_hc": [
          {
           "id": "890",
           "name": "Generic Health Relevance"
          }
         ],
         "category_rcdc": [
          {
           "id": "429",
           "name": "Climate-Related Exposures and Conditions"
          }
         ],
         "category_ua": [
          {
           "id": "30002",
           "name": "A02 Public Health, Health Services and Primary Care"
          }
         ],
         "concepts": [
          "evidence",
          "adverse health impacts",
          "health impacts",
          "impact",
          "study",
          "air pollution",
          "mortality rate",
          "rate",
          "respiratory disease",
          "disease",
          "Seoul",
          "decision tree model",
          "concentration",
          "exposure",
          "elevated levels",
          "levels",
          "important factor",
          "factors",
          "nitrogen dioxide",
          "fall",
          "high levels",
          "maximum concentration",
          "adverse impact"
         ],
         "date": "2019-11-07",
         "date_inserted": "2019-11-10",
         "doi": "10.3390/atmos10110685",
         "id": "pub.1122404009",
         "issn": [
          "0004-6973",
          "2073-4433"
         ],
         "issue": "11",
         "journal": {
          "id": "jour.1045241",
          "title": "Atmosphere"
         },
         "journal_lists": [
          "DOAJ",
          "Norwegian register level 1"
         ],
         "open_access_categories": [
          {
           "description": "No freely available copy has been identified",
           "id": "closed",
           "name": "Closed"
          }
         ],
         "pages": "685",
         "publisher": "MDPI",
         "reference_ids": [
          "pub.1027151497",
          "pub.1021633852",
          "pub.1071144127",
          "pub.1050438755",
          "pub.1091875746",
          "pub.1047448718",
          "pub.1039802477",
          "pub.1083527206",
          "pub.1035160191",
          "pub.1047131676",
          "pub.1029165260",
          "pub.1017480132",
          "pub.1030307991",
          "pub.1009798990",
          "pub.1103621164",
          "pub.1018397399",
          "pub.1020207639",
          "pub.1106877075",
          "pub.1016439691",
          "pub.1052577007",
          "pub.1100431490",
          "pub.1092534348",
          "pub.1105773850",
          "pub.1042548382",
          "pub.1010284918",
          "pub.1002335181",
          "pub.1042579578",
          "pub.1036189700",
          "pub.1014831732",
          "pub.1035621847",
          "pub.1064741593",
          "pub.1012214181",
          "pub.1046916194",
          "pub.1027329253",
          "pub.1034796099",
          "pub.1091420794",
          "pub.1083666903",
          "pub.1045705117",
          "pub.1019592723",
          "pub.1019780490",
          "pub.1040146808",
          "pub.1105319336"
         ],
         "references": [
          "pub.1027151497",
          "pub.1021633852",
          "pub.1071144127",
          "pub.1050438755",
          "pub.1091875746",
          "pub.1047448718",
          "pub.1039802477",
          "pub.1083527206",
          "pub.1035160191",
          "pub.1047131676",
          "pub.1029165260",
          "pub.1017480132",
          "pub.1030307991",
          "pub.1009798990",
          "pub.1103621164",
          "pub.1018397399",
          "pub.1020207639",
          "pub.1106877075",
          "pub.1016439691",
          "pub.1052577007",
          "pub.1100431490",
          "pub.1092534348",
          "pub.1105773850",
          "pub.1042548382",
          "pub.1010284918",
          "pub.1002335181",
          "pub.1042579578",
          "pub.1036189700",
          "pub.1014831732",
          "pub.1035621847",
          "pub.1064741593",
          "pub.1012214181",
          "pub.1046916194",
          "pub.1027329253",
          "pub.1034796099",
          "pub.1091420794",
          "pub.1083666903",
          "pub.1045705117",
          "pub.1019592723",
          "pub.1019780490",
          "pub.1040146808",
          "pub.1105319336"
         ],
         "score": 0.078179836,
         "terms": [
          "evidence",
          "adverse health impacts",
          "health impacts",
          "impact",
          "study",
          "air pollution",
          "mortality rate",
          "rate",
          "respiratory disease",
          "disease",
          "Seoul",
          "decision tree model",
          "concentration",
          "exposure",
          "elevated levels",
          "levels",
          "important factor",
          "factors",
          "nitrogen dioxide",
          "fall",
          "high levels",
          "maximum concentration",
          "adverse impact"
         ],
         "title": "Assessing the Impact of Ozone and Particulate Matter on Mortality Rate from Respiratory Disease in Seoul, Korea",
         "type": "article",
         "volume": "10",
         "year": 2019
        },
        {
         "FOR": [
          {
           "id": "3053",
           "name": "1103 Clinical Sciences"
          }
         ],
         "FOR_first": [
          {
           "id": "2211",
           "name": "11 Medical and Health Sciences"
          }
         ],
         "author_affiliations": [
          [
           {
            "affiliations": [],
            "corresponding": "",
            "current_organization_id": "",
            "first_name": "Lankford",
            "last_name": "DE",
            "orcid": "",
            "researcher_id": ""
           },
           {
            "affiliations": [],
            "corresponding": "",
            "current_organization_id": "",
            "first_name": "Bartschi",
            "last_name": "Jake T",
            "orcid": "",
            "researcher_id": ""
           },
           {
            "affiliations": [],
            "corresponding": "",
            "current_organization_id": "",
            "first_name": "Huntsman",
            "last_name": "Keegan",
            "orcid": "",
            "researcher_id": ""
           },
           {
            "affiliations": [],
            "corresponding": "",
            "current_organization_id": "",
            "first_name": "Gidley",
            "last_name": "Lex",
            "orcid": "",
            "researcher_id": ""
           },
           {
            "affiliations": [],
            "corresponding": "",
            "current_organization_id": "",
            "first_name": "Hook",
            "last_name": "Tyler",
            "orcid": "",
            "researcher_id": ""
           },
           {
            "affiliations": [],
            "corresponding": "",
            "current_organization_id": "",
            "first_name": "Wu",
            "last_name": "Yilin",
            "orcid": "",
            "researcher_id": ""
           }
          ]
         ],
         "authors": [
          {
           "affiliations": [],
           "corresponding": "",
           "current_organization_id": "",
           "first_name": "Lankford",
           "last_name": "DE",
           "orcid": "",
           "researcher_id": ""
          },
          {
           "affiliations": [],
           "corresponding": "",
           "current_organization_id": "",
           "first_name": "Bartschi",
           "last_name": "Jake T",
           "orcid": "",
           "researcher_id": ""
          },
          {
           "affiliations": [],
           "corresponding": "",
           "current_organization_id": "",
           "first_name": "Huntsman",
           "last_name": "Keegan",
           "orcid": "",
           "researcher_id": ""
          },
          {
           "affiliations": [],
           "corresponding": "",
           "current_organization_id": "",
           "first_name": "Gidley",
           "last_name": "Lex",
           "orcid": "",
           "researcher_id": ""
          },
          {
           "affiliations": [],
           "corresponding": "",
           "current_organization_id": "",
           "first_name": "Hook",
           "last_name": "Tyler",
           "orcid": "",
           "researcher_id": ""
          },
          {
           "affiliations": [],
           "corresponding": "",
           "current_organization_id": "",
           "first_name": "Wu",
           "last_name": "Yilin",
           "orcid": "",
           "researcher_id": ""
          }
         ],
         "category_for": [
          {
           "id": "2211",
           "name": "11 Medical and Health Sciences"
          },
          {
           "id": "3053",
           "name": "1103 Clinical Sciences"
          }
         ],
         "category_ua": [
          {
           "id": "30024",
           "name": "C24 Sport and Exercise Sciences, Leisure and Tourism"
          }
         ],
         "concepts": [
          "aim",
          "study",
          "Graded Exercise Test",
          "exercise test",
          "test",
          "alternative",
          "Bruce protocol",
          "protocol",
          "VO2max values",
          "College",
          "individuals",
          "treadmill",
          "college-aged population",
          "aged population",
          "population"
         ],
         "date": "2019-11-05",
         "date_inserted": "2019-11-22",
         "doi": "10.23937/2469-5718/1510150",
         "id": "pub.1122770045",
         "issn": [
          "2469-5718"
         ],
         "issue": "11",
         "journal": {
          "id": "jour.1052591",
          "title": "International Journal of Sports and Exercise Medicine"
         },
         "journal_lists": [
          "Norwegian register level 0"
         ],
         "open_access_categories": [
          {
           "description": "No freely available copy has been identified",
           "id": "closed",
           "name": "Closed"
          }
         ],
         "publisher": "ClinMed International Library",
         "score": 0.027526781,
         "terms": [
          "aim",
          "study",
          "Graded Exercise Test",
          "exercise test",
          "test",
          "alternative",
          "Bruce protocol",
          "protocol",
          "VO2max values",
          "College",
          "individuals",
          "treadmill",
          "college-aged population",
          "aged population",
          "population"
         ],
         "title": "Validity of Two High-Incline VO<sub>2max</sub> Protocols for College-Aged Population",
         "type": "article",
         "volume": "5",
         "year": 2019
        }
       ]
      },
      "text/plain": [
       "<dimcli.Dataset object #4691627200. Records: 10/2215>"
      ]
     },
     "execution_count": 30,
     "metadata": {
      "application/json": {
       "expanded": false,
       "root": "root"
      }
     },
     "output_type": "execute_result"
    }
   ],
   "source": [
    "a"
   ]
  },
  {
   "cell_type": "code",
   "execution_count": null,
   "metadata": {},
   "outputs": [],
   "source": [
    "'search publications for \"\\\\\"NOAA\\\\\" AND \\\\\"phrase 2\\\\\"\"',\n",
    "\n",
    "\"\\\\\"{}\\\\\"\""
   ]
  },
  {
   "cell_type": "code",
   "execution_count": null,
   "metadata": {},
   "outputs": [],
   "source": [
    "search publications in authors for \"\\\"Jennifer A Doudna\\\"\" return publications"
   ]
  }
 ],
 "metadata": {
  "kernelspec": {
   "display_name": "Python 3",
   "language": "python",
   "name": "python3"
  },
  "language_info": {
   "codemirror_mode": {
    "name": "ipython",
    "version": 3
   },
   "file_extension": ".py",
   "mimetype": "text/x-python",
   "name": "python",
   "nbconvert_exporter": "python",
   "pygments_lexer": "ipython3",
   "version": "3.7.3"
  }
 },
 "nbformat": 4,
 "nbformat_minor": 2
}
