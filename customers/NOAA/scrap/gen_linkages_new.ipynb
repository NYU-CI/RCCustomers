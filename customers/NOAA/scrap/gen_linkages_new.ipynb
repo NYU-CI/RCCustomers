{
 "cells": [
  {
   "cell_type": "code",
   "execution_count": 64,
   "metadata": {},
   "outputs": [],
   "source": [
    "# from richcontext import scholapi as rc_scholapi\n",
    "import scholapi\n",
    "import importlib\n",
    "importlib.reload(scholapi)\n",
    "import json\n",
    "import pandas as pd\n",
    "import os\n",
    "import re\n",
    "import dimcli"
   ]
  },
  {
   "cell_type": "code",
   "execution_count": 65,
   "metadata": {},
   "outputs": [],
   "source": [
    "schol = scholapi.ScholInfraAPI(config_file=\"rc.cfg\")"
   ]
  },
  {
   "cell_type": "code",
   "execution_count": 66,
   "metadata": {},
   "outputs": [],
   "source": [
    "with open('/Users/sophierand/RCCustomers/customers.json') as json_file:\n",
    "    customers = json.load(json_file)\n",
    "          \n",
    "with open('/Users/sophierand/RCDatasets/datasets.json') as json_file:\n",
    "    datasets = json.load(json_file)"
   ]
  },
  {
   "cell_type": "code",
   "execution_count": 67,
   "metadata": {},
   "outputs": [],
   "source": [
    "n_ds = [d['datasets'] for d in customers if d['name'] == 'NOAA'][0]\n",
    "noaa_datasets = [d for d in datasets if d['id'] in n_ds]"
   ]
  },
  {
   "cell_type": "code",
   "execution_count": null,
   "metadata": {},
   "outputs": [],
   "source": []
  },
  {
   "cell_type": "markdown",
   "metadata": {},
   "source": [
    "Generate dataset list"
   ]
  },
  {
   "cell_type": "code",
   "execution_count": 61,
   "metadata": {},
   "outputs": [],
   "source": [
    "for d in noaa_datasets:\n",
    "    d['search_terms'] = [d['title']]\n",
    "    try:\n",
    "        d['search_terms'].extend(d['alt_title'])\n",
    "    except:\n",
    "        pass"
   ]
  },
  {
   "cell_type": "code",
   "execution_count": 63,
   "metadata": {},
   "outputs": [],
   "source": [
    "# noaa_datasets"
   ]
  },
  {
   "cell_type": "code",
   "execution_count": 10,
   "metadata": {},
   "outputs": [],
   "source": [
    "# term_list = []\n",
    "# term_list_full = []\n",
    "# for d in datasets:\n",
    "#     new_list = []\n",
    "#     if d['id'] in n_ds:\n",
    "#         try:\n",
    "#             term_list.extend(d['alt_title'])\n",
    "#         except:\n",
    "#             pass\n",
    "#         term_list.append(d['title'])\n",
    "#     new_list = [{\"id\":d[\"id\"],\"search_term\":p} for p in term_list]\n",
    "#     term_list_full.extend(new_list)"
   ]
  },
  {
   "cell_type": "code",
   "execution_count": null,
   "metadata": {},
   "outputs": [],
   "source": [
    "# meta = schol.dimensions.full_text_search(search_term)"
   ]
  },
  {
   "cell_type": "code",
   "execution_count": 54,
   "metadata": {},
   "outputs": [],
   "source": [
    "def connect_dim():\n",
    "    dimcli.login(username=\"sr2661@nyu.edu\"\n",
    "                    ,password=\"Bro9oklyn\"\n",
    "                    )\n",
    "\n",
    "    api_obj = dimcli.Dsl(verbose=False)\n",
    "\n",
    "    return api_obj\n",
    "\n",
    "def gen_output(term_id, search_term):\n",
    "#     search_term = t\n",
    "    meta = gen_dim_output(search_term)\n",
    "    for m in meta:\n",
    "        m.update({\"datasets\":term_id,\"search_term\":search_term})\n",
    "\n",
    "    folder_name = \"/Users/sophierand/RichContextMetadata/metadata/20191223_dimensions_{}\".format(re.sub(\" \", \"_\",search_term))\n",
    "    if not os.path.exists(folder_name):\n",
    "        os.mkdir(folder_name)\n",
    "    file_path = folder_name + \"/{}.csv\".format(re.sub(\" \", \"_\",search_term))\n",
    "    meta_df = pd.DataFrame(meta)\n",
    "    meta_df.to_csv(file_path,index = False)\n",
    "    return meta_df\n",
    "#     if os.path.exists(folder_name) and len(os.listdir(folder_name)) > 0:\n",
    "#         return None    \n",
    "\n",
    "\n",
    "def gen_dim_output(search_term):\n",
    "    print('searching for {}'.format(search_term))\n",
    "    query = 'search publications in full_data_exact for \"\\\\\"{}\\\\\"\" return publications[all] limit 1000'.format(search_term)\n",
    "    api_obj = connect_dim()\n",
    "    response = api_obj.query(query)\n",
    "    resp_pubs = response.publications\n",
    "    meta = [{k: v for k, v in p.items() if k in ['journal','title','doi','linkout']} for p in resp_pubs]\n",
    "    for m in meta:\n",
    "        try:\n",
    "            m['url'] = m.pop('linkout')\n",
    "            m['journal'] = m['journal']['title']\n",
    "        except:\n",
    "            pass\n",
    "    return meta"
   ]
  },
  {
   "cell_type": "code",
   "execution_count": 56,
   "metadata": {},
   "outputs": [
    {
     "name": "stdout",
     "output_type": "stream",
     "text": [
      "outputting data for Sea Level Rise Inundation\n",
      "searching for Sea Level Rise Inundation\n",
      "DimCli v0.6.1 - Succesfully connected to <https://app.dimensions.ai> (method: manual login)\n",
      "outputting data for SLR\n",
      "searching for SLR\n",
      "DimCli v0.6.1 - Succesfully connected to <https://app.dimensions.ai> (method: manual login)\n",
      "outputting data for SLR Data\n",
      "searching for SLR Data\n",
      "DimCli v0.6.1 - Succesfully connected to <https://app.dimensions.ai> (method: manual login)\n",
      "outputting data for Sea Level Rise Data\n",
      "searching for Sea Level Rise Data\n",
      "DimCli v0.6.1 - Succesfully connected to <https://app.dimensions.ai> (method: manual login)\n",
      "outputting data for 3D Elevation Program Data\n",
      "searching for 3D Elevation Program Data\n",
      "DimCli v0.6.1 - Succesfully connected to <https://app.dimensions.ai> (method: manual login)\n",
      "outputting data for 3DEP\n",
      "searching for 3DEP\n",
      "DimCli v0.6.1 - Succesfully connected to <https://app.dimensions.ai> (method: manual login)\n",
      "outputting data for Next Generation Weather Radar\n",
      "searching for Next Generation Weather Radar\n",
      "DimCli v0.6.1 - Succesfully connected to <https://app.dimensions.ai> (method: manual login)\n",
      "outputting data for NEXRAD\n",
      "searching for NEXRAD\n",
      "DimCli v0.6.1 - Succesfully connected to <https://app.dimensions.ai> (method: manual login)\n",
      "outputting data for Social Vulnerability Index\n",
      "searching for Social Vulnerability Index\n",
      "DimCli v0.6.1 - Succesfully connected to <https://app.dimensions.ai> (method: manual login)\n",
      "outputting data for SVI\n",
      "searching for SVI\n",
      "DimCli v0.6.1 - Succesfully connected to <https://app.dimensions.ai> (method: manual login)\n",
      "outputting data for Tidal Datums\n",
      "searching for Tidal Datums\n",
      "DimCli v0.6.1 - Succesfully connected to <https://app.dimensions.ai> (method: manual login)\n",
      "outputting data for Tide gauge information\n",
      "searching for Tide gauge information\n",
      "DimCli v0.6.1 - Succesfully connected to <https://app.dimensions.ai> (method: manual login)\n",
      "outputting data for Tide gauge data\n",
      "searching for Tide gauge data\n",
      "DimCli v0.6.1 - Succesfully connected to <https://app.dimensions.ai> (method: manual login)\n",
      "outputting data for datums\n",
      "searching for datums\n",
      "DimCli v0.6.1 - Succesfully connected to <https://app.dimensions.ai> (method: manual login)\n",
      "outputting data for National Flood Hazard Layer\n",
      "searching for National Flood Hazard Layer\n",
      "DimCli v0.6.1 - Succesfully connected to <https://app.dimensions.ai> (method: manual login)\n",
      "outputting data for U.S. Interagency Elevation Inventory\n",
      "searching for U.S. Interagency Elevation Inventory\n",
      "DimCli v0.6.1 - Succesfully connected to <https://app.dimensions.ai> (method: manual login)\n",
      "outputting data for Economics: National Ocean Watch\n",
      "searching for Economics: National Ocean Watch\n",
      "DimCli v0.6.1 - Succesfully connected to <https://app.dimensions.ai> (method: manual login)\n",
      "outputting data for ENOW data\n",
      "searching for ENOW data\n",
      "DimCli v0.6.1 - Succesfully connected to <https://app.dimensions.ai> (method: manual login)\n",
      "outputting data for ENOW\n",
      "searching for ENOW\n",
      "DimCli v0.6.1 - Succesfully connected to <https://app.dimensions.ai> (method: manual login)\n",
      "outputting data for Global Forecast System\n",
      "searching for Global Forecast System\n",
      "DimCli v0.6.1 - Succesfully connected to <https://app.dimensions.ai> (method: manual login)\n",
      "outputting data for Integrated Surface Database\n",
      "searching for Integrated Surface Database\n",
      "DimCli v0.6.1 - Succesfully connected to <https://app.dimensions.ai> (method: manual login)\n",
      "outputting data for ISD\n",
      "searching for ISD\n",
      "DimCli v0.6.1 - Succesfully connected to <https://app.dimensions.ai> (method: manual login)\n",
      "outputting data for Coastal Flood Frequency\n",
      "searching for Coastal Flood Frequency\n",
      "DimCli v0.6.1 - Succesfully connected to <https://app.dimensions.ai> (method: manual login)\n",
      "outputting data for Coastal Change Analysis Program Data\n",
      "searching for Coastal Change Analysis Program Data\n",
      "DimCli v0.6.1 - Succesfully connected to <https://app.dimensions.ai> (method: manual login)\n",
      "outputting data for C-CAP data\n",
      "searching for C-CAP data\n",
      "DimCli v0.6.1 - Succesfully connected to <https://app.dimensions.ai> (method: manual login)\n",
      "outputting data for C-CAP\n",
      "searching for C-CAP\n",
      "DimCli v0.6.1 - Succesfully connected to <https://app.dimensions.ai> (method: manual login)\n",
      "outputting data for National Land Cover Database\n",
      "searching for National Land Cover Database\n",
      "DimCli v0.6.1 - Succesfully connected to <https://app.dimensions.ai> (method: manual login)\n",
      "outputting data for NLCD\n",
      "searching for NLCD\n",
      "DimCli v0.6.1 - Succesfully connected to <https://app.dimensions.ai> (method: manual login)\n"
     ]
    }
   ],
   "source": [
    "for s in ds_list:\n",
    "    for t in s['search_terms']:\n",
    "        print('outputting data for {}'.format(t))\n",
    "        meta = gen_output(term_id = s['id'], search_term = t)"
   ]
  },
  {
   "cell_type": "code",
   "execution_count": 57,
   "metadata": {},
   "outputs": [
    {
     "data": {
      "text/plain": [
       "['20191223_dimensions_Coastal_Topographic_Lidar',\n",
       " '20191223_dimensions_Gross_Domestic_Product_by_State_data',\n",
       " '20191223_dimensions_GDP_by_state',\n",
       " '20191223_dimensions_NEXRAD',\n",
       " '20191223_dimensions_ISD',\n",
       " '20191223_dimensions_National_Land_Cover_Database',\n",
       " '20191223_dimensions_NLCD',\n",
       " '20191223_dimensions_ENOW',\n",
       " '20191223_dimensions_Tidal_Datums',\n",
       " '20191223_dimensions_SLR',\n",
       " '20191223_dimensions_Economics:_National_Ocean_Watch',\n",
       " '20191223_dimensions_Coastal_Change_Analysis_Program_Data',\n",
       " '20191223_dimensions_Sea_Level_Rise_Inundation',\n",
       " '20191223_dimensions_C-CAP',\n",
       " '20191223_dimensions_Social_Vulnerability_Index',\n",
       " '20191223_dimensions_3DEP',\n",
       " '20191223_dimensions_Global_Forecast_System',\n",
       " '20191223_dimensions_datums',\n",
       " '20191223_dimensions_Next_Generation_Weather_Radar',\n",
       " '20191223_dimensions_U.S._Interagency_Elevation_Inventory',\n",
       " '20191223_dimensions_SVI',\n",
       " '20191223_dimensions_National_Flood_Hazard_Layer',\n",
       " '20191223_dimensions_Tide_gauge_data',\n",
       " '20191223_dimensions_Tide_gauge_information',\n",
       " '20191223_dimensions_ENOW_data',\n",
       " '20191223_dimensions_C-CAP_data',\n",
       " '20191223_dimensions_3D_Elevation_Program_Data',\n",
       " '20191223_dimensions_Sea_Level_Rise_Data',\n",
       " '20191223_dimensions_SLR_Data',\n",
       " '20191223_dimensions_Coastal_Flood_Frequency',\n",
       " '20191223_dimensions_Integrated_Surface_Database']"
      ]
     },
     "execution_count": 57,
     "metadata": {},
     "output_type": "execute_result"
    }
   ],
   "source": [
    "[d for d in os.listdir(\"/Users/sophierand/RichContextMetadata/metadata\") if 'dimensions' in d]"
   ]
  },
  {
   "cell_type": "code",
   "execution_count": null,
   "metadata": {},
   "outputs": [],
   "source": []
  }
 ],
 "metadata": {
  "kernelspec": {
   "display_name": "Python 3",
   "language": "python",
   "name": "python3"
  },
  "language_info": {
   "codemirror_mode": {
    "name": "ipython",
    "version": 3
   },
   "file_extension": ".py",
   "mimetype": "text/x-python",
   "name": "python",
   "nbconvert_exporter": "python",
   "pygments_lexer": "ipython3",
   "version": "3.7.3"
  }
 },
 "nbformat": 4,
 "nbformat_minor": 2
}
