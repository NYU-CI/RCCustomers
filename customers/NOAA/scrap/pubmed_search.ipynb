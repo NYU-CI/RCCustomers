{
 "cells": [
  {
   "cell_type": "code",
   "execution_count": 235,
   "metadata": {},
   "outputs": [],
   "source": [
    "# from richcontext import scholapi as rc_scholapi\n",
    "import scholapi"
   ]
  },
  {
   "cell_type": "code",
   "execution_count": 245,
   "metadata": {},
   "outputs": [],
   "source": [
    "schol = scholapi.ScholInfraAPI(config_file=\"rc.cfg\")\n",
    "# title = \"Estimating the 'True' Cost of Job Loss: Evidence Using Matched Data from California 1991-2000\"\n",
    "title = \"Perspectives on Salutogenesis of Scholars Writing in Spanish\""
   ]
  },
  {
   "cell_type": "code",
   "execution_count": null,
   "metadata": {},
   "outputs": [],
   "source": []
  },
  {
   "cell_type": "code",
   "execution_count": 246,
   "metadata": {},
   "outputs": [
    {
     "ename": "KeyError",
     "evalue": "'PubmedArticle'",
     "output_type": "error",
     "traceback": [
      "\u001b[0;31m---------------------------------------------------------------------------\u001b[0m",
      "\u001b[0;31mKeyError\u001b[0m                                  Traceback (most recent call last)",
      "\u001b[0;32m<ipython-input-246-ec71ac08f5e9>\u001b[0m in \u001b[0;36m<module>\u001b[0;34m\u001b[0m\n\u001b[0;32m----> 1\u001b[0;31m \u001b[0mmeta\u001b[0m \u001b[0;34m=\u001b[0m \u001b[0mschol\u001b[0m\u001b[0;34m.\u001b[0m\u001b[0mpubmed\u001b[0m\u001b[0;34m.\u001b[0m\u001b[0mtitle_search\u001b[0m\u001b[0;34m(\u001b[0m\u001b[0mtitle\u001b[0m\u001b[0;34m)\u001b[0m\u001b[0;34m\u001b[0m\u001b[0;34m\u001b[0m\u001b[0m\n\u001b[0m",
      "\u001b[0;32m~/RCCustomers/customers/NOAA/scholapi.py\u001b[0m in \u001b[0;36mtitle_search\u001b[0;34m(self, title)\u001b[0m\n\u001b[1;32m    593\u001b[0m         \u001b[0mxml\u001b[0m \u001b[0;34m=\u001b[0m \u001b[0mxmltodict\u001b[0m\u001b[0;34m.\u001b[0m\u001b[0mparse\u001b[0m\u001b[0;34m(\u001b[0m\u001b[0mdata\u001b[0m\u001b[0;34m)\u001b[0m\u001b[0;34m\u001b[0m\u001b[0;34m\u001b[0m\u001b[0m\n\u001b[1;32m    594\u001b[0m         \u001b[0mmeta\u001b[0m \u001b[0;34m=\u001b[0m \u001b[0mjson\u001b[0m\u001b[0;34m.\u001b[0m\u001b[0mloads\u001b[0m\u001b[0;34m(\u001b[0m\u001b[0mjson\u001b[0m\u001b[0;34m.\u001b[0m\u001b[0mdumps\u001b[0m\u001b[0;34m(\u001b[0m\u001b[0mxml\u001b[0m\u001b[0;34m)\u001b[0m\u001b[0;34m)\u001b[0m\u001b[0;34m\u001b[0m\u001b[0;34m\u001b[0m\u001b[0m\n\u001b[0;32m--> 595\u001b[0;31m         \u001b[0mmeta\u001b[0m \u001b[0;34m=\u001b[0m \u001b[0mmeta\u001b[0m\u001b[0;34m[\u001b[0m\u001b[0;34m\"PubmedArticleSet\"\u001b[0m\u001b[0;34m]\u001b[0m\u001b[0;34m[\u001b[0m\u001b[0;34m\"PubmedArticle\"\u001b[0m\u001b[0;34m]\u001b[0m\u001b[0;34m\u001b[0m\u001b[0;34m\u001b[0m\u001b[0m\n\u001b[0m\u001b[1;32m    596\u001b[0m \u001b[0;34m\u001b[0m\u001b[0m\n\u001b[1;32m    597\u001b[0m         \u001b[0mresult_title\u001b[0m \u001b[0;34m=\u001b[0m \u001b[0mmeta\u001b[0m\u001b[0;34m[\u001b[0m\u001b[0;34m\"MedlineCitation\"\u001b[0m\u001b[0;34m]\u001b[0m\u001b[0;34m[\u001b[0m\u001b[0;34m\"Article\"\u001b[0m\u001b[0;34m]\u001b[0m\u001b[0;34m[\u001b[0m\u001b[0;34m\"ArticleTitle\"\u001b[0m\u001b[0;34m]\u001b[0m\u001b[0;34m\u001b[0m\u001b[0;34m\u001b[0m\u001b[0m\n",
      "\u001b[0;31mKeyError\u001b[0m: 'PubmedArticle'"
     ]
    }
   ],
   "source": [
    "meta = schol.pubmed.title_search(title)"
   ]
  },
  {
   "cell_type": "code",
   "execution_count": 249,
   "metadata": {},
   "outputs": [],
   "source": [
    "# Entrez.email = self.parent.config[\"DEFAULT\"][\"email\"]\n",
    "\n",
    "handle = Entrez.read(Entrez.esearch(\n",
    "        db=\"pubmed\",\n",
    "        retmax=100,\n",
    "        term=\"\\\"{}\\\"\".format(title),\n",
    "        field = \"title\",\n",
    "        retmode = \"xml\"\n",
    "        ))"
   ]
  },
  {
   "cell_type": "code",
   "execution_count": 251,
   "metadata": {},
   "outputs": [],
   "source": [
    "\n",
    "\n",
    "fetch_result = Entrez.efetch(db=\"pubmed\", id='28590632', retmode=\"xml\")\n",
    "data = fetch_result.read()\n",
    "fetch_result.close()"
   ]
  },
  {
   "cell_type": "code",
   "execution_count": 253,
   "metadata": {},
   "outputs": [],
   "source": [
    "import xmltodict"
   ]
  },
  {
   "cell_type": "code",
   "execution_count": 254,
   "metadata": {},
   "outputs": [],
   "source": [
    "xml = xmltodict.parse(data)\n",
    "meta = json.loads(json.dumps(xml))"
   ]
  },
  {
   "cell_type": "code",
   "execution_count": 258,
   "metadata": {},
   "outputs": [
    {
     "data": {
      "text/plain": [
       "True"
      ]
     },
     "execution_count": 258,
     "metadata": {},
     "output_type": "execute_result"
    }
   ],
   "source": [
    "\"PubmedArticle\" in meta[\"PubmedArticleSet\"]"
   ]
  },
  {
   "cell_type": "code",
   "execution_count": 257,
   "metadata": {},
   "outputs": [
    {
     "data": {
      "text/plain": [
       "{'PubmedBookArticle': {'BookDocument': {'PMID': {'@Version': '1',\n",
       "    '#text': '28590632'},\n",
       "   'ArticleIdList': {'ArticleId': [{'@IdType': 'bookaccession',\n",
       "      '#text': 'NBK435825'},\n",
       "     {'@IdType': 'doi', '#text': '10.1007/978-3-319-04600-6_47'}]},\n",
       "   'Book': {'Publisher': {'PublisherName': 'Springer',\n",
       "     'PublisherLocation': 'Cham (CH)'},\n",
       "    'BookTitle': {'@book': 'hs', '#text': 'The Handbook of Salutogenesis'},\n",
       "    'PubDate': {'Year': '2017'},\n",
       "    'AuthorList': {'@Type': 'editors',\n",
       "     'Author': [{'LastName': 'Mittelmark',\n",
       "       'ForeName': 'Maurice B.',\n",
       "       'Initials': 'MB',\n",
       "       'AffiliationInfo': {'Affiliation': 'Department of Health Promotion and Development, University of Bergen, Bergen, Norway'}},\n",
       "      {'LastName': 'Sagy',\n",
       "       'ForeName': 'Shifra',\n",
       "       'Initials': 'S',\n",
       "       'AffiliationInfo': {'Affiliation': 'Martin Springer Center for Conflict Studies and Department of Education, Ben-Gurion University of the Negev, Beersheba, Israel'}},\n",
       "      {'LastName': 'Eriksson',\n",
       "       'ForeName': 'Monica',\n",
       "       'Initials': 'M',\n",
       "       'AffiliationInfo': {'Affiliation': 'Department of Health Sciences, University West, Trollhättan, Sweden'}},\n",
       "      {'LastName': 'Bauer',\n",
       "       'ForeName': 'Georg F.',\n",
       "       'Initials': 'GF',\n",
       "       'AffiliationInfo': {'Affiliation': 'Division of Public and Organizational Health, Epidemiology, Biostatistics and Prevention Institute, University of Zürich, Zürich, Switzerland'}},\n",
       "      {'LastName': 'Pelikan',\n",
       "       'ForeName': 'Jürgen M.',\n",
       "       'Initials': 'JM',\n",
       "       'AffiliationInfo': {'Affiliation': 'WHO-CC Health Promotion in Hospitals and Health Care, Ludwig Boltzmann Institute Health Promotion Research, Vienna, Austria'}},\n",
       "      {'LastName': 'Lindström',\n",
       "       'ForeName': 'Bengt',\n",
       "       'Initials': 'B',\n",
       "       'AffiliationInfo': {'Affiliation': 'NTNU Center for Health Promotion and Resources, Norwegian University of Science and Technology, Trondheim, Norway'}},\n",
       "      {'LastName': 'Espnes',\n",
       "       'ForeName': 'Geir Arild',\n",
       "       'Initials': 'GA',\n",
       "       'AffiliationInfo': {'Affiliation': 'NTNU Center for Health Promotion Research, Norwegian University of Science and Technology, Trondheim, Norway'}}]},\n",
       "    'Isbn': ['9783319045993', '9783319046006'],\n",
       "    'ELocationID': {'@EIdType': 'doi', '#text': '10.1007/978-3-319-04600-6'},\n",
       "    'Medium': 'Internet'},\n",
       "   'LocationLabel': {'@Type': 'chapter', '#text': 'Chapter 47'},\n",
       "   'ArticleTitle': {'@book': 'hs',\n",
       "    '@part': 'ch47',\n",
       "    '#text': 'Perspectives on Salutogenesis of Scholars Writing in Spanish'},\n",
       "   'Pagination': {'StartPage': '423', 'EndPage': '429'},\n",
       "   'Language': 'eng',\n",
       "   'AuthorList': {'@Type': 'authors',\n",
       "    'Author': [{'LastName': 'Juvinyà-Canal',\n",
       "      'ForeName': 'Dolors',\n",
       "      'Initials': 'D',\n",
       "      'AffiliationInfo': {'Affiliation': 'University of Girona, Girona, Spain'}},\n",
       "     {'LastName': 'Hernán',\n",
       "      'ForeName': 'Mariano',\n",
       "      'Initials': 'M',\n",
       "      'AffiliationInfo': {'Affiliation': 'Andalusian School of Public Health, Granada, Spain'}},\n",
       "     {'LastName': 'Gallego-Diéguez',\n",
       "      'ForeName': 'Javier',\n",
       "      'Initials': 'J',\n",
       "      'AffiliationInfo': {'Affiliation': 'Aragon Government Directorate of Public Health, Zaragoza, Spain'}}]},\n",
       "   'PublicationType': {'@UI': 'D016454', '#text': 'Review'},\n",
       "   'Abstract': {'AbstractText': 'In the last few years, the influence of salutogenesis has been growing, both in the area of research and in the public health and health promotion strategies and policies, in Spain and in Latin America. The scientific literature on salutogenesis that has been published in Spanish since 2000 is reviewed, out of which 58 scientific articles, five books, and eight doctoral theses have been identified. The publications focus on health-related professional groups, patient groups, population groups, public health, and studies related to health promotion and education. The Salutogenesis Spanish Group is a network of professionals who are interested in this subject, who work to exchange experiences and to promote salutogenesis research and development within our contexts.',\n",
       "    'CopyrightInformation': 'Copyright 2017, The Author(s).'},\n",
       "   'Sections': {'Section': [{'SectionTitle': {'@book': 'hs',\n",
       "       '@part': 'ch47',\n",
       "       '@sec': 'ch47.Sec1',\n",
       "       '#text': 'Introduction'}},\n",
       "     {'SectionTitle': {'@book': 'hs',\n",
       "       '@part': 'ch47',\n",
       "       '@sec': 'ch47.Sec2',\n",
       "       '#text': 'Review of the Scientific Literature on Salutogenesis in Spanish'}},\n",
       "     {'SectionTitle': {'@book': 'hs',\n",
       "       '@part': 'ch47',\n",
       "       '@sec': 'ch47.Sec3',\n",
       "       '#text': 'Spanish Salutogenesis Group'}}]},\n",
       "   'ContributionDate': {'Year': '2016', 'Month': '09', 'Day': '03'}},\n",
       "  'PubmedBookData': {'History': {'PubMedPubDate': [{'@PubStatus': 'pubmed',\n",
       "      'Year': '2017',\n",
       "      'Month': '6',\n",
       "      'Day': '8',\n",
       "      'Hour': '6',\n",
       "      'Minute': '1'},\n",
       "     {'@PubStatus': 'medline',\n",
       "      'Year': '2017',\n",
       "      'Month': '6',\n",
       "      'Day': '8',\n",
       "      'Hour': '6',\n",
       "      'Minute': '1'},\n",
       "     {'@PubStatus': 'entrez',\n",
       "      'Year': '2017',\n",
       "      'Month': '6',\n",
       "      'Day': '8',\n",
       "      'Hour': '6',\n",
       "      'Minute': '1'}]},\n",
       "   'PublicationStatus': 'ppublish',\n",
       "   'ArticleIdList': {'ArticleId': {'@IdType': 'pubmed',\n",
       "     '#text': '28590632'}}}}}"
      ]
     },
     "execution_count": 257,
     "metadata": {},
     "output_type": "execute_result"
    }
   ],
   "source": [
    "meta[\"PubmedArticleSet\"]"
   ]
  },
  {
   "cell_type": "code",
   "execution_count": 179,
   "metadata": {},
   "outputs": [],
   "source": [
    "from Bio import Entrez\n",
    "from collections import OrderedDict"
   ]
  },
  {
   "cell_type": "code",
   "execution_count": 180,
   "metadata": {},
   "outputs": [],
   "source": [
    "Entrez.email = \"sr2661@nyu.edu\""
   ]
  },
  {
   "cell_type": "code",
   "execution_count": 181,
   "metadata": {},
   "outputs": [],
   "source": [
    "def title_search ( title):\n",
    "\n",
    "    handle = Entrez.read(Entrez.esearch(db=\"pubmed\", retmax=100, term=\"\\\"{}\\\"\".format(title),field = \"title\",retmode = \"xml\"))\n",
    "\n",
    "    search_id = handle[\"IdList\"][0]\n",
    "\n",
    "    fetch_result = Entrez.efetch(db=\"pubmed\", id=search_id,retmode = \"xml\")\n",
    "\n",
    "    data = fetch_result.read()\n",
    "    fetch_result.close()\n",
    "\n",
    "    xml = xmltodict.parse(data)\n",
    "    meta = json.loads(json.dumps(xml))\n",
    "\n",
    "    return meta"
   ]
  },
  {
   "cell_type": "code",
   "execution_count": 182,
   "metadata": {},
   "outputs": [],
   "source": [
    "title = \"Climate-change-driven accelerated sea-level rise detected in the altimeter era\""
   ]
  },
  {
   "cell_type": "code",
   "execution_count": 183,
   "metadata": {},
   "outputs": [],
   "source": [
    "metadata = title_search(title)"
   ]
  },
  {
   "cell_type": "code",
   "execution_count": 203,
   "metadata": {},
   "outputs": [],
   "source": [
    "def gen_meta(metadata):\n",
    "    article_meta = metadata['PubmedArticleSet']['PubmedArticle']['MedlineCitation']['Article']\n",
    "    meta = OrderedDict()\n",
    "    meta[\"title\"] = article_meta[\"ArticleTitle\"]\n",
    "    original = {}\n",
    "    original[\"journal\"] = article_meta['Journal']['Title']\n",
    "\n",
    "    if article_meta[\"ELocationID\"][\"@EIdType\"] == \"doi\":\n",
    "        original[\"doi\"] = article_meta[\"ELocationID\"][\"#text\"]\n",
    "        original[\"url\"] = \"doi.org/{}\".format(doi)\n",
    "    original[\"authors\"] = article_meta[\"AuthorList\"][\"Author\"]\n",
    "    meta[\"original\"] = original\n",
    "    return meta"
   ]
  },
  {
   "cell_type": "code",
   "execution_count": 204,
   "metadata": {},
   "outputs": [],
   "source": [
    "a = gen_meta(metadata)"
   ]
  },
  {
   "cell_type": "code",
   "execution_count": null,
   "metadata": {},
   "outputs": [],
   "source": [
    "ti"
   ]
  },
  {
   "cell_type": "code",
   "execution_count": 219,
   "metadata": {},
   "outputs": [],
   "source": [
    "meta_read = json.dumps(a)\n",
    "meta_write = json.loads(meta_read)\n",
    "# meta_write"
   ]
  },
  {
   "cell_type": "code",
   "execution_count": 221,
   "metadata": {},
   "outputs": [],
   "source": [
    "path = \"{}_pub.json\".format(re.sub(\" \",\"\",title))"
   ]
  },
  {
   "cell_type": "code",
   "execution_count": 223,
   "metadata": {},
   "outputs": [],
   "source": [
    "# meta_write = json.dumps(a)\n",
    "# json.dump(meta_write,,indent = 2)\n",
    "\n",
    "with open(path, 'w') as outfile:\n",
    "    json.dump(meta_write, outfile,indent = 2)"
   ]
  },
  {
   "cell_type": "code",
   "execution_count": 224,
   "metadata": {},
   "outputs": [
    {
     "data": {
      "text/plain": [
       "{'@PubModel': 'Print-Electronic',\n",
       " 'Journal': {'ISSN': {'@IssnType': 'Electronic', '#text': '1091-6490'},\n",
       "  'JournalIssue': {'@CitedMedium': 'Internet',\n",
       "   'Volume': '115',\n",
       "   'Issue': '9',\n",
       "   'PubDate': {'Year': '2018', 'Month': '02', 'Day': '27'}},\n",
       "  'Title': 'Proceedings of the National Academy of Sciences of the United States of America',\n",
       "  'ISOAbbreviation': 'Proc. Natl. Acad. Sci. U.S.A.'},\n",
       " 'ArticleTitle': 'Climate-change-driven accelerated sea-level rise detected in the altimeter era.',\n",
       " 'Pagination': {'MedlinePgn': '2022-2025'},\n",
       " 'ELocationID': {'@EIdType': 'doi',\n",
       "  '@ValidYN': 'Y',\n",
       "  '#text': '10.1073/pnas.1717312115'},\n",
       " 'Abstract': {'AbstractText': {'sup': '2',\n",
       "   '#text': 'Using a 25-y time series of precision satellite altimeter data from TOPEX/Poseidon, Jason-1, Jason-2, and Jason-3, we estimate the climate-change-driven acceleration of global mean sea level over the last 25 y to be 0.084 ± 0.025 mm/y Coupled with the average climate-change-driven rate of sea level rise over these same 25 y of 2.9 mm/y, simple extrapolation of the quadratic implies global mean sea level could rise 65 ± 12 cm by 2100 compared with 2005, roughly in agreement with the Intergovernmental Panel on Climate Change (IPCC) 5th Assessment Report (AR5) model projections.'},\n",
       "  'CopyrightInformation': 'Copyright © 2018 the Author(s). Published by PNAS.'},\n",
       " 'AuthorList': {'@CompleteYN': 'Y',\n",
       "  'Author': [{'@ValidYN': 'Y',\n",
       "    'LastName': 'Nerem',\n",
       "    'ForeName': 'R S',\n",
       "    'Initials': 'RS',\n",
       "    'Identifier': {'@Source': 'ORCID', '#text': '0000-0003-4064-8111'},\n",
       "    'AffiliationInfo': {'Affiliation': 'Colorado Center for Astrodynamics Research, Ann and H. J. Smead Aerospace Engineering Sciences, Cooperative Institute for Research in Environmental Sciences, University of Colorado, Boulder, CO 80309; nerem@colorado.edu.'}},\n",
       "   {'@ValidYN': 'Y',\n",
       "    'LastName': 'Beckley',\n",
       "    'ForeName': 'B D',\n",
       "    'Initials': 'BD',\n",
       "    'AffiliationInfo': {'Affiliation': 'Stinger Ghaffarian Technologies Inc., NASA Goddard Space Flight Center, Greenbelt, MD 20771.'}},\n",
       "   {'@ValidYN': 'Y',\n",
       "    'LastName': 'Fasullo',\n",
       "    'ForeName': 'J T',\n",
       "    'Initials': 'JT',\n",
       "    'AffiliationInfo': {'Affiliation': 'National Center for Atmospheric Research, Boulder, CO 80305.'}},\n",
       "   {'@ValidYN': 'Y',\n",
       "    'LastName': 'Hamlington',\n",
       "    'ForeName': 'B D',\n",
       "    'Initials': 'BD',\n",
       "    'AffiliationInfo': {'Affiliation': 'Old Dominion University, Norfolk, VA 23529.'}},\n",
       "   {'@ValidYN': 'Y',\n",
       "    'LastName': 'Masters',\n",
       "    'ForeName': 'D',\n",
       "    'Initials': 'D',\n",
       "    'AffiliationInfo': {'Affiliation': 'Colorado Center for Astrodynamics Research, Ann and H. J. Smead Aerospace Engineering Sciences, Cooperative Institute for Research in Environmental Sciences, University of Colorado, Boulder, CO 80309.'}},\n",
       "   {'@ValidYN': 'Y',\n",
       "    'LastName': 'Mitchum',\n",
       "    'ForeName': 'G T',\n",
       "    'Initials': 'GT',\n",
       "    'AffiliationInfo': {'Affiliation': 'College of Marine Science, University of South Florida, St. Petersburg, FL 33701.'}}]},\n",
       " 'Language': 'eng',\n",
       " 'PublicationTypeList': {'PublicationType': [{'@UI': 'D016428',\n",
       "    '#text': 'Journal Article'},\n",
       "   {'@UI': 'D013486', '#text': \"Research Support, U.S. Gov't, Non-P.H.S.\"}]},\n",
       " 'ArticleDate': {'@DateType': 'Electronic',\n",
       "  'Year': '2018',\n",
       "  'Month': '02',\n",
       "  'Day': '12'}}"
      ]
     },
     "execution_count": 224,
     "metadata": {},
     "output_type": "execute_result"
    }
   ],
   "source": [
    "article_meta"
   ]
  },
  {
   "cell_type": "code",
   "execution_count": null,
   "metadata": {},
   "outputs": [],
   "source": []
  },
  {
   "cell_type": "code",
   "execution_count": null,
   "metadata": {},
   "outputs": [],
   "source": []
  }
 ],
 "metadata": {
  "kernelspec": {
   "display_name": "Python 3",
   "language": "python",
   "name": "python3"
  },
  "language_info": {
   "codemirror_mode": {
    "name": "ipython",
    "version": 3
   },
   "file_extension": ".py",
   "mimetype": "text/x-python",
   "name": "python",
   "nbconvert_exporter": "python",
   "pygments_lexer": "ipython3",
   "version": "3.7.3"
  }
 },
 "nbformat": 4,
 "nbformat_minor": 2
}
