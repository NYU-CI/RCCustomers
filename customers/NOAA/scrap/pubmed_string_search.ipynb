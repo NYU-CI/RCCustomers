{
 "cells": [
  {
   "cell_type": "code",
   "execution_count": 270,
   "metadata": {},
   "outputs": [],
   "source": [
    "from Bio import Entrez\n",
    "from collections import OrderedDict\n",
    "import xmltodict\n",
    "import pandas as pd\n",
    "import re\n",
    "import json\n",
    "import os"
   ]
  },
  {
   "cell_type": "code",
   "execution_count": 241,
   "metadata": {},
   "outputs": [],
   "source": [
    "Entrez.email = \"sr2661@nyu.edu\""
   ]
  },
  {
   "cell_type": "code",
   "execution_count": 306,
   "metadata": {},
   "outputs": [],
   "source": [
    "title = \"sdfsaf\""
   ]
  },
  {
   "cell_type": "code",
   "execution_count": null,
   "metadata": {},
   "outputs": [],
   "source": [
    "if \"PubmedArticle\" in meta[\"PubmedArticleSet\"]:\n",
    "            meta = meta[\"PubmedArticleSet\"][\"PubmedArticle\"]\n",
    "        "
   ]
  },
  {
   "cell_type": "code",
   "execution_count": 299,
   "metadata": {},
   "outputs": [],
   "source": [
    "def fetch_ids(search_term):\n",
    "    query_return = Entrez.read(Entrez.egquery(term=\"\\\"{}\\\"\".format(title)))\n",
    "    response_count = int([d for d in a[\"eGQueryResult\"] if d[\"DbName\"] == 'pubmed'][0][\"Count\"])\n",
    "\n",
    "    handle = Entrez.read(Entrez.esearch(db=\"pubmed\"\n",
    "                                        ,retmax=response_count\n",
    "                                        ,term=\"\\\"{}\\\"\".format(title)\n",
    "                                       )\n",
    "                        )\n",
    "\n",
    "    id_list = handle[\"IdList\"]\n",
    "    return id_list"
   ]
  },
  {
   "cell_type": "code",
   "execution_count": 281,
   "metadata": {},
   "outputs": [],
   "source": [
    "# def fetch_ids(search_term):\n",
    "\n",
    "#     handle = Entrez.read(Entrez.esearch(db=\"pubmed\"\n",
    "# #                                         ,retmax=1000\n",
    "#                                         ,term=\"\\\"{}\\\"\".format(title)\n",
    "#                                        )\n",
    "#                         )\n",
    "\n",
    "#     id_list = handle[\"IdList\"]\n",
    "#     return handle"
   ]
  },
  {
   "cell_type": "code",
   "execution_count": 303,
   "metadata": {},
   "outputs": [],
   "source": [
    "def get_results(id_list):\n",
    "    if isinstance(id_list,list):\n",
    "        id_list = \",\".join(id_list)\n",
    "        fetch_result = Entrez.efetch(db=\"pubmed\", id=id_list,retmode = \"xml\")\n",
    "\n",
    "        data = fetch_result.read()\n",
    "        fetch_result.close()\n",
    "\n",
    "        xml = xmltodict.parse(data)\n",
    "        meta_list = json.loads(json.dumps(xml))\n",
    "        meta = meta_list[\"PubmedArticleSet\"][\"PubmedArticle\"]\n",
    "        return meta\n",
    "    else:\n",
    "        raise Exception('Input to fetch from Pubmed is not a list of IDs') \n",
    "    "
   ]
  },
  {
   "cell_type": "code",
   "execution_count": 308,
   "metadata": {},
   "outputs": [],
   "source": [
    "# id_list = fetch_ids(search_term=title)\n",
    "query_return = Entrez.read(Entrez.egquery(term=\"\\\"{}\\\"\".format(title)))"
   ]
  },
  {
   "cell_type": "code",
   "execution_count": 313,
   "metadata": {},
   "outputs": [
    {
     "data": {
      "text/plain": [
       "0"
      ]
     },
     "execution_count": 313,
     "metadata": {},
     "output_type": "execute_result"
    }
   ],
   "source": [
    "query_return\n",
    "# [d for d in query_return[\"eGQueryResult\"] if d[\"DbName\"] == 'pubmed'][0]\n",
    "response_count = int([d for d in query_return[\"eGQueryResult\"] if d[\"DbName\"] == 'pubmed'][0][\"Count\"])\n",
    "response_count"
   ]
  },
  {
   "cell_type": "code",
   "execution_count": 304,
   "metadata": {},
   "outputs": [],
   "source": [
    "a = get_results(id_list)"
   ]
  },
  {
   "cell_type": "code",
   "execution_count": 305,
   "metadata": {},
   "outputs": [
    {
     "data": {
      "text/plain": [
       "6843"
      ]
     },
     "execution_count": 305,
     "metadata": {},
     "output_type": "execute_result"
    }
   ],
   "source": [
    "len(a)"
   ]
  },
  {
   "cell_type": "code",
   "execution_count": 200,
   "metadata": {},
   "outputs": [],
   "source": [
    "def gen_pub_results(m,dataset_id):\n",
    "    pm = m[\"MedlineCitation\"][\"Article\"]\n",
    "    pub_meta = {}\n",
    "    pub_meta[\"title\"] = pm[\"ArticleTitle\"]\n",
    "    pub_meta[\"datasets\"] = dataset_id\n",
    "    pub_meta[\"journal\"] = pm[\"Journal\"][\"Title\"]\n",
    "    pub_meta[\"ISSN\"] = pm[\"Journal\"][\"ISSN\"][\"#text\"]\n",
    "    try:\n",
    "        try:\n",
    "            if pm[\"ELocationID\"]['@EIdType'] == 'doi':\n",
    "                pub_meta[\"doi\"] = pm[\"ELocationID\"][\"#text\"]\n",
    "        except:\n",
    "            pass\n",
    "        try:\n",
    "            pub_meta[\"url\"] = \"https://doi.org/{}\".format(pub_meta[\"doi\"])\n",
    "        except:\n",
    "            pid_list = m[\"PubmedData\"][\"ArticleIdList\"][\"ArticleId\"]\n",
    "            for i in pid_list:\n",
    "                for k,v in i.items():\n",
    "                    if v == 'pmc':\n",
    "                        pmcid = i[\"#text\"]\n",
    "                        url = \"https://www.ncbi.nlm.nih.gov/pmc/articles/{}\".format(pmcid)\n",
    "                    else:\n",
    "                        pass\n",
    "        return pub_meta\n",
    "    except:\n",
    "        return None"
   ]
  },
  {
   "cell_type": "code",
   "execution_count": null,
   "metadata": {},
   "outputs": [],
   "source": []
  },
  {
   "cell_type": "code",
   "execution_count": 201,
   "metadata": {},
   "outputs": [],
   "source": [
    "with open('/Users/sophierand/RCCustomers/customers.json') as json_file:\n",
    "    customers = json.load(json_file)\n",
    "          \n",
    "with open('/Users/sophierand/RCDatasets/datasets.json') as json_file:\n",
    "    datasets = json.load(json_file)"
   ]
  },
  {
   "cell_type": "code",
   "execution_count": 226,
   "metadata": {},
   "outputs": [],
   "source": [
    "n_ds = [d['datasets'] for d in customers if d['name'] == 'NOAA'][0]\n",
    "noaa_datasets = [d for d in datasets if d['id'] in n_ds]\n",
    "for d in noaa_datasets:\n",
    "    d['search_terms'] = [d['title']]\n",
    "    try:\n",
    "        d['search_terms'].extend(d['alt_title'])\n",
    "    except:\n",
    "        pass"
   ]
  },
  {
   "cell_type": "code",
   "execution_count": 231,
   "metadata": {},
   "outputs": [
    {
     "data": {
      "text/plain": [
       "'/Users/sophierand/RichContextMetadata/metadata/20191228_pubmed_Sea_Level_Rise_Inundation/Sea_Level_Rise_Inundation.csv'"
      ]
     },
     "execution_count": 231,
     "metadata": {},
     "output_type": "execute_result"
    }
   ],
   "source": [
    "folder_name+\"/{}.csv\".format(re.sub(\" \",\"_\",s))"
   ]
  },
  {
   "cell_type": "code",
   "execution_count": 237,
   "metadata": {},
   "outputs": [],
   "source": [
    "# for n in noaa_datasets:\n",
    "def gen_export_md(n):\n",
    "    pmd_list = []\n",
    "    for s in n[\"search_terms\"]:\n",
    "        id_list = fetch_ids(search_term = s)\n",
    "        meta_list = get_results(id_list)\n",
    "        for m in meta_list:\n",
    "            pmd = gen_pub_results(m = m , dataset_id = n[\"id\"])\n",
    "            if pmd:\n",
    "                pmd_list.append(pmd)\n",
    "        pmd_df = pd.DataFrame(pmd_list)\n",
    "        folder_name = \"/Users/sophierand/RichContextMetadata/metadata/20191228_pubmed_{}\".format(re.sub(\" \", \"_\",s))\n",
    "        if not os.path.exists(folder_name):\n",
    "            os.mkdir(folder_name)\n",
    "        file_name = folder_name+\"/{}.csv\".format(re.sub(\" \",\"_\",s))\n",
    "        pmd_df.to_csv(file_name, index = False)\n",
    "\n"
   ]
  },
  {
   "cell_type": "code",
   "execution_count": 238,
   "metadata": {},
   "outputs": [],
   "source": [
    "for n in noaa_datasets:\n",
    "    gen_export_md(n)"
   ]
  },
  {
   "cell_type": "code",
   "execution_count": 239,
   "metadata": {},
   "outputs": [
    {
     "data": {
      "text/plain": [
       "['20191228_pubmed_ENOW_data',\n",
       " '20191228_pubmed_NEXRAD',\n",
       " '20191228_pubmed_Social_Vulnerability_Index',\n",
       " '20191228_pubmed_Global_Forecast_System',\n",
       " '20191228_pubmed_National_Flood_Hazard_Layer',\n",
       " '20191228_pubmed_US_Interagency_Elevation_Inventory',\n",
       " '20191228_pubmed_NLCD',\n",
       " '20191228_pubmed_National_Land_Cover_Database',\n",
       " '20191228_pubmed_ISD',\n",
       " '20191228_pubmed_SLR',\n",
       " '20191228_pubmed_Coastal_Flood_Frequency',\n",
       " '20191228_pubmed_ENOW',\n",
       " '20191228_pubmed_3D_Elevation_Program_Data',\n",
       " '20191228_pubmed_Sea_Level_Rise_Data',\n",
       " '20191228_pubmed_C-CAP_data',\n",
       " '20191228_pubmed_C-CAP',\n",
       " '20191228_pubmed_Integrated_Surface_Database',\n",
       " '20191228_pubmed_3DEP',\n",
       " '20191228_pubmed_Economics:_National_Ocean_Watch',\n",
       " '20191228_pubmed_SVI',\n",
       " '20191228_pubmed_SLR_Data',\n",
       " '20191228_pubmed_datums',\n",
       " '20191228_pubmed_Tidal_Datums',\n",
       " '20191228_pubmed_Next_Generation_Weather_Radar',\n",
       " '20191228_pubmed_Sea_Level_Rise_Inundation',\n",
       " '20191228_pubmed_Tide_gauge_data',\n",
       " '20191228_pubmed_Coastal_Change_Analysis_Program_Data',\n",
       " '20191228_pubmed_Coastal_Topographic_Lidar',\n",
       " '20191228_pubmed_Tide_gauge_information']"
      ]
     },
     "execution_count": 239,
     "metadata": {},
     "output_type": "execute_result"
    }
   ],
   "source": [
    "[p for p in os.listdir(\"/Users/sophierand/RichContextMetadata/metadata\") if 'pubmed' in p]"
   ]
  },
  {
   "cell_type": "code",
   "execution_count": null,
   "metadata": {},
   "outputs": [],
   "source": []
  }
 ],
 "metadata": {
  "kernelspec": {
   "display_name": "Python 3",
   "language": "python",
   "name": "python3"
  },
  "language_info": {
   "codemirror_mode": {
    "name": "ipython",
    "version": 3
   },
   "file_extension": ".py",
   "mimetype": "text/x-python",
   "name": "python",
   "nbconvert_exporter": "python",
   "pygments_lexer": "ipython3",
   "version": "3.7.3"
  }
 },
 "nbformat": 4,
 "nbformat_minor": 2
}
