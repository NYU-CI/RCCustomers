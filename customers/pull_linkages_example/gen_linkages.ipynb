{
 "cells": [
  {
   "cell_type": "code",
   "execution_count": 54,
   "metadata": {},
   "outputs": [],
   "source": [
    "from richcontext import scholapi as rc_scholapi\n",
    "import pprint\n",
    "import json\n",
    "import pandas as pd\n",
    "from datetime import date\n",
    "import re"
   ]
  },
  {
   "cell_type": "code",
   "execution_count": 36,
   "metadata": {},
   "outputs": [],
   "source": [
    "# initialize the federated API access\n",
    "schol = rc_scholapi.ScholInfraAPI(config_file=\"rc.cfg\", logger=None)"
   ]
  },
  {
   "cell_type": "code",
   "execution_count": 30,
   "metadata": {},
   "outputs": [],
   "source": [
    "datasets_list_path = 'datasets_list.json'\n",
    "with open(datasets_list_path) as json_file:\n",
    "    datasets_list = json.load(json_file)\n"
   ]
  },
  {
   "cell_type": "markdown",
   "metadata": {},
   "source": [
    "Note: depending on the dataset, I was manually decididing which dataset strings should be used. For example `Higher Education Research and Development Survey` has alias `HERD`, which was providing a bunch of articles about livestock. I excluded with an eye toward making the GRA task a little more efficient, but would we want to include things like this as false examples for downstream models?"
   ]
  },
  {
   "cell_type": "code",
   "execution_count": 69,
   "metadata": {},
   "outputs": [],
   "source": [
    "ds_elem = datasets_list[0]"
   ]
  },
  {
   "cell_type": "code",
   "execution_count": 42,
   "metadata": {},
   "outputs": [],
   "source": [
    "search_term = ds_elem['title']\n",
    "dataset_id = ds_elem['id']"
   ]
  },
  {
   "cell_type": "code",
   "execution_count": 43,
   "metadata": {},
   "outputs": [
    {
     "name": "stdout",
     "output_type": "stream",
     "text": [
      "DimCli v0.6.1 - Succesfully connected to <https://app.dimensions.ai> (method: manual login)\n"
     ]
    }
   ],
   "source": [
    "linkages = schol.dimensions.full_text_search(search_term)"
   ]
  },
  {
   "cell_type": "code",
   "execution_count": 70,
   "metadata": {},
   "outputs": [],
   "source": [
    "def gen_linkage_csv(ds_elem):\n",
    "    search_term = ds_elem['title']\n",
    "    dataset_id = ds_elem['id']\n",
    "    linkages = schol.dimensions.full_text_search(search_term)\n",
    "    [d.update({'dataset_string':search_term,'dataset':dataset_id}) for d in linkages]\n",
    "    linkages_df = pd.DataFrame(linkages)\n",
    "    return linkages_df"
   ]
  },
  {
   "cell_type": "code",
   "execution_count": 75,
   "metadata": {},
   "outputs": [],
   "source": [
    "def export_linkages(ds_elem,linkages_df):\n",
    "    search_term = ds_elem['title']\n",
    "    folder_path = '/Users/sophierand/RichContextMetadata/metadata/{}_{}/'.format(date.today().strftime(\"%Y%m%d\"),re.sub(\" \",'',search_term))\n",
    "    folder_name = '{}_{}'.format(date.today().strftime(\"%Y%m%d\"),re.sub(\" \",'',search_term))\n",
    "    file_path = '/Users/sophierand/RichContextMetadata/metadata/'+folder_name\n",
    "    if folder_name not in os.listdir('/Users/sophierand/RichContextMetadata/metadata'):\n",
    "        os.mkdir(file_path)\n",
    "        csv_path = file_path+'/{}_linkages.csv'.format(re.sub(\" \",\"\",search_term))\n",
    "        linkages_df.to_csv(csv_path,index = False)\n",
    "    "
   ]
  },
  {
   "cell_type": "code",
   "execution_count": 78,
   "metadata": {},
   "outputs": [],
   "source": [
    "for ds_elem in datasets_list:\n",
    "    df = gen_linkage_csv(ds_elem)\n",
    "    export_linkages(ds_elem,df)"
   ]
  },
  {
   "cell_type": "code",
   "execution_count": 68,
   "metadata": {},
   "outputs": [],
   "source": [
    "folder_path = '/Users/sophierand/RichContextMetadata/metadata/{}_{}/'.format(date.today().strftime(\"%Y%m%d\"),re.sub(\" \",'',search_term))\n",
    "folder_name = '{}_{}'.format(date.today().strftime(\"%Y%m%d\"),re.sub(\" \",'',search_term))\n",
    "file_path = '/Users/sophierand/RichContextMetadata/metadata/'+folder_name\n",
    "if folder_name not in os.listdir('/Users/sophierand/RichContextMetadata/metadata'):\n",
    "    os.mkdir(file_path)\n",
    "    csv_path = file_path+'/{}_linkages.csv'.format(re.sub(\" \",\"\",search_term))\n",
    "    linkages_df.to_csv(csv_path,index = False)"
   ]
  },
  {
   "cell_type": "code",
   "execution_count": null,
   "metadata": {},
   "outputs": [],
   "source": [
    "# ds_elem = datasets_list[1]\n",
    "# df = gen_linkage_csv(ds_elem)"
   ]
  }
 ],
 "metadata": {
  "kernelspec": {
   "display_name": "Python 3",
   "language": "python",
   "name": "python3"
  },
  "language_info": {
   "codemirror_mode": {
    "name": "ipython",
    "version": 3
   },
   "file_extension": ".py",
   "mimetype": "text/x-python",
   "name": "python",
   "nbconvert_exporter": "python",
   "pygments_lexer": "ipython3",
   "version": "3.7.3"
  }
 },
 "nbformat": 4,
 "nbformat_minor": 2
}
