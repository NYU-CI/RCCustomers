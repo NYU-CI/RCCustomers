{
 "cells": [
  {
   "cell_type": "code",
   "execution_count": 13,
   "metadata": {},
   "outputs": [],
   "source": [
    "import json"
   ]
  },
  {
   "cell_type": "code",
   "execution_count": 43,
   "metadata": {},
   "outputs": [],
   "source": [
    "def flatten(l):\n",
    "    fl = [item for sublist in l for item in sublist]\n",
    "    return fl\n",
    "\n",
    "def read_datasets():\n",
    "    datasets_path = \"/Users/sophierand/RCDatasets/datasets.json\"\n",
    "    with open(datasets_path) as json_file:\n",
    "        datasets = json.load(json_file)\n",
    "    return datasets\n",
    "\n",
    "\n",
    "def read_stewards():\n",
    "    stewards_path = \"/Users/sophierand/RCStewards/stewards.json\"\n",
    "    with open(stewards_path) as json_file:\n",
    "        stewards = json.load(json_file)\n",
    "    return stewards"
   ]
  },
  {
   "cell_type": "code",
   "execution_count": 44,
   "metadata": {},
   "outputs": [],
   "source": [
    "datasets = read_datasets()\n",
    "stewards = read_stewards()"
   ]
  },
  {
   "cell_type": "markdown",
   "metadata": {},
   "source": [
    "Read additional metadata from old ADRF"
   ]
  },
  {
   "cell_type": "code",
   "execution_count": 159,
   "metadata": {},
   "outputs": [],
   "source": [
    "    ds_md_path = \"/Users/sophierand/RCCustomers/exports/USDA/usda_datadump.json\"\n",
    "    with open(ds_md_path) as json_file:\n",
    "        addl_ds_md = json.load(json_file)\n",
    "\n"
   ]
  },
  {
   "cell_type": "markdown",
   "metadata": {},
   "source": [
    "Read in USDA datasets and add `steward` and `in_adrf` fields"
   ]
  },
  {
   "cell_type": "code",
   "execution_count": 160,
   "metadata": {},
   "outputs": [],
   "source": [
    "usda_datasets_path = 'usda_datasets_list.json'\n",
    "with open(usda_datasets_path) as json_file:\n",
    "    usda_datasets = json.load(json_file)"
   ]
  },
  {
   "cell_type": "code",
   "execution_count": 161,
   "metadata": {},
   "outputs": [],
   "source": [
    "# usda_datasets = ['dataset-001',\"dataset-364\",\"dataset-365\",\"dataset-370\"]"
   ]
  },
  {
   "cell_type": "code",
   "execution_count": 162,
   "metadata": {},
   "outputs": [],
   "source": [
    "# addl_ds_md"
   ]
  },
  {
   "cell_type": "code",
   "execution_count": 163,
   "metadata": {},
   "outputs": [],
   "source": [
    "addl_md_fields = ['temporal_coverage_start', 'temporal_coverage_end'\n",
    "                  , 'files_total', 'data_classification', 'access_actions_required'\n",
    "                  , 'geographical_coverage', 'adrf_id', 'category', 'dataset_version'\n",
    "                  , 'data_usage_policy', 'data_steward_organization',  'files'\n",
    "                  , 'access_requirements', 'geographical_unit', 'related_articles'\n",
    "                  , 'data_provider', 'dataset_documentation', 'dataset_version_date'\n",
    "                  , 'source_archive', 'dataset_citation', 'reference_url', 'file_names'\n",
    "                  , 'created_at', 'updated_at', 'keywords', 'user_that_bookmarked']\n",
    "\n",
    "ds_md_list = []\n",
    "for d in usda_datasets:\n",
    "    ds_md = [a for a in datasets if d == a['id']][0]\n",
    "    ds_steward_list = [s['name'] for s in stewards if d in s['datasets']]\n",
    "    if len(ds_steward_list) > 0:\n",
    "        ds_steward = ds_steward_list[0]\n",
    "        ds_md.update({'steward':ds_steward,'in_adrf':1})\n",
    "    if len(ds_steward_list) == 0:\n",
    "        ds_md.update({'in_adrf':0})\n",
    "    addl_md = [p for p in addl_ds_md if d == p['dataset_id']]\n",
    "    if len(addl_md) > 0:\n",
    "        addl_md = addl_md[0]['fields']\n",
    "        addl_md_keep = {k: addl_md[k] for k in addl_md_fields }\n",
    "        ds_md.update(addl_md_keep)\n",
    "    ds_md_list.append(ds_md)"
   ]
  },
  {
   "cell_type": "code",
   "execution_count": 165,
   "metadata": {},
   "outputs": [],
   "source": [
    "# ds_md_list"
   ]
  },
  {
   "cell_type": "code",
   "execution_count": 166,
   "metadata": {},
   "outputs": [],
   "source": [
    "# ds_md_list\n",
    "\n",
    "usda_datasets_export_path = 'usda_datasets_export.json'\n",
    "with open(usda_datasets_export_path, 'w') as outfile:\n",
    "    json.dump(ds_md_list, outfile, indent=2)"
   ]
  },
  {
   "cell_type": "code",
   "execution_count": null,
   "metadata": {},
   "outputs": [],
   "source": []
  }
 ],
 "metadata": {
  "kernelspec": {
   "display_name": "Python 3",
   "language": "python",
   "name": "python3"
  },
  "language_info": {
   "codemirror_mode": {
    "name": "ipython",
    "version": 3
   },
   "file_extension": ".py",
   "mimetype": "text/x-python",
   "name": "python",
   "nbconvert_exporter": "python",
   "pygments_lexer": "ipython3",
   "version": "3.7.3"
  }
 },
 "nbformat": 4,
 "nbformat_minor": 2
}
