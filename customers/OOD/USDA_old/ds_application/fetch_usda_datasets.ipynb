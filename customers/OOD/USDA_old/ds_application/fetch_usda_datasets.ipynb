{
 "cells": [
  {
   "cell_type": "code",
   "execution_count": 1,
   "metadata": {},
   "outputs": [],
   "source": [
    "import os\n",
    "import json"
   ]
  },
  {
   "cell_type": "markdown",
   "metadata": {},
   "source": [
    "### Extract dataset mentions by looking at partition files"
   ]
  },
  {
   "cell_type": "code",
   "execution_count": 2,
   "metadata": {},
   "outputs": [],
   "source": [
    "customer_name = 'U.S. Department of Agriculture'\n",
    "customer_alias = 'usda'"
   ]
  },
  {
   "cell_type": "code",
   "execution_count": 3,
   "metadata": {},
   "outputs": [
    {
     "data": {
      "text/plain": [
       "['/Users/sophierand/RCPublications/partitions/20190619_usda_foodaps_publications.json',\n",
       " '/Users/sophierand/RCPublications/partitions/20190610_usda_iri_publications.json',\n",
       " '/Users/sophierand/RCPublications/partitions/20190920_usda_endnote_publications.json',\n",
       " '/Users/sophierand/RCPublications/partitions/20190717_usda_snap_publications.json',\n",
       " '/Users/sophierand/RCPublications/partitions/20190723_usda_dyads_publications.json',\n",
       " '/Users/sophierand/RCPublications/partitions/20190913_usda_excel_publications.json']"
      ]
     },
     "execution_count": 3,
     "metadata": {},
     "output_type": "execute_result"
    }
   ],
   "source": [
    "usda_partitions = [os.path.join('/Users/sophierand/RCPublications/partitions',f) for f in os.listdir('/Users/sophierand/RCPublications/partitions') if f.endswith('.json') and customer_alias in f]\n",
    "usda_partitions"
   ]
  },
  {
   "cell_type": "code",
   "execution_count": 4,
   "metadata": {},
   "outputs": [],
   "source": [
    "def flatten(l):\n",
    "    fl = [item for sublist in l for item in sublist]\n",
    "    return fl\n",
    "\n",
    "def read_partitions(partitions):\n",
    "    pub_list = []\n",
    "    for p in partitions:\n",
    "        with open(p) as json_file:\n",
    "            partition = json.load(json_file)\n",
    "            pub_list.append(partition)\n",
    "    pub_list = flatten(pub_list)\n",
    "    return pub_list\n",
    "\n",
    "def extract_datasets(publication_data):\n",
    "    datasets = []\n",
    "    publication_datasets = [d['datasets'] for d in publication_data]\n",
    "    for i in publication_datasets:\n",
    "        datasets += i\n",
    "    datasets = list(set(datasets))\n",
    "    return datasets"
   ]
  },
  {
   "cell_type": "code",
   "execution_count": 5,
   "metadata": {},
   "outputs": [],
   "source": [
    "usda_pubs = read_partitions(usda_partitions)\n",
    "datasets_publication = extract_datasets(usda_pubs)"
   ]
  },
  {
   "cell_type": "markdown",
   "metadata": {},
   "source": [
    "#### Extract datasets by looking at the `provider` field in `datasets.json`"
   ]
  },
  {
   "cell_type": "code",
   "execution_count": 9,
   "metadata": {},
   "outputs": [],
   "source": [
    "def datasets_by_provider(datasets,provider_name):\n",
    "    datasets = list(set([d['id'] for d in datasets if d['provider'] == provider_name]))\n",
    "    return datasets\n",
    "def read_datasets_listing():\n",
    "    datasets_path = \"/Users/sophierand/RCDatasets/datasets.json\"\n",
    "    with open(datasets_path) as json_file:\n",
    "        datasets = json.load(json_file)\n",
    "    return datasets"
   ]
  },
  {
   "cell_type": "code",
   "execution_count": 10,
   "metadata": {},
   "outputs": [],
   "source": [
    "datasets = read_datasets_listing()"
   ]
  },
  {
   "cell_type": "code",
   "execution_count": 11,
   "metadata": {},
   "outputs": [],
   "source": [
    "datasets_provider = datasets_by_provider(datasets = datasets, provider_name = customer_name)"
   ]
  },
  {
   "cell_type": "markdown",
   "metadata": {},
   "source": [
    "#### Extract datasets by looking at customers.json"
   ]
  },
  {
   "cell_type": "code",
   "execution_count": 27,
   "metadata": {},
   "outputs": [],
   "source": [
    "customers_path = \"/Users/sophierand/RCCustomers/customers.json\"\n",
    "with open(customers_path) as json_file:\n",
    "    customers = json.load(json_file)\n"
   ]
  },
  {
   "cell_type": "code",
   "execution_count": 32,
   "metadata": {},
   "outputs": [],
   "source": [
    "customers_datasets = flatten([d['datasets'] for d in customers if d['name']=='U.S. Department of Agriculture'])\n",
    "# customers_datasets"
   ]
  },
  {
   "cell_type": "markdown",
   "metadata": {},
   "source": [
    "#### Combine datasets"
   ]
  },
  {
   "cell_type": "code",
   "execution_count": 34,
   "metadata": {},
   "outputs": [],
   "source": [
    "usda_datasets = list(set(datasets_provider+datasets_publication+customers_datasets))"
   ]
  },
  {
   "cell_type": "code",
   "execution_count": 35,
   "metadata": {},
   "outputs": [],
   "source": [
    "usda_datasets_path = 'usda_datasets_list.json'\n",
    "with open(usda_datasets_path, 'w') as outfile:\n",
    "    json.dump(usda_datasets, outfile, indent=2)"
   ]
  },
  {
   "cell_type": "code",
   "execution_count": 21,
   "metadata": {},
   "outputs": [],
   "source": [
    "customers = {'name':customer_name,'alias':customer_alias,'datasets':final_sets}"
   ]
  },
  {
   "cell_type": "code",
   "execution_count": null,
   "metadata": {},
   "outputs": [],
   "source": [
    "json_cust_path = 'customerspublications.json'"
   ]
  },
  {
   "cell_type": "code",
   "execution_count": null,
   "metadata": {},
   "outputs": [],
   "source": [
    "with open(json_pub_path, 'w') as outfile:\n",
    "    json.dump(linkage_list, outfile, indent=2)"
   ]
  }
 ],
 "metadata": {
  "kernelspec": {
   "display_name": "Python 3",
   "language": "python",
   "name": "python3"
  },
  "language_info": {
   "codemirror_mode": {
    "name": "ipython",
    "version": 3
   },
   "file_extension": ".py",
   "mimetype": "text/x-python",
   "name": "python",
   "nbconvert_exporter": "python",
   "pygments_lexer": "ipython3",
   "version": "3.7.3"
  }
 },
 "nbformat": 4,
 "nbformat_minor": 2
}
