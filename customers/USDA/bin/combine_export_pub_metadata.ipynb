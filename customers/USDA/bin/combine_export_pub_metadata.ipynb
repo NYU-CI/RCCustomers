{
 "cells": [
  {
   "cell_type": "code",
   "execution_count": 25,
   "metadata": {},
   "outputs": [],
   "source": [
    "import json\n",
    "import glob"
   ]
  },
  {
   "cell_type": "code",
   "execution_count": 26,
   "metadata": {},
   "outputs": [],
   "source": [
    "def flatten(l):\n",
    "    flat_list = [item for sublist in l for item in sublist]\n",
    "    return flat_list"
   ]
  },
  {
   "cell_type": "code",
   "execution_count": 44,
   "metadata": {},
   "outputs": [],
   "source": [
    "def read_partitions():\n",
    "    partition_paths = glob.glob('/Users/sophierand/RCCustomers/customers/USDA/partitions/*.json')\n",
    "    partition_paths\n",
    "    all_partitions = []\n",
    "    for p in partition_paths:\n",
    "        with open(p) as json_file:\n",
    "            partition_data = json.load(json_file)\n",
    "            all_partitions.append(partition_data)\n",
    "    all_partitions = flatten(all_partitions)\n",
    "    return all_partitions\n",
    "\n",
    "def align_md(a):\n",
    "    metadata_dict = {k:a[k] for k in ['datasets','title']}\n",
    "    metadata_dict['title'] = metadata_dict['title'].replace('\"',\"'\")\n",
    "    try:\n",
    "        url = a['europepmc']['url']\n",
    "    except:\n",
    "        try:\n",
    "            url = a['original']['url']\n",
    "        except:\n",
    "            url = ''\n",
    "    metadata_dict.update({'url':url})\n",
    "    try:\n",
    "        pdf = a['original']['pdf']\n",
    "\n",
    "    except:\n",
    "        try:\n",
    "            pdf = a['dimensions']['linkout']\n",
    "            metadata_dict.update({'pdf':pdf})\n",
    "        except:\n",
    "            pdf = ''  \n",
    "    metadata_dict.update({'pdf':pdf})\n",
    "    try:\n",
    "        journal = a['dimensions']['journal_title']\n",
    "\n",
    "    except:\n",
    "        try:\n",
    "            journal = a['europepmc']['journal']\n",
    "        except:\n",
    "            try:\n",
    "                journal = a['original']['journal']\n",
    "            except:\n",
    "                journal = ''\n",
    "    metadata_dict.update({'journal':journal})\n",
    "    try:\n",
    "        keywords = a['dimensions']['keywords']\n",
    "\n",
    "    except:\n",
    "        keywords = ''\n",
    "    metadata_dict.update({'keywords':keywords})\n",
    "    try:\n",
    "        doi = a['dimensions']['doi']\n",
    "       \n",
    "    except:\n",
    "        try:\n",
    "            doi = a['europepmc']['doi']\n",
    "        except:\n",
    "            try:\n",
    "                doi = a['original']['doi']\n",
    "            except:\n",
    "                doi = ''\n",
    "    metadata_dict.update({'doi':doi})\n",
    "    return metadata_dict\n",
    "\n",
    "\n",
    "import hashlib\n",
    "\n",
    "def get_hash (strings, prefix=None, digest_size=10):\n",
    "    \"\"\"\n",
    "    construct a unique identifier from a collection of strings\n",
    "    \"\"\"\n",
    "    m = hashlib.blake2b(digest_size=digest_size)\n",
    "    \n",
    "    for elem in sorted(map(lambda x: x.encode(\"utf-8\").lower().strip(), strings)):\n",
    "        m.update(elem)\n",
    "\n",
    "    if prefix:\n",
    "        id = prefix + m.hexdigest()\n",
    "    else:\n",
    "        id = m.hexdigest()\n",
    "\n",
    "    return id\n",
    "\n",
    "\n"
   ]
  },
  {
   "cell_type": "code",
   "execution_count": 45,
   "metadata": {},
   "outputs": [],
   "source": [
    "parts = read_partitions()\n",
    "# len(parts)"
   ]
  },
  {
   "cell_type": "code",
   "execution_count": 46,
   "metadata": {},
   "outputs": [],
   "source": [
    "# parts[1]"
   ]
  },
  {
   "cell_type": "markdown",
   "metadata": {},
   "source": [
    "### MAIN"
   ]
  },
  {
   "cell_type": "code",
   "execution_count": 47,
   "metadata": {},
   "outputs": [],
   "source": [
    "aligned_list = []\n",
    "for u in parts:\n",
    "    align_return = align_md(u)\n",
    "    hash_val = 'publication-{}'.format(get_hash(u['title']))\n",
    "    align_return.update({'pub_id':hash_val})\n",
    "    aligned_list.append(align_return)"
   ]
  },
  {
   "cell_type": "code",
   "execution_count": 48,
   "metadata": {},
   "outputs": [
    {
     "data": {
      "text/plain": [
       "{'datasets': ['dataset-025'],\n",
       " 'title': 'The Association Between Nutrition Information Use and the Healthfulness of Food Acquisitions',\n",
       " 'url': 'https://www.ers.usda.gov/webdocs/publications/88531/err-247.pdf?v=0',\n",
       " 'pdf': '',\n",
       " 'journal': 'United States Department of Agriculture, Economic Research Service',\n",
       " 'keywords': '',\n",
       " 'doi': 'https://www.ers.usda.gov/publications/pub-details/?pubid=88530',\n",
       " 'pub_id': 'publication-ac36c0758a70132f71c3'}"
      ]
     },
     "execution_count": 48,
     "metadata": {},
     "output_type": "execute_result"
    }
   ],
   "source": [
    "aligned_list[0]"
   ]
  },
  {
   "cell_type": "code",
   "execution_count": 49,
   "metadata": {},
   "outputs": [],
   "source": [
    "partition_path = \"/Users/sophierand/RCCustomers/customers/USDA/exports/usda_pubs_metadata.json\"\n",
    "with open(partition_path, 'w') as outfile:\n",
    "    json.dump(aligned_list, outfile, indent=2)\n"
   ]
  },
  {
   "cell_type": "code",
   "execution_count": null,
   "metadata": {},
   "outputs": [],
   "source": []
  }
 ],
 "metadata": {
  "kernelspec": {
   "display_name": "Python 3",
   "language": "python",
   "name": "python3"
  },
  "language_info": {
   "codemirror_mode": {
    "name": "ipython",
    "version": 3
   },
   "file_extension": ".py",
   "mimetype": "text/x-python",
   "name": "python",
   "nbconvert_exporter": "python",
   "pygments_lexer": "ipython3",
   "version": "3.7.3"
  }
 },
 "nbformat": 4,
 "nbformat_minor": 2
}
