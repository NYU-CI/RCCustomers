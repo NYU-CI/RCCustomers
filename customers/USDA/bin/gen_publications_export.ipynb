{
 "cells": [
  {
   "cell_type": "code",
   "execution_count": 1,
   "metadata": {},
   "outputs": [],
   "source": [
    "import json\n",
    "import os\n",
    "import RichContextAPI\n",
    "import importlib\n",
    "importlib.reload(RichContextAPI)\n",
    "import re\n",
    "import glob"
   ]
  },
  {
   "cell_type": "markdown",
   "metadata": {},
   "source": [
    "Read in all USDA publications and partition files"
   ]
  },
  {
   "cell_type": "code",
   "execution_count": 2,
   "metadata": {},
   "outputs": [],
   "source": [
    "def read_usda_pubs():\n",
    "    usda_pubs_path = os.path.dirname(os.path.abspath(os.getcwd()))+'/exports/usda_pubs_list.json'\n",
    "    with open(usda_pubs_path) as json_file:\n",
    "        usda_pubs = json.load(json_file)\n",
    "    return usda_pubs\n",
    "\n",
    "def flatten(l):\n",
    "    fl = [item for sublist in l for item in sublist]\n",
    "    return fl\n",
    "\n",
    "def read_partition_titles():\n",
    "    partition_paths = glob.glob('/Users/sophierand/RCCustomers/customers/USDA/partitions/*.json')\n",
    "    partition_paths\n",
    "    all_partitions = []\n",
    "    for p in partition_paths:\n",
    "        with open(p) as json_file:\n",
    "            partition_data = json.load(json_file)\n",
    "            all_partitions.append(partition_data)\n",
    "    all_partitions = flatten(all_partitions)\n",
    "    titles = list(set([p['title'] for p in all_partitions]))\n",
    "    return titles\n",
    "\n",
    "def get_remaining_pubs():\n",
    "    usda_pubs = read_usda_pubs()\n",
    "    partitions = read_partition_titles()\n",
    "    remaining_titles = [p for p in usda_pubs  if p['title'] not in partitions]\n",
    "    return remaining_titles\n",
    "    "
   ]
  },
  {
   "cell_type": "code",
   "execution_count": 3,
   "metadata": {},
   "outputs": [],
   "source": [
    "def grab_md(p):\n",
    "    title = p['title']\n",
    "    try:\n",
    "        dimensions_md = RichContextAPI.get_dimensions_md(title)\n",
    "        if dimensions_md is not None:\n",
    "            p.update({'dimensions':dimensions_md})\n",
    "    except:\n",
    "        pass\n",
    "    try:\n",
    "        epmc_md = RichContextAPI.get_epmc_md(title)\n",
    "        if epmc_md is not None:\n",
    "            p.update({'europepmc':epmc_md})\n",
    "    except:\n",
    "        pass\n",
    "    try:\n",
    "        oa_md = RichContextAPI.oa_lookup_pub_uris(title)\n",
    "        if oa_md is not None:\n",
    "            p.update({'openaire':oa_md})\n",
    "    except:\n",
    "        pass\n",
    "    return p\n",
    "\n",
    "def get_filename():\n",
    "    filenames = [int(re.findall(r'\\d+',g)[0]) for g in glob.glob('/Users/sophierand/RCCustomers/customers/USDA/partitions/*.json')]\n",
    "    if len(filenames) == 0:\n",
    "        filename = '/Users/sophierand/RCCustomers/customers/USDA/partitions/usda_pub_metadata_0.json'\n",
    "    if len(filenames) > 0:\n",
    "        max_filename = max(filenames)\n",
    "        filename  = '/Users/sophierand/RCCustomers/customers/USDA/partitions/usda_pub_metadata_'+str(max_filename+1) + '.json'\n",
    "    return filename"
   ]
  },
  {
   "cell_type": "markdown",
   "metadata": {},
   "source": [
    "### MAIN"
   ]
  },
  {
   "cell_type": "code",
   "execution_count": 28,
   "metadata": {},
   "outputs": [],
   "source": [
    "remaining_titles = get_remaining_pubs()\n",
    "# len(remaining_titles)"
   ]
  },
  {
   "cell_type": "code",
   "execution_count": 29,
   "metadata": {},
   "outputs": [],
   "source": [
    "import numpy\n",
    "l = numpy.array_split(remaining_titles,len(remaining_titles)/20);"
   ]
  },
  {
   "cell_type": "code",
   "execution_count": 30,
   "metadata": {},
   "outputs": [],
   "source": [
    "for sub_list in l:\n",
    "    md_list = []\n",
    "    for s in sub_list:\n",
    "        md_entry = grab_md(s)\n",
    "        md_list.append(md_entry)\n",
    "    file_name = get_filename()    \n",
    "    with open(file_name, 'w') as outfile:\n",
    "        json.dump(md_list, outfile, indent = 2)"
   ]
  },
  {
   "cell_type": "code",
   "execution_count": null,
   "metadata": {},
   "outputs": [],
   "source": []
  }
 ],
 "metadata": {
  "kernelspec": {
   "display_name": "Python 3",
   "language": "python",
   "name": "python3"
  },
  "language_info": {
   "codemirror_mode": {
    "name": "ipython",
    "version": 3
   },
   "file_extension": ".py",
   "mimetype": "text/x-python",
   "name": "python",
   "nbconvert_exporter": "python",
   "pygments_lexer": "ipython3",
   "version": "3.7.3"
  }
 },
 "nbformat": 4,
 "nbformat_minor": 2
}
