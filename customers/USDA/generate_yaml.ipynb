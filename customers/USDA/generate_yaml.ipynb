{
 "cells": [
  {
   "cell_type": "code",
   "execution_count": null,
   "metadata": {},
   "outputs": [],
   "source": [
    "# import pandas as pd"
   ]
  },
  {
   "cell_type": "code",
   "execution_count": 52,
   "metadata": {},
   "outputs": [],
   "source": [
    "import sys\n",
    "import ruamel.yaml\n",
    "from ruamel.yaml.comments import CommentedMap, CommentedKeySeq\n",
    "# assert ruamel.yaml.version_info >= (0, 12, 14)\n",
    "from ruamel.yaml import YAML\n",
    "import ruamel\n",
    "from pathlib import Path\n",
    "\n",
    "d = {'b':1,\n",
    "     'a':[\"stuefddf1\", 2],\n",
    "    'c':'hi'}\n",
    "# yaml_str ='b: [\"stff\",\"more\"]'\n",
    "\n",
    "\n",
    "# data = ruamel.yaml.round_trip_load(yaml_str, preserve_quotes=True)\n",
    "# with open('data.yml', 'w') as outfile:\n",
    "#     ruamel.yaml.round_trip_dump(data, outfile, explicit_start=False)\n",
    "#     yaml.dump(d, outfile, default_flow_style=False,default_style='\"')\n",
    "\n",
    "\n",
    "# data = CommentedMap()\n",
    "# data[CommentedKeySeq((2, 3, 4))] = cm = CommentedMap()\n",
    "# data['a'] = [ruamel.yaml.scalarstring.SingleQuotedScalarString(b) for b in [\"thing1\", 2]]\n",
    "data['a'] = [ruamel.yaml.scalarstring.SingleQuotedScalarString(b) for b in d['a']]\n",
    "data['b'] = d['b']\n",
    "data['c'] = d['c']\n",
    "# data['c'] = ruamel.yaml.scalarstring.SingleQuotedScalarString('Voilà!')\n",
    "out = Path('test.yml')\n",
    "with open('data.yml', 'w') as outfile:\n",
    "#     ruamel.yaml.round_trip_dump(data, outfile, explicit_start=False)\n",
    "    ruamel.yaml.round_trip_dump(data, outfile)\n"
   ]
  },
  {
   "cell_type": "code",
   "execution_count": 98,
   "metadata": {},
   "outputs": [],
   "source": [
    "import yaml\n",
    "from collections import OrderedDict\n",
    "\n",
    "def represent_dictionary_order(self, dict_data):\n",
    "    return self.represent_mapping('tag:yaml.org,2002:map', dict_data.items(),flow_style = None)\n",
    "\n",
    "def setup_yaml():\n",
    "    yaml.add_representer(OrderedDict, represent_dictionary_order)\n",
    "#         yaml.add_representer(OrderedDict, represent_dictionary_order)\n",
    "\n",
    "setup_yaml()    \n",
    "\n",
    "data = OrderedDict()\n",
    "\n",
    "# dic['a'] = 1\n",
    "# dic['b'] = 2\n",
    "# dic['c'] = 3\n",
    "\n",
    "# print(yaml.dump(dic))\n",
    "\n",
    "# yaml.dump(data, sys.stdout)"
   ]
  },
  {
   "cell_type": "code",
   "execution_count": 124,
   "metadata": {},
   "outputs": [
    {
     "ename": "NameError",
     "evalue": "name 'ruamelyaml' is not defined",
     "output_type": "error",
     "traceback": [
      "\u001b[0;31m---------------------------------------------------------------------------\u001b[0m",
      "\u001b[0;31mNameError\u001b[0m                                 Traceback (most recent call last)",
      "\u001b[0;32m<ipython-input-124-f19192e20432>\u001b[0m in \u001b[0;36m<module>\u001b[0;34m\u001b[0m\n\u001b[1;32m     13\u001b[0m \u001b[0;34m\u001b[0m\u001b[0m\n\u001b[1;32m     14\u001b[0m \u001b[0mdata\u001b[0m\u001b[0;34m[\u001b[0m\u001b[0;34m'datasets'\u001b[0m\u001b[0;34m]\u001b[0m\u001b[0;34m[\u001b[0m\u001b[0;34m'children'\u001b[0m\u001b[0;34m]\u001b[0m \u001b[0;34m=\u001b[0m \u001b[0;34m[\u001b[0m\u001b[0mruamel\u001b[0m\u001b[0;34m.\u001b[0m\u001b[0myaml\u001b[0m\u001b[0;34m.\u001b[0m\u001b[0mscalarstring\u001b[0m\u001b[0;34m.\u001b[0m\u001b[0mDoubleQuotedScalarString\u001b[0m\u001b[0;34m(\u001b[0m\u001b[0mb\u001b[0m\u001b[0;34m)\u001b[0m \u001b[0;32mfor\u001b[0m \u001b[0mb\u001b[0m \u001b[0;32min\u001b[0m \u001b[0mdata\u001b[0m\u001b[0;34m[\u001b[0m\u001b[0;34m'datasets'\u001b[0m\u001b[0;34m]\u001b[0m\u001b[0;34m[\u001b[0m\u001b[0;34m'children'\u001b[0m\u001b[0;34m]\u001b[0m\u001b[0;34m]\u001b[0m\u001b[0;34m\u001b[0m\u001b[0;34m\u001b[0m\u001b[0m\n\u001b[0;32m---> 15\u001b[0;31m \u001b[0mdata\u001b[0m\u001b[0;34m[\u001b[0m\u001b[0;34m'datasets'\u001b[0m\u001b[0;34m]\u001b[0m\u001b[0;34m[\u001b[0m\u001b[0;34m'url'\u001b[0m\u001b[0;34m]\u001b[0m \u001b[0;34m=\u001b[0m \u001b[0mruamelyaml\u001b[0m\u001b[0;34m.\u001b[0m\u001b[0mscalarstring\u001b[0m\u001b[0;34m.\u001b[0m\u001b[0mDoubleQuotedScalarString\u001b[0m\u001b[0;34m(\u001b[0m\u001b[0mdic\u001b[0m\u001b[0;34m[\u001b[0m\u001b[0;34m'datasets'\u001b[0m\u001b[0;34m]\u001b[0m\u001b[0;34m[\u001b[0m\u001b[0;34m'url'\u001b[0m\u001b[0;34m]\u001b[0m\u001b[0;34m)\u001b[0m\u001b[0;34m\u001b[0m\u001b[0;34m\u001b[0m\u001b[0m\n\u001b[0m\u001b[1;32m     16\u001b[0m \u001b[0mdata\u001b[0m\u001b[0;34m[\u001b[0m\u001b[0;34m'datasets'\u001b[0m\u001b[0;34m]\u001b[0m\u001b[0;34m[\u001b[0m\u001b[0;34m'label'\u001b[0m\u001b[0;34m]\u001b[0m \u001b[0;34m=\u001b[0m \u001b[0mruamel\u001b[0m\u001b[0;34m.\u001b[0m\u001b[0myaml\u001b[0m\u001b[0;34m.\u001b[0m\u001b[0mscalarstring\u001b[0m\u001b[0;34m.\u001b[0m\u001b[0mDoubleQuotedScalarString\u001b[0m\u001b[0;34m(\u001b[0m\u001b[0mdic\u001b[0m\u001b[0;34m[\u001b[0m\u001b[0;34m'datasets'\u001b[0m\u001b[0;34m]\u001b[0m\u001b[0;34m[\u001b[0m\u001b[0;34m'label'\u001b[0m\u001b[0;34m]\u001b[0m\u001b[0;34m)\u001b[0m\u001b[0;34m\u001b[0m\u001b[0;34m\u001b[0m\u001b[0m\n\u001b[1;32m     17\u001b[0m \u001b[0mdata\u001b[0m\u001b[0;34m[\u001b[0m\u001b[0;34m'children'\u001b[0m\u001b[0;34m]\u001b[0m \u001b[0;34m=\u001b[0m \u001b[0mdic\u001b[0m\u001b[0;34m[\u001b[0m\u001b[0;34m'children'\u001b[0m\u001b[0;34m]\u001b[0m\u001b[0;34m\u001b[0m\u001b[0;34m\u001b[0m\u001b[0m\n",
      "\u001b[0;31mNameError\u001b[0m: name 'ruamelyaml' is not defined"
     ]
    }
   ],
   "source": [
    "import sys\n",
    "import ruamel.yaml\n",
    "from ruamel.yaml.comments import CommentedMap, CommentedKeySeq\n",
    "# assert ruamel.yaml.version_info >= (0, 12, 14)\n",
    "from ruamel.yaml import YAML\n",
    "import ruamel\n",
    "from pathlib import Path\n",
    "dataset_prefix = 'https://github.com/Coleridge-Initiative/adrf-onto/wiki/Vocabulary#Dataset'\n",
    "\n",
    "child_list = {'url':dataset_prefix,'label':'Datasets','children':[dataset_prefix+d for d in usda_datasets]}\n",
    "dic = {'children':dataset_prefix,\n",
    "       'datasets':child_list,}\n",
    "\n",
    "data['datasets']['children'] = [ruamel.yaml.scalarstring.DoubleQuotedScalarString(b) for b in data['datasets']['children']]\n",
    "data['datasets']['url'] = ruamelyaml.scalarstring.DoubleQuotedScalarString(dic['datasets']['url'])\n",
    "data['datasets']['label'] = ruamel.yaml.scalarstring.DoubleQuotedScalarString(dic['datasets']['label'])\n",
    "data['children'] = dic['children']\n",
    "out = Path('test.yml')\n",
    "with open('data.yml', 'w') as outfile:\n",
    "    ruamel.yaml.round_trip_dump(data, outfile)\n"
   ]
  },
  {
   "cell_type": "code",
   "execution_count": 122,
   "metadata": {},
   "outputs": [
    {
     "data": {
      "text/plain": [
       "['https://github.com/Coleridge-Initiative/adrf-onto/wiki/Vocabulary#Datasetdataset-059',\n",
       " 'https://github.com/Coleridge-Initiative/adrf-onto/wiki/Vocabulary#Datasetdataset-314',\n",
       " 'https://github.com/Coleridge-Initiative/adrf-onto/wiki/Vocabulary#Datasetdataset-017',\n",
       " 'https://github.com/Coleridge-Initiative/adrf-onto/wiki/Vocabulary#Datasetdataset-312',\n",
       " 'https://github.com/Coleridge-Initiative/adrf-onto/wiki/Vocabulary#Datasetdataset-036',\n",
       " 'https://github.com/Coleridge-Initiative/adrf-onto/wiki/Vocabulary#Datasetdataset-300',\n",
       " 'https://github.com/Coleridge-Initiative/adrf-onto/wiki/Vocabulary#Datasetdataset-039',\n",
       " 'https://github.com/Coleridge-Initiative/adrf-onto/wiki/Vocabulary#Datasetdataset-046',\n",
       " 'https://github.com/Coleridge-Initiative/adrf-onto/wiki/Vocabulary#Datasetdataset-049',\n",
       " 'https://github.com/Coleridge-Initiative/adrf-onto/wiki/Vocabulary#Datasetdataset-055',\n",
       " 'https://github.com/Coleridge-Initiative/adrf-onto/wiki/Vocabulary#Datasetdataset-304',\n",
       " 'https://github.com/Coleridge-Initiative/adrf-onto/wiki/Vocabulary#Datasetdataset-057',\n",
       " 'https://github.com/Coleridge-Initiative/adrf-onto/wiki/Vocabulary#Datasetdataset-302',\n",
       " 'https://github.com/Coleridge-Initiative/adrf-onto/wiki/Vocabulary#Datasetdataset-060',\n",
       " 'https://github.com/Coleridge-Initiative/adrf-onto/wiki/Vocabulary#Datasetdataset-024',\n",
       " 'https://github.com/Coleridge-Initiative/adrf-onto/wiki/Vocabulary#Datasetdataset-041',\n",
       " 'https://github.com/Coleridge-Initiative/adrf-onto/wiki/Vocabulary#Datasetdataset-025',\n",
       " 'https://github.com/Coleridge-Initiative/adrf-onto/wiki/Vocabulary#Datasetdataset-372',\n",
       " 'https://github.com/Coleridge-Initiative/adrf-onto/wiki/Vocabulary#Datasetdataset-373',\n",
       " 'https://github.com/Coleridge-Initiative/adrf-onto/wiki/Vocabulary#Datasetdataset-052',\n",
       " 'https://github.com/Coleridge-Initiative/adrf-onto/wiki/Vocabulary#Datasetdataset-346',\n",
       " 'https://github.com/Coleridge-Initiative/adrf-onto/wiki/Vocabulary#Datasetdataset-032',\n",
       " 'https://github.com/Coleridge-Initiative/adrf-onto/wiki/Vocabulary#Datasetdataset-056',\n",
       " 'https://github.com/Coleridge-Initiative/adrf-onto/wiki/Vocabulary#Datasetdataset-303',\n",
       " 'https://github.com/Coleridge-Initiative/adrf-onto/wiki/Vocabulary#Datasetdataset-002',\n",
       " 'https://github.com/Coleridge-Initiative/adrf-onto/wiki/Vocabulary#Datasetdataset-034',\n",
       " 'https://github.com/Coleridge-Initiative/adrf-onto/wiki/Vocabulary#Datasetdataset-048',\n",
       " 'https://github.com/Coleridge-Initiative/adrf-onto/wiki/Vocabulary#Datasetdataset-043',\n",
       " 'https://github.com/Coleridge-Initiative/adrf-onto/wiki/Vocabulary#Datasetdataset-001',\n",
       " 'https://github.com/Coleridge-Initiative/adrf-onto/wiki/Vocabulary#Datasetdataset-033',\n",
       " 'https://github.com/Coleridge-Initiative/adrf-onto/wiki/Vocabulary#Datasetdataset-054',\n",
       " 'https://github.com/Coleridge-Initiative/adrf-onto/wiki/Vocabulary#Datasetdataset-028',\n",
       " 'https://github.com/Coleridge-Initiative/adrf-onto/wiki/Vocabulary#Datasetdataset-035',\n",
       " 'https://github.com/Coleridge-Initiative/adrf-onto/wiki/Vocabulary#Datasetdataset-058',\n",
       " 'https://github.com/Coleridge-Initiative/adrf-onto/wiki/Vocabulary#Datasetdataset-026',\n",
       " 'https://github.com/Coleridge-Initiative/adrf-onto/wiki/Vocabulary#Datasetdataset-038',\n",
       " 'https://github.com/Coleridge-Initiative/adrf-onto/wiki/Vocabulary#Datasetdataset-042',\n",
       " 'https://github.com/Coleridge-Initiative/adrf-onto/wiki/Vocabulary#Datasetdataset-031',\n",
       " 'https://github.com/Coleridge-Initiative/adrf-onto/wiki/Vocabulary#Datasetdataset-037',\n",
       " 'https://github.com/Coleridge-Initiative/adrf-onto/wiki/Vocabulary#Datasetdataset-050',\n",
       " 'https://github.com/Coleridge-Initiative/adrf-onto/wiki/Vocabulary#Datasetdataset-030',\n",
       " 'https://github.com/Coleridge-Initiative/adrf-onto/wiki/Vocabulary#Datasetdataset-313',\n",
       " 'https://github.com/Coleridge-Initiative/adrf-onto/wiki/Vocabulary#Datasetdataset-051',\n",
       " 'https://github.com/Coleridge-Initiative/adrf-onto/wiki/Vocabulary#Datasetdataset-040',\n",
       " 'https://github.com/Coleridge-Initiative/adrf-onto/wiki/Vocabulary#Datasetdataset-053',\n",
       " 'https://github.com/Coleridge-Initiative/adrf-onto/wiki/Vocabulary#Datasetdataset-374',\n",
       " 'https://github.com/Coleridge-Initiative/adrf-onto/wiki/Vocabulary#Datasetdataset-301',\n",
       " 'https://github.com/Coleridge-Initiative/adrf-onto/wiki/Vocabulary#Datasetdataset-029',\n",
       " 'https://github.com/Coleridge-Initiative/adrf-onto/wiki/Vocabulary#Datasetdataset-044']"
      ]
     },
     "execution_count": 122,
     "metadata": {},
     "output_type": "execute_result"
    }
   ],
   "source": [
    "[dataset_prefix+d for d in usda_datasets]"
   ]
  },
  {
   "cell_type": "code",
   "execution_count": null,
   "metadata": {},
   "outputs": [],
   "source": [
    "import json\n",
    "import yaml\n",
    "import os"
   ]
  },
  {
   "cell_type": "code",
   "execution_count": null,
   "metadata": {},
   "outputs": [],
   "source": []
  },
  {
   "cell_type": "code",
   "execution_count": 92,
   "metadata": {},
   "outputs": [],
   "source": [
    "def read_datasets_listing():\n",
    "    datasets_path = \"/Users/sophierand/RCDatasets/datasets.json\"\n",
    "    with open(datasets_path) as json_file:\n",
    "        datasets = json.load(json_file)\n",
    "    return datasets"
   ]
  },
  {
   "cell_type": "code",
   "execution_count": 95,
   "metadata": {},
   "outputs": [],
   "source": [
    "import os\n",
    "import json\n",
    "usda_datasets_path = os.path.abspath(os.getcwd())+'/exports/usda_datasets_list.json'\n",
    "with open(usda_datasets_path) as json_file:\n",
    "    usda_datasets = json.load(json_file)\n"
   ]
  },
  {
   "cell_type": "code",
   "execution_count": 96,
   "metadata": {},
   "outputs": [],
   "source": [
    "all_datasets = read_datasets_listing()\n",
    "usda_datasets_named = []\n",
    "for d in usda_datasets:\n",
    "    ds_name = [f['title'] for f in all_datasets if f['id'] == d][0]\n",
    "    new_dict = {'id':d,'title':ds_name}\n",
    "    usda_datasets_named.append(new_dict)\n",
    "    \n",
    "#     d.update({'title':ds_name})\n",
    "# usda_datasets_named = [d.update({})]"
   ]
  },
  {
   "cell_type": "code",
   "execution_count": null,
   "metadata": {},
   "outputs": [],
   "source": [
    "top_dict = {'children':dataset_prefix}\n",
    "dataset_list = [dataset_prefix+d['id'] for d in usda_datasets_named]\n",
    "second_dict = {'datasets':[{'url': dataset_prefix}]}\n",
    "#                            , 'label:\"Datasets\"']}\n",
    "            \n",
    "#                            ,'children':dataset_list}}\n"
   ]
  },
  {
   "cell_type": "code",
   "execution_count": null,
   "metadata": {},
   "outputs": [],
   "source": [
    "top_dict = {'children':dataset_prefix}\n",
    "dict_string = str(top_dict).replace(\"': '\",': ').replace(\"{'\",\"\").replace(\"'}\", \"\")\n",
    "dict_string\n",
    "# top_dict"
   ]
  },
  {
   "cell_type": "markdown",
   "metadata": {},
   "source": [
    "BELOW!!"
   ]
  },
  {
   "cell_type": "code",
   "execution_count": 36,
   "metadata": {},
   "outputs": [],
   "source": [
    "import sys\n",
    "\n",
    "from ruamel import yaml\n",
    "from ruamel.yaml import YAML\n",
    "import ruamel\n",
    "from pathlib import Path\n",
    "\n",
    "d = {'b':1,\n",
    "     'a':[\"stuefddf1\", 2]}\n",
    "yaml_str ='b: [\"stff\",\"more\"]'\n",
    "\n",
    "# d['a'] = DoubleQuotedScalarString(d['a'])\n",
    "# d['a'] = [DoubleQuotedScalarString(c) for c in d['a']]\n",
    "# y = YAML()\n",
    "# y.default_flow_style = None\n",
    "# with open('data.yml', 'w') as outfile:\n",
    "#     yaml.dump(d, outfile, default_flow_style=False,default_style='\"')\n",
    "# y.dump(d, 'data.yml')\n",
    "\n",
    "\n",
    "data = ruamel.yaml.round_trip_load(yaml_str, preserve_quotes=True)\n",
    "with open('data.yml', 'w') as outfile:\n",
    "    ruamel.yaml.round_trip_dump(data, outfile, explicit_start=False)\n",
    "#     yaml.dump(d, outfile, default_flow_style=False,default_style='\"')\n",
    "\n",
    "import sys\n",
    "import ruamel.yaml\n",
    "from ruamel.yaml.comments import CommentedMap, CommentedKeySeq\n",
    "assert ruamel.yaml.version_info >= (0, 12, 14)\n",
    "\n",
    "data = CommentedMap()\n",
    "data[CommentedKeySeq((2, 3, 4))] = cm = CommentedMap()\n",
    "cm['a'] = [ruamel.yaml.scalarstring.SingleQuotedScalarString(b) for b in [\"thing1\", 2]]\n",
    "cm['b'] = 'Hello World!'\n",
    "cm['c'] = ruamel.yaml.scalarstring.SingleQuotedScalarString('Voilà!')\n",
    "out = Path('test.yml')\n",
    "with open('data.yml', 'w') as outfile:\n",
    "#     ruamel.yaml.round_trip_dump(data, outfile, explicit_start=False)\n",
    "    ruamel.yaml.round_trip_dump(data, outfile, explicit_start=True, version=(1, 2))\n"
   ]
  },
  {
   "cell_type": "code",
   "execution_count": 23,
   "metadata": {},
   "outputs": [
    {
     "data": {
      "text/plain": [
       "ordereddict([('b', ['stff', 'more'])])"
      ]
     },
     "execution_count": 23,
     "metadata": {},
     "output_type": "execute_result"
    }
   ],
   "source": [
    "data"
   ]
  },
  {
   "cell_type": "code",
   "execution_count": null,
   "metadata": {},
   "outputs": [],
   "source": [
    "\n",
    "yaml = YAML()\n",
    "yaml.preserve_quotes = True\n",
    "# data = yaml.load('children: https://github.com/Coleridge-Initiative/adrf-onto/wiki/Vocabulary#Dataset, another thing')\n",
    "data = yaml.load(\"Pools: ['10', ' 10.127.128.0', ' 18']\")\n",
    "\n",
    "# data = yaml.load(dict_string)\n",
    "\n",
    "# data['children'] = [DoubleQuotedScalarString(d) for d in data['children']]\n",
    "# data['children'] = [DoubleQuotedScalarString(data['children'])]\n",
    "out = Path('test.yml')\n",
    "yaml.dump(data, out)"
   ]
  },
  {
   "cell_type": "code",
   "execution_count": null,
   "metadata": {},
   "outputs": [],
   "source": [
    "data['children']"
   ]
  },
  {
   "cell_type": "code",
   "execution_count": null,
   "metadata": {},
   "outputs": [],
   "source": [
    "\n",
    "to_yaml_dict = {'children':dataset_prefix\n",
    "            ,\n",
    "            'datasets':dataset_dict_list[0:2]}\n",
    "to_yaml_dict"
   ]
  },
  {
   "cell_type": "code",
   "execution_count": null,
   "metadata": {},
   "outputs": [],
   "source": [
    " yaml.dump(to_yaml_dict,default_flow_style=False)"
   ]
  },
  {
   "cell_type": "code",
   "execution_count": null,
   "metadata": {},
   "outputs": [],
   "source": [
    "with open('test.yml', 'w') as yaml_file:\n",
    "    yaml_file.write(yaml.dump(top_dict, default_flow_style = False)) "
   ]
  },
  {
   "cell_type": "code",
   "execution_count": null,
   "metadata": {},
   "outputs": [],
   "source": []
  },
  {
   "cell_type": "code",
   "execution_count": null,
   "metadata": {},
   "outputs": [],
   "source": []
  }
 ],
 "metadata": {
  "kernelspec": {
   "display_name": "Python 3",
   "language": "python",
   "name": "python3"
  },
  "language_info": {
   "codemirror_mode": {
    "name": "ipython",
    "version": 3
   },
   "file_extension": ".py",
   "mimetype": "text/x-python",
   "name": "python",
   "nbconvert_exporter": "python",
   "pygments_lexer": "ipython3",
   "version": "3.7.3"
  }
 },
 "nbformat": 4,
 "nbformat_minor": 4
}
