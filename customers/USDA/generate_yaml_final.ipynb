{
 "cells": [
  {
   "cell_type": "code",
   "execution_count": 2,
   "metadata": {},
   "outputs": [],
   "source": [
    "import json\n",
    "\n",
    "def read_datasets_listing():\n",
    "    datasets_path = \"/Users/sophierand/RCDatasets/datasets.json\"\n",
    "    with open(datasets_path) as json_file:\n",
    "        datasets = json.load(json_file)\n",
    "    return datasets\n",
    "\n",
    "datasets = read_datasets_listing()\n",
    "\n",
    "import os\n",
    "import json\n",
    "usda_datasets_path = os.path.abspath(os.getcwd())+'/exports/usda_datasets_list.json'\n",
    "with open(usda_datasets_path) as json_file:\n",
    "    usda_datasets = json.load(json_file)\n",
    "# usda_datasets = usda_datasets[0:2]"
   ]
  },
  {
   "cell_type": "code",
   "execution_count": 47,
   "metadata": {},
   "outputs": [],
   "source": [
    "import sys\n",
    "import ruamel.yaml\n",
    "from ruamel.yaml.comments import CommentedMap, CommentedKeySeq\n",
    "from ruamel.yaml import YAML\n",
    "import ruamel\n",
    "from pathlib import Path\n",
    "dataset_prefix = 'https://github.com/Coleridge-Initiative/adrf-onto/wiki/Vocabulary'\n",
    "\n",
    "child_list = {'url':dataset_prefix+ '#Dataset','label':'Datasets','children':[dataset_prefix+\"#\"+d for d in usda_datasets]}\n",
    "children_description = [{'url':u,'label':u.rsplit('#',1)[1]} for u in child_list['children']]\n",
    "data = {'children':[dataset_prefix + '#Dataset'],\n",
    "       'datasets':[child_list]+children_description}\n",
    "\n",
    "data['datasets'][0]['children'] = [ruamel.yaml.scalarstring.DoubleQuotedScalarString(b) for b in data['datasets'][0]['children']]\n",
    "data['datasets'][0]['url'] = ruamel.yaml.scalarstring.DoubleQuotedScalarString(data['datasets'][0]['url'])\n",
    "data['datasets'][0]['label'] = ruamel.yaml.scalarstring.DoubleQuotedScalarString(data['datasets'][0]['label'])\n",
    "data['datasets'][1:len(data['datasets'])] = [{'url':ruamel.yaml.scalarstring.DoubleQuotedScalarString(d['url']),'label':ruamel.yaml.scalarstring.DoubleQuotedScalarString(d['label'])} for d in data['datasets'][1:len(data['datasets'])]]\n",
    "with open('datasets.yml', 'w') as outfile:\n",
    "    ruamel.yaml.round_trip_dump(data, outfile)\n"
   ]
  },
  {
   "cell_type": "code",
   "execution_count": 38,
   "metadata": {},
   "outputs": [
    {
     "ename": "TypeError",
     "evalue": "string indices must be integers",
     "output_type": "error",
     "traceback": [
      "\u001b[0;31m---------------------------------------------------------------------------\u001b[0m",
      "\u001b[0;31mTypeError\u001b[0m                                 Traceback (most recent call last)",
      "\u001b[0;32m<ipython-input-38-8edf796f4aea>\u001b[0m in \u001b[0;36m<module>\u001b[0;34m\u001b[0m\n\u001b[0;32m----> 1\u001b[0;31m \u001b[0mdata\u001b[0m\u001b[0;34m[\u001b[0m\u001b[0;34m'datasets'\u001b[0m\u001b[0;34m]\u001b[0m\u001b[0;34m[\u001b[0m\u001b[0;36m1\u001b[0m\u001b[0;34m:\u001b[0m\u001b[0mlen\u001b[0m\u001b[0;34m(\u001b[0m\u001b[0mdata\u001b[0m\u001b[0;34m[\u001b[0m\u001b[0;34m'datasets'\u001b[0m\u001b[0;34m]\u001b[0m\u001b[0;34m)\u001b[0m\u001b[0;34m]\u001b[0m \u001b[0;34m=\u001b[0m \u001b[0;34m[\u001b[0m\u001b[0mruamel\u001b[0m\u001b[0;34m.\u001b[0m\u001b[0myaml\u001b[0m\u001b[0;34m.\u001b[0m\u001b[0mscalarstring\u001b[0m\u001b[0;34m.\u001b[0m\u001b[0mDoubleQuotedScalarString\u001b[0m\u001b[0;34m(\u001b[0m\u001b[0mb\u001b[0m\u001b[0;34m[\u001b[0m\u001b[0;34m'url'\u001b[0m\u001b[0;34m]\u001b[0m\u001b[0;34m)\u001b[0m \u001b[0;32mfor\u001b[0m \u001b[0mb\u001b[0m \u001b[0;32min\u001b[0m \u001b[0mdata\u001b[0m\u001b[0;34m[\u001b[0m\u001b[0;34m'datasets'\u001b[0m\u001b[0;34m]\u001b[0m\u001b[0;34m[\u001b[0m\u001b[0;36m1\u001b[0m\u001b[0;34m:\u001b[0m\u001b[0mlen\u001b[0m\u001b[0;34m(\u001b[0m\u001b[0mdata\u001b[0m\u001b[0;34m[\u001b[0m\u001b[0;34m'datasets'\u001b[0m\u001b[0;34m]\u001b[0m\u001b[0;34m)\u001b[0m\u001b[0;34m]\u001b[0m\u001b[0;34m]\u001b[0m\u001b[0;34m\u001b[0m\u001b[0;34m\u001b[0m\u001b[0m\n\u001b[0m",
      "\u001b[0;32m<ipython-input-38-8edf796f4aea>\u001b[0m in \u001b[0;36m<listcomp>\u001b[0;34m(.0)\u001b[0m\n\u001b[0;32m----> 1\u001b[0;31m \u001b[0mdata\u001b[0m\u001b[0;34m[\u001b[0m\u001b[0;34m'datasets'\u001b[0m\u001b[0;34m]\u001b[0m\u001b[0;34m[\u001b[0m\u001b[0;36m1\u001b[0m\u001b[0;34m:\u001b[0m\u001b[0mlen\u001b[0m\u001b[0;34m(\u001b[0m\u001b[0mdata\u001b[0m\u001b[0;34m[\u001b[0m\u001b[0;34m'datasets'\u001b[0m\u001b[0;34m]\u001b[0m\u001b[0;34m)\u001b[0m\u001b[0;34m]\u001b[0m \u001b[0;34m=\u001b[0m \u001b[0;34m[\u001b[0m\u001b[0mruamel\u001b[0m\u001b[0;34m.\u001b[0m\u001b[0myaml\u001b[0m\u001b[0;34m.\u001b[0m\u001b[0mscalarstring\u001b[0m\u001b[0;34m.\u001b[0m\u001b[0mDoubleQuotedScalarString\u001b[0m\u001b[0;34m(\u001b[0m\u001b[0mb\u001b[0m\u001b[0;34m[\u001b[0m\u001b[0;34m'url'\u001b[0m\u001b[0;34m]\u001b[0m\u001b[0;34m)\u001b[0m \u001b[0;32mfor\u001b[0m \u001b[0mb\u001b[0m \u001b[0;32min\u001b[0m \u001b[0mdata\u001b[0m\u001b[0;34m[\u001b[0m\u001b[0;34m'datasets'\u001b[0m\u001b[0;34m]\u001b[0m\u001b[0;34m[\u001b[0m\u001b[0;36m1\u001b[0m\u001b[0;34m:\u001b[0m\u001b[0mlen\u001b[0m\u001b[0;34m(\u001b[0m\u001b[0mdata\u001b[0m\u001b[0;34m[\u001b[0m\u001b[0;34m'datasets'\u001b[0m\u001b[0;34m]\u001b[0m\u001b[0;34m)\u001b[0m\u001b[0;34m]\u001b[0m\u001b[0;34m]\u001b[0m\u001b[0;34m\u001b[0m\u001b[0;34m\u001b[0m\u001b[0m\n\u001b[0m",
      "\u001b[0;31mTypeError\u001b[0m: string indices must be integers"
     ]
    }
   ],
   "source": [
    "# data['datasets'][1:len(data['datasets'])] = [ruamel.yaml.scalarstring.DoubleQuotedScalarString(b['url']) for b in data['datasets'][1:len(data['datasets'])]]"
   ]
  },
  {
   "cell_type": "code",
   "execution_count": 45,
   "metadata": {},
   "outputs": [],
   "source": [
    "data['datasets'][1:len(data['datasets'])] = [{'url':ruamel.yaml.scalarstring.DoubleQuotedScalarString(d['url']),'label':ruamel.yaml.scalarstring.DoubleQuotedScalarString(d['label'])} for d in data['datasets'][1:len(data['datasets'])]]"
   ]
  },
  {
   "cell_type": "code",
   "execution_count": 8,
   "metadata": {},
   "outputs": [],
   "source": [
    "children_description = [{'url':u,'label':u.rsplit('#',1)[1]} for u in child_list['children']]"
   ]
  },
  {
   "cell_type": "code",
   "execution_count": null,
   "metadata": {},
   "outputs": [],
   "source": [
    "{'url':dataset_prefix+ '#Dataset','label':'Datasets','children':[dataset_prefix+\"#\"+d for d in usda_datasets]}"
   ]
  }
 ],
 "metadata": {
  "kernelspec": {
   "display_name": "Python 3",
   "language": "python",
   "name": "python3"
  },
  "language_info": {
   "codemirror_mode": {
    "name": "ipython",
    "version": 3
   },
   "file_extension": ".py",
   "mimetype": "text/x-python",
   "name": "python",
   "nbconvert_exporter": "python",
   "pygments_lexer": "ipython3",
   "version": "3.7.3"
  }
 },
 "nbformat": 4,
 "nbformat_minor": 4
}
