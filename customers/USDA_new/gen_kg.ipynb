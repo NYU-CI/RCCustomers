{
 "cells": [
  {
   "cell_type": "code",
   "execution_count": 1,
   "metadata": {},
   "outputs": [],
   "source": [
    "\n",
    "from rdflib.serializer import Serializer\n",
    "import configparser\n",
    "import corpus\n",
    "import csv\n",
    "import glob\n",
    "import json\n",
    "import rdflib\n",
    "import sys\n"
   ]
  },
  {
   "cell_type": "code",
   "execution_count": 4,
   "metadata": {},
   "outputs": [],
   "source": [
    "\n",
    "PREAMBLE = \"\"\"\n",
    "@base <https://github.com/Coleridge-Initiative/adrf-onto/wiki/Vocabulary> .\n",
    "@prefix cito:<http://purl.org/spar/cito/> .\n",
    "@prefix dct:<http://purl.org/dc/terms/> .\n",
    "@prefix foaf:<http://xmlns.com/foaf/0.1/> .\n",
    "@prefix rdf:<http://www.w3.org/1999/02/22-rdf-syntax-ns#> .\n",
    "@prefix xsd:<http://www.w3.org/2001/XMLSchema#> .\n",
    "\"\"\"\n",
    "\n",
    "TEMPLATE_DATASET = \"\"\"\n",
    ":{}\n",
    "  rdf:type :Dataset ;\n",
    "  foaf:page \"{}\"^^xsd:anyURI ;\n",
    "  dct:publisher \"{}\" ;\n",
    "  dct:title \"{}\" ;\n",
    "\"\"\"\n",
    "# TEMPLATE_PUBLICATION = \"\"\"                                                                                                           \n",
    "# :{}                                                                                                                          \n",
    "#   rdf:type :ResearchPublication ;                                                                                            \n",
    "#   dct:title \"{}\"@en ;                                                                                                        \n",
    "#   dct:identifier \"{}\" ;                                                                                                      \n",
    "#   dct:language \"en\" ;                                                                                                        \n",
    "#   foaf:page \"{}\"^^xsd:anyURI ;  \n",
    "#   cito:citesAsDataSource \"{}\";\n",
    "#   dct:subject \"{}\" ;                                                                                                      \n",
    "#   .                                                                                                                          \n",
    "# \"\"\"\n",
    "TEMPLATE_PUBLICATION = \"\"\"\n",
    ":{}\n",
    "  rdf:type :ResearchPublication ;\n",
    "  foaf:page \"{}\"^^xsd:anyURI ;\n",
    "  dct:title \"{}\" ;\n",
    "  dct:identifier \"{}\" ;\n",
    "\"\"\""
   ]
  },
  {
   "cell_type": "code",
   "execution_count": 11,
   "metadata": {},
   "outputs": [],
   "source": [
    "\n",
    "out_buf = [ PREAMBLE.lstrip() ]\n",
    "\n",
    "## load the datasets\n",
    "dataset_path = \"/Users/sophierand/RCDatasets/datasets.json\"\n",
    "known_datasets = {}\n",
    "\n",
    "with open(dataset_path, \"r\") as f:\n",
    "    for elem in json.load(f):\n",
    "        dat_id = elem[\"id\"]\n",
    "        id_list = [elem[\"provider\"], elem[\"title\"]]\n",
    "        known_datasets[dat_id] = dat_id\n",
    "#         dat_idcorpus.get_hash(id_list, prefix=\"dataset-\")\n",
    "\n",
    "        if \"url\" in elem:\n",
    "            url = elem[\"url\"]\n",
    "        else:\n",
    "            url = \"http://example.com\"\n",
    "\n",
    "        out_buf.append(\n",
    "            TEMPLATE_DATASET.format(\n",
    "                known_datasets[dat_id],\n",
    "                url,\n",
    "                elem[\"provider\"],\n",
    "                elem[\"title\"]\n",
    "                ).strip()\n",
    "            )\n",
    "\n",
    "        if \"alt_title\" in elem:\n",
    "            for alt_title in elem[\"alt_title\"]:\n",
    "                out_buf.append(\"  dct:alternative \\\"{}\\\" ;\".format(alt_title))\n",
    "\n",
    "        out_buf.append(\".\\n\")\n",
    "\n",
    "    "
   ]
  },
  {
   "cell_type": "code",
   "execution_count": 9,
   "metadata": {},
   "outputs": [],
   "source": [
    "# out_buf"
   ]
  },
  {
   "cell_type": "code",
   "execution_count": 15,
   "metadata": {},
   "outputs": [],
   "source": [
    "## load the publications\n",
    "filename = \"metadata_final/20191021_pub_md.json\"\n",
    "with open(filename) as f:\n",
    "    for elem in json.load(f):\n",
    "        link_map = elem[\"datasets\"]\n",
    "\n",
    "        if len(link_map) > 0:\n",
    "#             id_list = [elem[\"publisher\"], elem[\"title\"]]\n",
    "#             pub_id = corpus.get_hash(id_list, prefix=\"publication-\")\n",
    "\n",
    "            out_buf.append(\n",
    "                TEMPLATE_PUBLICATION.format(\n",
    "                    elem[\"pub_id\"],\n",
    "                    elem[\"pub_url\"],\n",
    "#                     elem[\"publisher\"],\n",
    "                    elem[\"title\"],\n",
    "                    elem[\"doi\"],\n",
    "#                     elem[\"pdf\"]\n",
    "                    ).strip()\n",
    "                )\n",
    "\n",
    "            dat_list = [ \":{}\".format(known_datasets[dat_id]) for dat_id in link_map ]\n",
    "            out_buf.append(\"  cito:citesAsDataSource {} ;\".format(\", \".join(dat_list)))\n",
    "            out_buf.append(\".\\n\")\n",
    "\n",
    "   "
   ]
  },
  {
   "cell_type": "code",
   "execution_count": 20,
   "metadata": {},
   "outputs": [
    {
     "data": {
      "text/plain": [
       "[':dataset-301']"
      ]
     },
     "execution_count": 20,
     "metadata": {},
     "output_type": "execute_result"
    }
   ],
   "source": [
    "dat_list"
   ]
  },
  {
   "cell_type": "code",
   "execution_count": 19,
   "metadata": {},
   "outputs": [
    {
     "data": {
      "text/plain": [
       "2667"
      ]
     },
     "execution_count": 19,
     "metadata": {},
     "output_type": "execute_result"
    }
   ],
   "source": [
    "len(out_buf)"
   ]
  },
  {
   "cell_type": "code",
   "execution_count": 23,
   "metadata": {},
   "outputs": [],
   "source": [
    "## write the TTL output\n",
    "filename = \"tmp.ttl\"\n",
    "\n",
    "with open(filename, \"w\") as f:\n",
    "    for text in out_buf:\n",
    "        f.write(text)\n",
    "        f.write(\"\\n\")\n",
    "\n",
    "# ## load the TTL output as a graph\n",
    "# graph = rdflib.Graph()\n",
    "# graph.parse(filename, format=\"n3\")\n",
    "\n",
    "# ## transform graph into JSON-LD\n",
    "# with open(\"corpus/vocab.json\", \"r\") as f:\n",
    "#     context = json.load(f)\n",
    "\n",
    "# with open(\"tmp.jsonld\", \"wb\") as f:\n",
    "#     f.write(graph.serialize(format=\"json-ld\", context=context, indent=2))\n",
    "\n",
    "# ## read back\n",
    "# graph = rdflib.Graph()\n",
    "# graph.parse(\"tmp.jsonld\", format=\"json-ld\")\n"
   ]
  },
  {
   "cell_type": "code",
   "execution_count": null,
   "metadata": {},
   "outputs": [],
   "source": []
  }
 ],
 "metadata": {
  "kernelspec": {
   "display_name": "Python 3",
   "language": "python",
   "name": "python3"
  },
  "language_info": {
   "codemirror_mode": {
    "name": "ipython",
    "version": 3
   },
   "file_extension": ".py",
   "mimetype": "text/x-python",
   "name": "python",
   "nbconvert_exporter": "python",
   "pygments_lexer": "ipython3",
   "version": "3.7.3"
  }
 },
 "nbformat": 4,
 "nbformat_minor": 2
}
