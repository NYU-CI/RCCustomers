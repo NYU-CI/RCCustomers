{
 "cells": [
  {
   "cell_type": "code",
   "execution_count": 1,
   "metadata": {},
   "outputs": [],
   "source": [
    "\n",
    "import json\n",
    "import networkx as nx\n",
    "import os\n",
    "import rdflib\n",
    "import sys\n",
    "import tempfile\n",
    "\n",
    "\n",
    "# TTL_PREAMBLE = \"\"\"\n",
    "# @prefix cito:\t<http://purl.org/spar/cito/> .\n",
    "# @prefix dct:\t<http://purl.org/dc/terms/> .\n",
    "# @prefix foaf:\t<http://xmlns.com/foaf/0.1/> .\n",
    "# @prefix rdf:\t<http://www.w3.org/1999/02/22-rdf-syntax-ns#> .\n",
    "# @prefix xsd:\t<http://www.w3.org/2001/XMLSchema#> .\n",
    "# \"\"\"\n",
    "\n",
    "\n",
    "TTL_PREAMBLE  = \"\"\"\n",
    "@base <https://github.com/Coleridge-Initiative/adrf-onto/wiki/Vocabulary> .\n",
    "@prefix cito:<http://purl.org/spar/cito/> .\n",
    "@prefix dct:<http://purl.org/dc/terms/> .\n",
    "@prefix foaf:<http://xmlns.com/foaf/0.1/> .\n",
    "@prefix rdf:<http://www.w3.org/1999/02/22-rdf-syntax-ns#> .\n",
    "@prefix xsd:<http://www.w3.org/2001/XMLSchema#> .\n",
    "\"\"\"\n",
    "def wrap_token (t):\n",
    "    if t.startswith(\"http\"):\n",
    "        return \"<{}>\".format(t)\n",
    "    else:\n",
    "        return \"\\\"{}\\\"\".format(t)\n",
    "\n",
    "\n",
    "def write_triple (f, s, p, o):\n",
    "    line = \"{} {} {} .\\n\".format(wrap_token(s), wrap_token(p), wrap_token(o))\n",
    "    f.write(line.encode(\"utf-8\"))\n",
    "\n",
    "\n",
    "def get_metadata(file_name, dataset_id):\n",
    "    filename = file_name\n",
    "    term = dataset_id\n",
    "\n",
    "    ## load the JSON-LD context\n",
    "    with open(\"vocab.json\", \"r\") as f:\n",
    "        context = json.load(f)\n",
    "\n",
    "    ## write TTL results to a temporary file, for JSON-LD conversion later\n",
    "    f = tempfile.NamedTemporaryFile(delete=False)\n",
    "    f.write(TTL_PREAMBLE.encode(\"utf-8\"))\n",
    "\n",
    "    # load the graph, collected triples related to the search term\n",
    "    graph = rdflib.Graph().parse(filename, format=\"n3\")\n",
    "\n",
    "    for s, p, o in graph:\n",
    "        if s.endswith(term):\n",
    "            write_triple(f, s, p, o)\n",
    "\n",
    "        elif o.endswith(term):\n",
    "            write_triple(f, s, p, o)\n",
    "\n",
    "    f.close()\n",
    "\n",
    "    # serialize the graph as JSON-LD\n",
    "    graph = rdflib.Graph().parse(f.name, format=\"n3\")\n",
    "    os.unlink(f.name)\n",
    "\n",
    "    response = graph.serialize(format=\"json-ld\", context=context, indent=None)\n",
    "    return response\n"
   ]
  },
  {
   "cell_type": "code",
   "execution_count": null,
   "metadata": {},
   "outputs": [],
   "source": [
    "    filename = file_name\n",
    "    term = dataset_id\n",
    "\n",
    "    ## load the JSON-LD context\n",
    "    with open(\"vocab.json\", \"r\") as f:\n",
    "        context = json.load(f)\n",
    "\n",
    "    ## write TTL results to a temporary file, for JSON-LD conversion later\n",
    "    f = tempfile.NamedTemporaryFile(delete=False)\n",
    "    f.write(TTL_PREAMBLE.encode(\"utf-8\"))\n"
   ]
  },
  {
   "cell_type": "code",
   "execution_count": 2,
   "metadata": {},
   "outputs": [],
   "source": [
    "filename = 'tmp.ttl'"
   ]
  },
  {
   "cell_type": "code",
   "execution_count": 3,
   "metadata": {},
   "outputs": [],
   "source": [
    "    with open(\"vocab.json\", \"r\") as f:\n",
    "        context = json.load(f)\n",
    "\n",
    "    ## write TTL results to a temporary file, for JSON-LD conversion later\n",
    "    f = tempfile.NamedTemporaryFile(delete=False)\n",
    "    f.write(TTL_PREAMBLE.encode(\"utf-8\"))\n",
    "\n",
    "    # load the graph, collected triples related to the search term\n",
    "    graph = rdflib.Graph().parse(filename, format=\"n3\")"
   ]
  },
  {
   "cell_type": "code",
   "execution_count": 5,
   "metadata": {},
   "outputs": [],
   "source": [
    "term = 'dataset-001'"
   ]
  },
  {
   "cell_type": "code",
   "execution_count": 6,
   "metadata": {},
   "outputs": [],
   "source": [
    "for s, p, o in graph:\n",
    "    if s.endswith(term):\n",
    "        write_triple(f, s, p, o)\n",
    "\n",
    "    elif o.endswith(term):\n",
    "        write_triple(f, s, p, o)\n",
    "\n",
    "f.close()\n",
    "\n",
    "# serialize the graph as JSON-LD\n",
    "graph = rdflib.Graph().parse(f.name, format=\"n3\")"
   ]
  },
  {
   "cell_type": "code",
   "execution_count": 7,
   "metadata": {},
   "outputs": [
    {
     "data": {
      "text/plain": [
       "<Graph identifier=N7b5b3c9d28354580b0a980a38ea720e1 (<class 'rdflib.graph.Graph'>)>"
      ]
     },
     "execution_count": 7,
     "metadata": {},
     "output_type": "execute_result"
    }
   ],
   "source": [
    "graph"
   ]
  },
  {
   "cell_type": "code",
   "execution_count": 8,
   "metadata": {},
   "outputs": [],
   "source": [
    "    response = graph.serialize(format=\"json-ld\", context=context, indent=None)"
   ]
  },
  {
   "cell_type": "code",
   "execution_count": 9,
   "metadata": {},
   "outputs": [
    {
     "data": {
      "text/plain": [
       "b'{\"@context\": {\"@language\": \"en\",\"adrf\": \"https://github.com/Coleridge-Initiative/adrf-onto/wiki/Vocabulary#\",\"cito\": \"http://purl.org/spar/cito/\",\"dct\": \"http://purl.org/dc/terms/\",\"foaf\": \"http://xmlns.com/foaf/0.1/\",\"rdf\": \"http://www.w3.org/1999/02/22-rdf-syntax-ns#\",\"xsd\": \"http://www.w3.org/2001/XMLSchema#\"},\"@graph\": [{\"@id\": \"adrf:dataset-001\",\"@type\": \"adrf:Dataset\",\"dct:alternative\": {\"@value\": \"retail scanner data\"},\"dct:publisher\": {\"@value\": \"IRI\"},\"dct:title\": {\"@value\": \"IRI Infoscan\"},\"foaf:page\": {\"@id\": \"https://www.iriworldwide.com/en-US/Solutions/Retail\"}},{\"@id\": \"adrf:publication-9d21370465e28c315dd9\",\"cito:citesAsDataSource\": {\"@id\": \"adrf:dataset-001\"}}]}'"
      ]
     },
     "execution_count": 9,
     "metadata": {},
     "output_type": "execute_result"
    }
   ],
   "source": [
    "response"
   ]
  },
  {
   "cell_type": "code",
   "execution_count": null,
   "metadata": {},
   "outputs": [],
   "source": []
  }
 ],
 "metadata": {
  "kernelspec": {
   "display_name": "Python 3",
   "language": "python",
   "name": "python3"
  },
  "language_info": {
   "codemirror_mode": {
    "name": "ipython",
    "version": 3
   },
   "file_extension": ".py",
   "mimetype": "text/x-python",
   "name": "python",
   "nbconvert_exporter": "python",
   "pygments_lexer": "ipython3",
   "version": "3.7.3"
  }
 },
 "nbformat": 4,
 "nbformat_minor": 2
}
