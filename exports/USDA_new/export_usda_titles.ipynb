{
 "cells": [
  {
   "cell_type": "code",
   "execution_count": 1,
   "metadata": {},
   "outputs": [],
   "source": [
    "import json"
   ]
  },
  {
   "cell_type": "code",
   "execution_count": 5,
   "metadata": {},
   "outputs": [],
   "source": [
    "datasets_path = \"/Users/sophierand/RCDatasets/datasets.json\"\n",
    "with open(datasets_path) as json_file:\n",
    "    datasets = json.load(json_file)\n"
   ]
  },
  {
   "cell_type": "code",
   "execution_count": 6,
   "metadata": {},
   "outputs": [],
   "source": [
    "usda_pubs_path = 'usda_pubs_list.json'\n",
    "with open(usda_pubs_path) as json_file:\n",
    "    usda_pubs = json.load(json_file)"
   ]
  },
  {
   "cell_type": "code",
   "execution_count": 14,
   "metadata": {},
   "outputs": [
    {
     "data": {
      "text/plain": [
       "{'dataset_name': 'IRI Consumer Network',\n",
       " 'dataset_url': 'https://www.iriworldwide.com/en-US/Solutions/Media/Media-Solutions/Consumer'}"
      ]
     },
     "execution_count": 14,
     "metadata": {},
     "output_type": "execute_result"
    }
   ],
   "source": [
    "p = usda_pubs[0]\n",
    "p_dataset = [{'dataset_name':d['title'],'dataset_url':d['url']} for d in datasets if d['id'] in p['datasets']][0]\n",
    "p_dataset"
   ]
  },
  {
   "cell_type": "code",
   "execution_count": null,
   "metadata": {},
   "outputs": [],
   "source": []
  },
  {
   "cell_type": "code",
   "execution_count": 23,
   "metadata": {},
   "outputs": [],
   "source": [
    "p_new_list = []\n",
    "for p in usda_pubs:\n",
    "    p_new = p\n",
    "    p_dataset = [{'dataset_name':d['title'],'dataset_url':d['url']} for d in datasets if d['id'] in p['datasets']][0]\n",
    "    p_new.update(p_dataset)\n",
    "    try:\n",
    "        pub_url = p_new['original']['url']\n",
    "        p_new.update({'pub_url':pub_url})\n",
    "    except:\n",
    "        pass\n",
    "    p_new_sub = {k:p_new[k] for k in ['title','pub_url','dataset_name','dataset_url']}\n",
    "    p_new_list.append(p_new_sub)\n",
    "    \n",
    "    "
   ]
  },
  {
   "cell_type": "code",
   "execution_count": 24,
   "metadata": {},
   "outputs": [
    {
     "data": {
      "text/plain": [
       "1502"
      ]
     },
     "execution_count": 24,
     "metadata": {},
     "output_type": "execute_result"
    }
   ],
   "source": [
    "len(p_new_list)"
   ]
  },
  {
   "cell_type": "code",
   "execution_count": 26,
   "metadata": {},
   "outputs": [],
   "source": [
    "import pandas as pd\n",
    "p_new_df = pd.DataFrame(p_new_list)"
   ]
  },
  {
   "cell_type": "code",
   "execution_count": 28,
   "metadata": {},
   "outputs": [],
   "source": [
    "p_new_df.to_csv('export_for_julia.csv')"
   ]
  },
  {
   "cell_type": "code",
   "execution_count": null,
   "metadata": {},
   "outputs": [],
   "source": []
  }
 ],
 "metadata": {
  "kernelspec": {
   "display_name": "Python 3",
   "language": "python",
   "name": "python3"
  },
  "language_info": {
   "codemirror_mode": {
    "name": "ipython",
    "version": 3
   },
   "file_extension": ".py",
   "mimetype": "text/x-python",
   "name": "python",
   "nbconvert_exporter": "python",
   "pygments_lexer": "ipython3",
   "version": "3.7.3"
  }
 },
 "nbformat": 4,
 "nbformat_minor": 2
}
