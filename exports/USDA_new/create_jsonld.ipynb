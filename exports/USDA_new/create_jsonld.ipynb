{
 "cells": [
  {
   "cell_type": "code",
   "execution_count": 1,
   "metadata": {},
   "outputs": [],
   "source": [
    "TTL_HEADER = \"\"\"                                                                                                             \n",
    "@base <https://github.com/Coleridge-Initiative/adrf-onto/wiki/Vocabulary> .                                                  \n",
    "@prefix cito:   <http://purl.org/spar/cito/> .                                                                               \n",
    "@prefix dct:    <http://purl.org/dc/terms/> .                                                                                \n",
    "@prefix foaf:   <http://xmlns.com/foaf/0.1/> .                                                                               \n",
    "@prefix rdf:    <http://www.w3.org/1999/02/22-rdf-syntax-ns#> .                                                              \n",
    "@prefix xsd:    <http://www.w3.org/2001/XMLSchema#> .                                                                        \n",
    "\"\"\"\n",
    "\n",
    "# PUB_TEMPLATE = \"\"\"                                                                                                           \n",
    "# :{}                                                                                                                          \n",
    "#   rdf:type :ResearchPublication ;                                                                                            \n",
    "#   dct:title \"{}\"@en ;                                                                                                        \n",
    "#   dct:identifier \"{}\" ;                                                                                                      \n",
    "#   dct:language \"en\" ;                                                                                                        \n",
    "#   foaf:page \"{}\"^^xsd:anyURI ;                                                                                               \n",
    "#   .                                                                                                                          \n",
    "# \"\"\"\n",
    "PUB_TEMPLATE = \"\"\"                                                                                                           \n",
    ":{}                                                                                                                          \n",
    "  rdf:type :ResearchPublication ;                                                                                            \n",
    "  dct:title \"{}\"@en ;                                                                                                        \n",
    "  dct:subject \"{}\" ;                                                                                                        \n",
    "  dct:identifier \"{}\" ;                                                                                                      \n",
    "  dct:language \"en\" ;                                                                                                        \n",
    "  foaf:page \"{}\"^^xsd:anyURI ;                                                                                               \n",
    "  .                                                                                                                          \n",
    "\"\"\""
   ]
  },
  {
   "cell_type": "code",
   "execution_count": 5,
   "metadata": {},
   "outputs": [],
   "source": [
    "# http://purl.org/dc/terms/subject"
   ]
  },
  {
   "cell_type": "code",
   "execution_count": 2,
   "metadata": {},
   "outputs": [],
   "source": [
    "from rdflib import Graph, plugin\n",
    "from rdflib.plugin import register, Parser, Serializer\n",
    "import pyld\n",
    "import json\n",
    "\n",
    "# format as JSON_LD                                                                                                      \n",
    "with open(\"vocab.json\", \"r\") as f:\n",
    "    CONTEXT = json.load(f)\n",
    "\n",
    "frags = [TTL_HEADER]\n"
   ]
  },
  {
   "cell_type": "code",
   "execution_count": 15,
   "metadata": {},
   "outputs": [],
   "source": [
    "partition_path = \"metadata_final/20191021_pub_md.json\"\n",
    "\n",
    "with open(partition_path) as json_file:\n",
    "    usda_md = json.load(json_file)"
   ]
  },
  {
   "cell_type": "code",
   "execution_count": 18,
   "metadata": {},
   "outputs": [],
   "source": [
    "import hashlib\n",
    "\n",
    "def get_hash (strings, prefix=None, digest_size=10):\n",
    "    \"\"\"\n",
    "    construct a unique identifier from a collection of strings\n",
    "    \"\"\"\n",
    "    m = hashlib.blake2b(digest_size=digest_size)\n",
    "    \n",
    "    for elem in sorted(map(lambda x: x.encode(\"utf-8\").lower().strip(), strings)):\n",
    "        m.update(elem)\n",
    "\n",
    "    if prefix:\n",
    "        id = prefix + m.hexdigest()\n",
    "    else:\n",
    "        id = m.hexdigest()\n",
    "\n",
    "    return id"
   ]
  },
  {
   "cell_type": "code",
   "execution_count": 21,
   "metadata": {},
   "outputs": [],
   "source": [
    "# usda_md_with_hash =\n",
    "for p in usda_md:\n",
    "    hash_val = 'publication-{}'.format(get_hash(p['title']))\n",
    "    p.update({'pub_id':hash_val})"
   ]
  },
  {
   "cell_type": "code",
   "execution_count": 22,
   "metadata": {},
   "outputs": [
    {
     "data": {
      "text/plain": [
       "{'title': 'Measuring Food Expenditure Poverty in SNAP Populations: Some Extensions with an Application to the American Recovery and Reinvestment Act',\n",
       " 'datasets': ['dataset-033'],\n",
       " 'pdf': 'https://academic.oup.com/aepp/article-pdf/41/1/133/27762442/ppy004.pdf',\n",
       " 'doi': '10.1093/aepp/ppy004',\n",
       " 'new_keywords': 'act,population',\n",
       " 'journal_title': 'Applied Economic Perspectives and Policy',\n",
       " 'authors': ['Yang, Yanliang. Department of Agricultural and Applied Economics, Virginia Tech',\n",
       "  'Davis, George C. Department of Agricultural and Applied Economics, Virginia Tech',\n",
       "  'You, Wen. Department of Agricultural and Applied Economics, Virginia Tech'],\n",
       " 'pub_id': 'publication-9d21370465e28c315dd9'}"
      ]
     },
     "execution_count": 22,
     "metadata": {},
     "output_type": "execute_result"
    }
   ],
   "source": [
    "usda_md[0]"
   ]
  },
  {
   "cell_type": "code",
   "execution_count": null,
   "metadata": {},
   "outputs": [],
   "source": [
    "[\n",
    "    \"10.1111/agec.12444\",\n",
    "    \"publication-e84ab84d25278051773e\",\n",
    "    \"http://purl.umn.edu/205424\",\n",
    "    \"Agricultural Economics\",\n",
    "    \"Does a nutritious diet cost more in food deserts?\"\n",
    "  ]"
   ]
  },
  {
   "cell_type": "code",
   "execution_count": null,
   "metadata": {},
   "outputs": [],
   "source": [
    "for entry in results:\n",
    "    frags.append(PUB_TEMPLATE.format(pub_id, title, doi, pub_url))\n"
   ]
  },
  {
   "cell_type": "code",
   "execution_count": null,
   "metadata": {},
   "outputs": [],
   "source": [
    "\n",
    "for doi, pub_id, pub_url, journal, title in results:\n",
    "    frags.append(PUB_TEMPLATE.format(pub_id, title, doi, pub_url))\n",
    "\n",
    "g = Graph()\n",
    "g.parse(data=\"\\n\".join(frags), format=\"n3\")\n",
    "\n",
    "jsonld = json.loads(g.serialize(format=\"json-ld\", context=CONTEXT))\n",
    "jsonld = pyld.jsonld.compact(jsonld, CONTEXT)\n",
    "\n",
    "print(json.dumps(jsonld, indent=2))"
   ]
  }
 ],
 "metadata": {
  "kernelspec": {
   "display_name": "Python 3",
   "language": "python",
   "name": "python3"
  },
  "language_info": {
   "codemirror_mode": {
    "name": "ipython",
    "version": 3
   },
   "file_extension": ".py",
   "mimetype": "text/x-python",
   "name": "python",
   "nbconvert_exporter": "python",
   "pygments_lexer": "ipython3",
   "version": "3.7.3"
  }
 },
 "nbformat": 4,
 "nbformat_minor": 2
}
