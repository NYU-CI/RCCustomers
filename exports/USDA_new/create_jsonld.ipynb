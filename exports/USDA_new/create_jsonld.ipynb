{
 "cells": [
  {
   "cell_type": "code",
   "execution_count": 1,
   "metadata": {},
   "outputs": [],
   "source": [
    "TTL_HEADER = \"\"\"                                                                                                             \n",
    "@base <https://github.com/Coleridge-Initiative/adrf-onto/wiki/Vocabulary> .                                                  \n",
    "@prefix cito:   <http://purl.org/spar/cito/> .                                                                               \n",
    "@prefix dct:    <http://purl.org/dc/terms/> .                                                                                \n",
    "@prefix foaf:   <http://xmlns.com/foaf/0.1/> .                                                                               \n",
    "@prefix rdf:    <http://www.w3.org/1999/02/22-rdf-syntax-ns#> .                                                              \n",
    "@prefix xsd:    <http://www.w3.org/2001/XMLSchema#> .                                                                        \n",
    "\"\"\"\n",
    "\n",
    "PUB_TEMPLATE = \"\"\"                                                                                                           \n",
    ":{}                                                                                                                          \n",
    "  rdf:type :ResearchPublication ;                                                                                            \n",
    "  dct:title \"{}\"@en ;                                                                                                        \n",
    "  dct:identifier \"{}\" ;                                                                                                      \n",
    "  dct:language \"en\" ;                                                                                                        \n",
    "  foaf:page \"{}\"^^xsd:anyURI ;  \n",
    "  cito:citesAsDataSource \"{}\";\n",
    "  dct:subject \"{}\" ;                                                                                                      \n",
    "  .                                                                                                                          \n",
    "\"\"\"\n",
    "# PUB_TEMPLATE = \"\"\"                                                                                                           \n",
    "# :{}                                                                                                                          \n",
    "#   rdf:type :ResearchPublication ;                                                                                            \n",
    "#   dct:title \"{}\"@en ;                                                                                                        \n",
    "#   dct:identifier \"{}\" ;                                                                                                       \n",
    "#   dct:language \"en\" ;                                                                                                        \n",
    "#   foaf:page \"{}\"^^xsd:anyURI ;                                                                                               \n",
    "#   .                                                                                                                          \n",
    "# \"\"\""
   ]
  },
  {
   "cell_type": "markdown",
   "metadata": {},
   "source": [
    "read in json"
   ]
  },
  {
   "cell_type": "code",
   "execution_count": 3,
   "metadata": {},
   "outputs": [],
   "source": [
    "import json\n",
    "partition_path = \"metadata_final/20191021_pub_md.json\"\n",
    "\n",
    "with open(partition_path) as json_file:\n",
    "    usda_md = json.load(json_file)"
   ]
  },
  {
   "cell_type": "markdown",
   "metadata": {},
   "source": [
    "subset to test"
   ]
  },
  {
   "cell_type": "code",
   "execution_count": 4,
   "metadata": {},
   "outputs": [],
   "source": [
    "results = usda_md[0:2]"
   ]
  },
  {
   "cell_type": "code",
   "execution_count": 5,
   "metadata": {},
   "outputs": [
    {
     "name": "stdout",
     "output_type": "stream",
     "text": [
      "{\n",
      "  \"@context\": {\n",
      "    \"@language\": \"en\",\n",
      "    \"adrf\": \"https://github.com/Coleridge-Initiative/adrf-onto/wiki/Vocabulary#\",\n",
      "    \"cito\": \"http://purl.org/spar/cito/\",\n",
      "    \"dct\": \"http://purl.org/dc/terms/\",\n",
      "    \"foaf\": \"http://xmlns.com/foaf/0.1/\",\n",
      "    \"rdf\": \"http://www.w3.org/1999/02/22-rdf-syntax-ns#\",\n",
      "    \"xsd\": \"http://www.w3.org/2001/XMLSchema#\"\n",
      "  },\n",
      "  \"@id\": \"adrf:publication-9d21370465e28c315dd9\",\n",
      "  \"@type\": \"adrf:ResearchPublication\",\n",
      "  \"dct:identifier\": [\n",
      "    {\n",
      "      \"@value\": \"10.1257/pandp.20181106\"\n",
      "    },\n",
      "    {\n",
      "      \"@value\": \"10.1093/aepp/ppy004\"\n",
      "    }\n",
      "  ],\n",
      "  \"dct:language\": {\n",
      "    \"@value\": \"en\"\n",
      "  },\n",
      "  \"dct:subject\": [\n",
      "    {\n",
      "      \"@value\": \"contribution,disadvantaged groups,analysis,United States,importance,immigrant groups,differential incidence,status,food insecurity,differences,recession,group,decomposition analysis,insecurity,ethnicity,structural factors,Great Recession,patterns,immigrant status,factors,race/ethnicity,Racial,state,intensive margin\"\n",
      "    },\n",
      "    {\n",
      "      \"@value\": \"act,population\"\n",
      "    }\n",
      "  ],\n",
      "  \"dct:title\": [\n",
      "    \"Measuring Food Expenditure Poverty in SNAP Populations: Some Extensions with an Application to the American Recovery and Reinvestment Act\",\n",
      "    \"The Differential Incidence and Severity of Food Insecurity by Racial, Ethnic, and Immigrant Groups over the Great Recession in the United States\"\n",
      "  ],\n",
      "  \"cito:citesAsDataSource\": {\n",
      "    \"@value\": \"['dataset-033']\"\n",
      "  },\n",
      "  \"foaf:page\": {\n",
      "    \"@type\": \"xsd:anyURI\",\n",
      "    \"@value\": \"\"\n",
      "  }\n",
      "}\n"
     ]
    }
   ],
   "source": [
    "from rdflib import Graph, plugin\n",
    "from rdflib.plugin import register, Parser, Serializer\n",
    "import pyld\n",
    "\n",
    "# format as JSON_LD                                                                                                      \n",
    "with open(\"vocab.json\", \"r\") as f:\n",
    "    CONTEXT = json.load(f)\n",
    "\n",
    "frags = [TTL_HEADER]\n",
    "\n",
    "for entry in results:\n",
    "    pub_id = entry['pub_id']\n",
    "    title = entry['title']\n",
    "    doi = entry['doi']\n",
    "    dataset = entry['datasets']\n",
    "    try:\n",
    "        pub_url = entry['url']\n",
    "    except:\n",
    "        pub_url = ''\n",
    "    try:\n",
    "        pub_pdf = entry['pdf']\n",
    "    except:\n",
    "        pub_pdf = ''\n",
    "    try:\n",
    "        authors = entry['authors']\n",
    "    except:\n",
    "        authors = ''\n",
    "    try:\n",
    "        keywords = entry['new_keywords']\n",
    "    except:\n",
    "        keywords = ''\n",
    "    frags.append(PUB_TEMPLATE.format(pub_id, title, doi, pub_url,dataset,keywords))\n",
    "\n",
    "g = Graph()\n",
    "g.parse(data=\"\\n\".join(frags), format=\"n3\")\n",
    "\n",
    "jsonld = json.loads(g.serialize(format=\"json-ld\", context=CONTEXT))\n",
    "jsonld = pyld.jsonld.compact(jsonld, CONTEXT)\n",
    "\n",
    "print(json.dumps(jsonld, indent=2))"
   ]
  },
  {
   "cell_type": "code",
   "execution_count": null,
   "metadata": {},
   "outputs": [],
   "source": [
    "# [\n",
    "#     \"10.1111/agec.12444\",\n",
    "#     \"publication-e84ab84d25278051773e\",\n",
    "#     \"http://purl.umn.edu/205424\",\n",
    "#     \"Agricultural Economics\",\n",
    "#     \"Does a nutritious diet cost more in food deserts?\"\n",
    "#   ]"
   ]
  }
 ],
 "metadata": {
  "kernelspec": {
   "display_name": "Python 3",
   "language": "python",
   "name": "python3"
  },
  "language_info": {
   "codemirror_mode": {
    "name": "ipython",
    "version": 3
   },
   "file_extension": ".py",
   "mimetype": "text/x-python",
   "name": "python",
   "nbconvert_exporter": "python",
   "pygments_lexer": "ipython3",
   "version": "3.7.3"
  }
 },
 "nbformat": 4,
 "nbformat_minor": 2
}
