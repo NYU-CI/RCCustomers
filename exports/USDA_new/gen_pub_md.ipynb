{
 "cells": [
  {
   "cell_type": "code",
   "execution_count": 1,
   "metadata": {},
   "outputs": [],
   "source": [
    "import json"
   ]
  },
  {
   "cell_type": "code",
   "execution_count": 12,
   "metadata": {},
   "outputs": [],
   "source": [
    "usda_pubs_path = 'usda_pubs_list.json'\n",
    "with open(usda_pubs_path) as json_file:\n",
    "    usda_pubs = json.load(json_file)"
   ]
  },
  {
   "cell_type": "code",
   "execution_count": 13,
   "metadata": {},
   "outputs": [],
   "source": [
    "import RichContextAPI\n",
    "import importlib\n",
    "importlib.reload(RichContextAPI)\n",
    "import datetime"
   ]
  },
  {
   "cell_type": "code",
   "execution_count": 14,
   "metadata": {},
   "outputs": [],
   "source": [
    "def grab_md(p):\n",
    "    title = p['title']\n",
    "    try:\n",
    "        dimensions_md = RichContextAPI.get_dimensions_md(title)\n",
    "        if dimensions_md is not None:\n",
    "            dimensions_md.update({'date_added':datetime.datetime.now().strftime('%Y-%m-%d %H:%M:%S')})\n",
    "            p.update({'dimensions':dimensions_md})\n",
    "    except:\n",
    "        pass\n",
    "    try:\n",
    "        epmc_md = RichContextAPI.get_epmc_md(title)\n",
    "        if epmc_md is not None:\n",
    "            epmc_md.update({'date_added':datetime.datetime.now().strftime('%Y-%m-%d %H:%M:%S')})\n",
    "            p.update({'europepmc':epmc_md})\n",
    "    except:\n",
    "        pass\n",
    "    try:\n",
    "        oa_md = RichContextAPI.oa_lookup_pub_uris(title)\n",
    "        if oa_md is not None:\n",
    "            oa_md.update({'date_added':datetime.datetime.now().strftime('%Y-%m-%d %H:%M:%S')})\n",
    "            p.update({'openaire':oa_md})\n",
    "    except:\n",
    "        pass\n",
    "# publications_api_metadata.append(p)    \n",
    "    return p"
   ]
  },
  {
   "cell_type": "code",
   "execution_count": 6,
   "metadata": {},
   "outputs": [],
   "source": [
    "# usda_pubs = usda_pubs[0:10]\n",
    "# usda_pubs[0:2]"
   ]
  },
  {
   "cell_type": "markdown",
   "metadata": {},
   "source": [
    "RUN CHUNKS!"
   ]
  },
  {
   "cell_type": "code",
   "execution_count": 15,
   "metadata": {},
   "outputs": [],
   "source": [
    "import time"
   ]
  },
  {
   "cell_type": "code",
   "execution_count": null,
   "metadata": {},
   "outputs": [],
   "source": [
    "chunk_size = 100\n",
    "for i in range(0, len(usda_pubs), chunk_size):\n",
    "    chunk_metadata = []\n",
    "    chunk = usda_pubs[i:i+chunk_size]\n",
    "    for d,c in enumerate(chunk):\n",
    "        try:\n",
    "            this_metadata = grab_md(c)\n",
    "            chunk_metadata.append(this_metadata)\n",
    "        except:\n",
    "            pass\n",
    "    partition_path = \"metadata_partitions/usda_pub_metadata_{}.json\".format(i)\n",
    "    with open(partition_path, 'w') as outfile:\n",
    "        json.dump(chunk_metadata, outfile, indent=2)\n",
    "    time.sleep(6)\n",
    "    "
   ]
  },
  {
   "cell_type": "code",
   "execution_count": null,
   "metadata": {},
   "outputs": [],
   "source": []
  }
 ],
 "metadata": {
  "kernelspec": {
   "display_name": "Python 3",
   "language": "python",
   "name": "python3"
  },
  "language_info": {
   "codemirror_mode": {
    "name": "ipython",
    "version": 3
   },
   "file_extension": ".py",
   "mimetype": "text/x-python",
   "name": "python",
   "nbconvert_exporter": "python",
   "pygments_lexer": "ipython3",
   "version": "3.7.3"
  }
 },
 "nbformat": 4,
 "nbformat_minor": 2
}
