{
 "cells": [
  {
   "cell_type": "code",
   "execution_count": 1,
   "metadata": {},
   "outputs": [],
   "source": [
    "import json"
   ]
  },
  {
   "cell_type": "code",
   "execution_count": 12,
   "metadata": {},
   "outputs": [],
   "source": [
    "usda_pubs_path = 'usda_pubs_list.json'\n",
    "with open(usda_pubs_path) as json_file:\n",
    "    usda_pubs = json.load(json_file)"
   ]
  },
  {
   "cell_type": "code",
   "execution_count": 13,
   "metadata": {},
   "outputs": [],
   "source": [
    "import RichContextAPI\n",
    "import importlib\n",
    "importlib.reload(RichContextAPI)\n",
    "import datetime"
   ]
  },
  {
   "cell_type": "code",
   "execution_count": 14,
   "metadata": {},
   "outputs": [],
   "source": [
    "def grab_md(p):\n",
    "    title = p['title']\n",
    "    try:\n",
    "        dimensions_md = RichContextAPI.get_dimensions_md(title)\n",
    "        if dimensions_md is not None:\n",
    "            dimensions_md.update({'date_added':datetime.datetime.now().strftime('%Y-%m-%d %H:%M:%S')})\n",
    "            p.update({'dimensions':dimensions_md})\n",
    "    except:\n",
    "        pass\n",
    "    try:\n",
    "        epmc_md = RichContextAPI.get_epmc_md(title)\n",
    "        if epmc_md is not None:\n",
    "            epmc_md.update({'date_added':datetime.datetime.now().strftime('%Y-%m-%d %H:%M:%S')})\n",
    "            p.update({'europepmc':epmc_md})\n",
    "    except:\n",
    "        pass\n",
    "    try:\n",
    "        oa_md = RichContextAPI.oa_lookup_pub_uris(title)\n",
    "        if oa_md is not None:\n",
    "            oa_md.update({'date_added':datetime.datetime.now().strftime('%Y-%m-%d %H:%M:%S')})\n",
    "            p.update({'openaire':oa_md})\n",
    "    except:\n",
    "        pass\n",
    "# publications_api_metadata.append(p)    \n",
    "    return p"
   ]
  },
  {
   "cell_type": "code",
   "execution_count": 6,
   "metadata": {},
   "outputs": [],
   "source": [
    "# usda_pubs = usda_pubs[0:10]\n",
    "# usda_pubs[0:2]"
   ]
  },
  {
   "cell_type": "markdown",
   "metadata": {},
   "source": [
    "RUN CHUNKS!"
   ]
  },
  {
   "cell_type": "code",
   "execution_count": 15,
   "metadata": {},
   "outputs": [],
   "source": [
    "import time\n",
    "import re"
   ]
  },
  {
   "cell_type": "code",
   "execution_count": 64,
   "metadata": {},
   "outputs": [],
   "source": [
    "def get_start():\n",
    "    partition_path = 'metadata_partitions/'\n",
    "    existing_paths = [os.path.join(partition_path,f) for f in os.listdir(partition_path) if f.endswith('.json')]\n",
    "    max_val = []\n",
    "    for e in existing_paths:\n",
    "#         print(e)\n",
    "        max_val.append(int(re.findall(r'\\d+', e)[0]))\n",
    "    mv = max(max_val)\n",
    "    return mv\n",
    "    \n",
    "\n"
   ]
  },
  {
   "cell_type": "code",
   "execution_count": 65,
   "metadata": {},
   "outputs": [
    {
     "data": {
      "text/plain": [
       "200"
      ]
     },
     "execution_count": 65,
     "metadata": {},
     "output_type": "execute_result"
    }
   ],
   "source": [
    "max_val\n",
    "start_pos = get_start()\n",
    "chunk_size = 100"
   ]
  },
  {
   "cell_type": "code",
   "execution_count": null,
   "metadata": {},
   "outputs": [],
   "source": [
    "    existing_paths = [os.path.join(partition_path,f) for f in os.listdir(partition_path) if f.endswith('.json')]\n",
    "    file_counter = existing_paths\n"
   ]
  },
  {
   "cell_type": "code",
   "execution_count": null,
   "metadata": {},
   "outputs": [],
   "source": [
    "def gen_path_name():"
   ]
  },
  {
   "cell_type": "code",
   "execution_count": 81,
   "metadata": {},
   "outputs": [],
   "source": [
    "import time"
   ]
  },
  {
   "cell_type": "code",
   "execution_count": 82,
   "metadata": {},
   "outputs": [],
   "source": [
    "def attach_export_md(usda_pubs,start_pos,chunk_size):\n",
    "    first_label = start_pos + chunk_size\n",
    "    partition_path_pre = 'metadata_partitions/'\n",
    "    for i in range(0, len(usda_pubs), chunk_size):\n",
    "        chunk_metadata = []\n",
    "        chunk = usda_pubs[i:i + chunk_size]\n",
    "        for d,c in enumerate(chunk):\n",
    "            try:\n",
    "                this_metadata = grab_md(c)\n",
    "                chunk_metadata.append(this_metadata)\n",
    "            except:\n",
    "                pass\n",
    "        partition_path = partition_path_pre + \"usda_pub_metadata_{}.json\".format(i+first_label)\n",
    "        with open(partition_path, 'w') as outfile:\n",
    "            json.dump(chunk_metadata, outfile, indent=2)\n",
    "        time.sleep(6)    "
   ]
  },
  {
   "cell_type": "code",
   "execution_count": 83,
   "metadata": {},
   "outputs": [
    {
     "data": {
      "text/plain": [
       "300"
      ]
     },
     "execution_count": 83,
     "metadata": {},
     "output_type": "execute_result"
    }
   ],
   "source": [
    "start_pos = get_start()\n",
    "chunk_size = 100\n",
    "start_pos"
   ]
  },
  {
   "cell_type": "code",
   "execution_count": 87,
   "metadata": {},
   "outputs": [],
   "source": [
    "# remaining_pubs"
   ]
  },
  {
   "cell_type": "code",
   "execution_count": 85,
   "metadata": {},
   "outputs": [
    {
     "ename": "KeyboardInterrupt",
     "evalue": "",
     "output_type": "error",
     "traceback": [
      "\u001b[0;31m---------------------------------------------------------------------------\u001b[0m",
      "\u001b[0;31mKeyboardInterrupt\u001b[0m                         Traceback (most recent call last)",
      "\u001b[0;32m<ipython-input-85-aae79d100ee5>\u001b[0m in \u001b[0;36m<module>\u001b[0;34m\u001b[0m\n\u001b[0;32m----> 1\u001b[0;31m \u001b[0mattach_export_md\u001b[0m\u001b[0;34m(\u001b[0m\u001b[0musda_pubs\u001b[0m \u001b[0;34m=\u001b[0m \u001b[0mremaining_pubs\u001b[0m\u001b[0;34m,\u001b[0m\u001b[0mstart_pos\u001b[0m \u001b[0;34m=\u001b[0m \u001b[0mstart_pos\u001b[0m\u001b[0;34m,\u001b[0m\u001b[0mchunk_size\u001b[0m\u001b[0;34m=\u001b[0m\u001b[0mchunk_size\u001b[0m\u001b[0;34m)\u001b[0m\u001b[0;34m\u001b[0m\u001b[0;34m\u001b[0m\u001b[0m\n\u001b[0m",
      "\u001b[0;32m<ipython-input-82-256257bc520e>\u001b[0m in \u001b[0;36mattach_export_md\u001b[0;34m(usda_pubs, start_pos, chunk_size)\u001b[0m\n\u001b[1;32m     14\u001b[0m         \u001b[0;32mwith\u001b[0m \u001b[0mopen\u001b[0m\u001b[0;34m(\u001b[0m\u001b[0mpartition_path\u001b[0m\u001b[0;34m,\u001b[0m \u001b[0;34m'w'\u001b[0m\u001b[0;34m)\u001b[0m \u001b[0;32mas\u001b[0m \u001b[0moutfile\u001b[0m\u001b[0;34m:\u001b[0m\u001b[0;34m\u001b[0m\u001b[0;34m\u001b[0m\u001b[0m\n\u001b[1;32m     15\u001b[0m             \u001b[0mjson\u001b[0m\u001b[0;34m.\u001b[0m\u001b[0mdump\u001b[0m\u001b[0;34m(\u001b[0m\u001b[0mchunk_metadata\u001b[0m\u001b[0;34m,\u001b[0m \u001b[0moutfile\u001b[0m\u001b[0;34m,\u001b[0m \u001b[0mindent\u001b[0m\u001b[0;34m=\u001b[0m\u001b[0;36m2\u001b[0m\u001b[0;34m)\u001b[0m\u001b[0;34m\u001b[0m\u001b[0;34m\u001b[0m\u001b[0m\n\u001b[0;32m---> 16\u001b[0;31m         \u001b[0mtime\u001b[0m\u001b[0;34m.\u001b[0m\u001b[0msleep\u001b[0m\u001b[0;34m(\u001b[0m\u001b[0;36m6\u001b[0m\u001b[0;34m)\u001b[0m\u001b[0;34m\u001b[0m\u001b[0;34m\u001b[0m\u001b[0m\n\u001b[0m",
      "\u001b[0;31mKeyboardInterrupt\u001b[0m: "
     ]
    }
   ],
   "source": [
    "attach_export_md(usda_pubs = remaining_pubs,start_pos = start_pos,chunk_size=chunk_size)"
   ]
  },
  {
   "cell_type": "code",
   "execution_count": 31,
   "metadata": {},
   "outputs": [],
   "source": [
    "usda_pubs_path = 'usda_pubs_list.json'\n",
    "with open(usda_pubs_path) as json_file:\n",
    "    usda_full_pub_list = json.load(json_file)\n"
   ]
  },
  {
   "cell_type": "code",
   "execution_count": 32,
   "metadata": {},
   "outputs": [
    {
     "data": {
      "text/plain": [
       "1502"
      ]
     },
     "execution_count": 32,
     "metadata": {},
     "output_type": "execute_result"
    }
   ],
   "source": [
    "len(usda_full_pub_list)"
   ]
  },
  {
   "cell_type": "code",
   "execution_count": 35,
   "metadata": {},
   "outputs": [],
   "source": [
    "remaining_pubs = [p for p in usda_full_pub_list if p not in existing_titles]"
   ]
  },
  {
   "cell_type": "code",
   "execution_count": 36,
   "metadata": {},
   "outputs": [
    {
     "data": {
      "text/plain": [
       "1502"
      ]
     },
     "execution_count": 36,
     "metadata": {},
     "output_type": "execute_result"
    }
   ],
   "source": [
    "len(remaining_pubs)"
   ]
  },
  {
   "cell_type": "code",
   "execution_count": null,
   "metadata": {},
   "outputs": [],
   "source": []
  }
 ],
 "metadata": {
  "kernelspec": {
   "display_name": "Python 3",
   "language": "python",
   "name": "python3"
  },
  "language_info": {
   "codemirror_mode": {
    "name": "ipython",
    "version": 3
   },
   "file_extension": ".py",
   "mimetype": "text/x-python",
   "name": "python",
   "nbconvert_exporter": "python",
   "pygments_lexer": "ipython3",
   "version": "3.7.3"
  }
 },
 "nbformat": 4,
 "nbformat_minor": 2
}
