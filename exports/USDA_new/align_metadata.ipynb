{
 "cells": [
  {
   "cell_type": "code",
   "execution_count": 102,
   "metadata": {},
   "outputs": [],
   "source": [
    "import json"
   ]
  },
  {
   "cell_type": "code",
   "execution_count": 103,
   "metadata": {},
   "outputs": [],
   "source": [
    "def flatten(l):\n",
    "    flat_list = [item for sublist in l for item in sublist]\n",
    "    return flat_list"
   ]
  },
  {
   "cell_type": "code",
   "execution_count": 104,
   "metadata": {},
   "outputs": [
    {
     "data": {
      "text/plain": [
       "['metadata_partitions/usda_pub_metadata_600.json',\n",
       " 'metadata_partitions/usda_pub_metadata_400.json',\n",
       " 'metadata_partitions/usda_pub_metadata_200.json',\n",
       " 'metadata_partitions/usda_pub_metadata_500.json',\n",
       " 'metadata_partitions/usda_pub_metadata_100.json',\n",
       " 'metadata_partitions/usda_pub_metadata_0.json',\n",
       " 'metadata_partitions/usda_pub_metadata_300.json']"
      ]
     },
     "execution_count": 104,
     "metadata": {},
     "output_type": "execute_result"
    }
   ],
   "source": [
    "import os\n",
    "existing_paths = [os.path.join('metadata_partitions/',f) for f in os.listdir('metadata_partitions/') if f.endswith('.json')]\n",
    "existing_paths"
   ]
  },
  {
   "cell_type": "code",
   "execution_count": 105,
   "metadata": {},
   "outputs": [],
   "source": [
    "def read_pubs():\n",
    "    usda_md_all = []\n",
    "    usda_pubs_path = 'usda_pubs_list.json'\n",
    "    for p in existing_paths:\n",
    "        with open(p) as json_file:\n",
    "            usda_pubs = json.load(json_file)\n",
    "            usda_md_all.append(usda_pubs)\n",
    "    usda_md = flatten(usda_md_all)\n",
    "    return usda_md"
   ]
  },
  {
   "cell_type": "code",
   "execution_count": 106,
   "metadata": {},
   "outputs": [],
   "source": [
    "# def align_md(test):\n",
    "#     test_new = {k:test[k] for k in ['original','title','datasets']}\n",
    "# #     test['manual'] = {k:test[k] for k in ['']}\n",
    "# #     test['manual'] = test['original']\n",
    "# #     test['manual'].update({'title':test['title'],'datasets':test['datasets']})\n",
    "#     try:\n",
    "#         dim_md = test['dimensions']\n",
    "#         field_list = ['pdf', 'doi', 'keywords', 'journal_title']\n",
    "#         dim_md['pdf'] = dim_md['linkout']\n",
    "#         dim_md_sub = {k:dim_md[k] for k in field_list}\n",
    "#         author_list_full = test['dimensions']['authors']\n",
    "#         auth_list = []\n",
    "#         for a in author_list_full:\n",
    "#             auth_entry = a['last_name'] + \", \" + a['first_name'] + \". \" + a['affiliations'][0]['name']\n",
    "#     #         auth_entry                                                                                      \n",
    "#             auth_list.append(auth_entry)\n",
    "#         test_new.update(dim_md_sub)\n",
    "#         test_new.update({'authors':auth_list})\n",
    "#     except:\n",
    "#         pass\n",
    "#     try:\n",
    "#         epmc_md = test['europepmc']\n",
    "#         test_new.update(epmc_md)\n",
    "#     except:\n",
    "#         pass\n",
    "#     test_return = test_new\n",
    "#     try:\n",
    "#         test_return.update({'url':test['manual']['url']})\n",
    "#     except:\n",
    "#         pass\n",
    "# #     try:\n",
    "# #         test_return.update({'journal':test['manual']['journal']})\n",
    "# #     except:\n",
    "# #         pass\n",
    "# #     if 'journal_title' in test_return['original'].keys():\n",
    "# #             test_return.update({'journal':test['manual']['journal_title']})\n",
    "# #     elif 'journal_title' not in test['manual'].keys() and 'journal' in test['manual'].keys():\n",
    "# #         test_return.update({'journal':test['manual']['journal']})\n",
    "# #     else:\n",
    "# #         pass\n",
    "# #     try:\n",
    "# #         test_return.update({'keywords':test['manual']['keywords']})\n",
    "# #     except:\n",
    "# #         pass\n",
    "# #     try:\n",
    "# #         test_return.update({'doi':test['manual']['doi']})\n",
    "# #     except:\n",
    "# #         pass\n",
    "# #     try:\n",
    "# #         test_return.update({'pdf':test['manual']['pdf']})\n",
    "# #     except:\n",
    "# #         pass\n",
    "# #     test_return = test['manual']\n",
    "# #     test_return_final = {k:test_return[k] for k in final_keys_list}\n",
    "#     return test_return"
   ]
  },
  {
   "cell_type": "code",
   "execution_count": 107,
   "metadata": {},
   "outputs": [],
   "source": [
    "# usda_md = read_pubs()\n",
    "# entry = usda_md[0]\n",
    "def align_md(entry):\n",
    "    new = {'title':entry['title'],'datasets':entry['datasets']}\n",
    "    try:\n",
    "        dim_md = entry['dimensions']\n",
    "        field_list = ['pdf', 'doi', 'new_keywords', 'journal_title']\n",
    "        dim_md['new_keywords'] = ','.join(dim_md['keywords'])\n",
    "    #     print(dim_md['new_keywords'])\n",
    "        dim_md['pdf'] = dim_md['linkout']\n",
    "        dim_md_sub = {k:dim_md[k] for k in field_list}\n",
    "        author_list_full = entry['dimensions']['authors']\n",
    "        auth_list = []\n",
    "        for a in author_list_full:\n",
    "            auth_entry = a['last_name'] + \", \" + a['first_name'] + \"; \" + a['affiliations'][0]['name']\n",
    "            auth_list.append(auth_entry)\n",
    "        new.update(dim_md_sub)\n",
    "        new.update({'authors':auth_list})\n",
    "    except:\n",
    "        pass\n",
    "    try:\n",
    "        epmc_md = entry['europepmc']\n",
    "        new.update(epmc_md)\n",
    "    except:\n",
    "        pass\n",
    "    return new\n",
    "# try:\n",
    "#     entry['original']['url']"
   ]
  },
  {
   "cell_type": "code",
   "execution_count": 108,
   "metadata": {},
   "outputs": [
    {
     "data": {
      "text/plain": [
       "{'title': 'Measuring Food Expenditure Poverty in SNAP Populations: Some Extensions with an Application to the American Recovery and Reinvestment Act',\n",
       " 'datasets': ['dataset-033'],\n",
       " 'pdf': 'https://academic.oup.com/aepp/article-pdf/41/1/133/27762442/ppy004.pdf',\n",
       " 'doi': '10.1093/aepp/ppy004',\n",
       " 'new_keywords': 'act,population',\n",
       " 'journal_title': 'Applied Economic Perspectives and Policy',\n",
       " 'authors': ['Yang, Yanliang. Department of Agricultural and Applied Economics, Virginia Tech',\n",
       "  'Davis, George C. Department of Agricultural and Applied Economics, Virginia Tech',\n",
       "  'You, Wen. Department of Agricultural and Applied Economics, Virginia Tech']}"
      ]
     },
     "execution_count": 108,
     "metadata": {},
     "output_type": "execute_result"
    }
   ],
   "source": [
    "new"
   ]
  },
  {
   "cell_type": "code",
   "execution_count": 109,
   "metadata": {},
   "outputs": [],
   "source": [
    "# entry"
   ]
  },
  {
   "cell_type": "code",
   "execution_count": 110,
   "metadata": {},
   "outputs": [],
   "source": [
    "aligned_list = []\n",
    "for u in usda_md:\n",
    "    align_return = align_md(u)\n",
    "    aligned_list.append(align_return)"
   ]
  },
  {
   "cell_type": "code",
   "execution_count": 111,
   "metadata": {},
   "outputs": [],
   "source": [
    "# aligned_list"
   ]
  },
  {
   "cell_type": "code",
   "execution_count": 112,
   "metadata": {},
   "outputs": [],
   "source": [
    "partition_path = \"metadata_final/20191021_pub_md.json\"\n",
    "with open(partition_path, 'w') as outfile:\n",
    "    json.dump(aligned_list, outfile, indent=2)\n"
   ]
  },
  {
   "cell_type": "code",
   "execution_count": null,
   "metadata": {},
   "outputs": [],
   "source": []
  }
 ],
 "metadata": {
  "kernelspec": {
   "display_name": "Python 3",
   "language": "python",
   "name": "python3"
  },
  "language_info": {
   "codemirror_mode": {
    "name": "ipython",
    "version": 3
   },
   "file_extension": ".py",
   "mimetype": "text/x-python",
   "name": "python",
   "nbconvert_exporter": "python",
   "pygments_lexer": "ipython3",
   "version": "3.7.3"
  }
 },
 "nbformat": 4,
 "nbformat_minor": 2
}
