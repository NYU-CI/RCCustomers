{
 "cells": [
  {
   "cell_type": "code",
   "execution_count": 1,
   "metadata": {},
   "outputs": [],
   "source": [
    "import json"
   ]
  },
  {
   "cell_type": "code",
   "execution_count": 31,
   "metadata": {},
   "outputs": [],
   "source": [
    "usda_ds_0_100_path = '/Users/sophierand/RCCustomers/exports/USDA/ds_application/metadata_partitions/20191017_usda_pubs_md.json'\n",
    "# usda_ds_0_100 = \n",
    "with open(usda_ds_0_100_path) as json_file:\n",
    "    usda_ds_0_100 = json.load(json_file)"
   ]
  },
  {
   "cell_type": "code",
   "execution_count": 32,
   "metadata": {},
   "outputs": [],
   "source": [
    "a = usda_ds_0_100[0]"
   ]
  },
  {
   "cell_type": "code",
   "execution_count": 35,
   "metadata": {},
   "outputs": [],
   "source": [
    "import reconcile_md\n",
    "import importlib\n",
    "importlib.reload(reconcile_md)\n",
    "doi_list = reconcile_md.rec_doi(a)"
   ]
  },
  {
   "cell_type": "code",
   "execution_count": 55,
   "metadata": {},
   "outputs": [],
   "source": [
    "# a['original']"
   ]
  },
  {
   "cell_type": "code",
   "execution_count": 72,
   "metadata": {},
   "outputs": [],
   "source": [
    "def combine_metadata_subdicts(entry):\n",
    "    try:\n",
    "        orig_dict = entry['original']\n",
    "    except:\n",
    "        pass\n",
    "    try:\n",
    "        dimensions_dict = entry['dimensions']\n",
    "        orig_dict.update(dimensions_dict)\n",
    "    except:\n",
    "        pass\n",
    "    try:\n",
    "        openaire_dict = entry['openaire']\n",
    "        orig_dict.update(openaire_dict)\n",
    "    except:\n",
    "        pass\n",
    "    try:\n",
    "        epmc_dict = entry['europepmc']\n",
    "        orig_dict.update(epmc_dict)\n",
    "    except:\n",
    "        pass\n",
    "    return orig_dict"
   ]
  },
  {
   "cell_type": "code",
   "execution_count": 76,
   "metadata": {},
   "outputs": [],
   "source": [
    "combined_entry = combine_metadata_subdicts(a)"
   ]
  },
  {
   "cell_type": "code",
   "execution_count": 77,
   "metadata": {},
   "outputs": [
    {
     "data": {
      "text/plain": [
       "dict_keys(['doi', 'dataset_name', 'journal', 'url', 'date_added', 'linkout', 'authors', 'keywords', 'journal_title', 'title'])"
      ]
     },
     "execution_count": 77,
     "metadata": {},
     "output_type": "execute_result"
    }
   ],
   "source": [
    "combined_entry.keys()"
   ]
  },
  {
   "cell_type": "code",
   "execution_count": 78,
   "metadata": {},
   "outputs": [],
   "source": [
    "def chunker(seq, size):\n",
    "    return (seq[pos:pos + size] for pos in range(0, len(seq), size))"
   ]
  },
  {
   "cell_type": "code",
   "execution_count": null,
   "metadata": {},
   "outputs": [],
   "source": [
    "chunker()"
   ]
  },
  {
   "cell_type": "code",
   "execution_count": 69,
   "metadata": {},
   "outputs": [],
   "source": [
    "dim_test['journal']\n",
    "dim_test['journal_title']\n",
    "journal_list = []\n",
    "# keyword_list = []\n",
    "pdf_list = []\n",
    "for k,v in dim_test.items():\n",
    "    if 'journal' in k:\n",
    "        journal_list.append(v)\n",
    "    if k == \"linkout\":\n",
    "        dim_pdf = v\n",
    "        pdf_list.append(dim_pdf)\n",
    "    if k == 'pdf':\n",
    "        pdf_list.append(v)\n",
    "    if k == 'authors':\n",
    "        author_list = v\n",
    "    if k == 'keywords':\n",
    "        keyword_list = v\n",
    "        \n",
    "        \n",
    "#         keywords\n",
    "# #         print(dim_test[k])"
   ]
  },
  {
   "cell_type": "code",
   "execution_count": 70,
   "metadata": {},
   "outputs": [
    {
     "data": {
      "text/plain": [
       "['Urban Studies', 'Urban Studies']"
      ]
     },
     "execution_count": 70,
     "metadata": {},
     "output_type": "execute_result"
    }
   ],
   "source": [
    "journal_list"
   ]
  },
  {
   "cell_type": "code",
   "execution_count": 54,
   "metadata": {},
   "outputs": [
    {
     "data": {
      "text/plain": [
       "{'title': 'Supply-side subsidies to improve food access and dietary outcomes: Evidence from the New Markets Tax Credit',\n",
       " 'datasets': ['dataset-002'],\n",
       " 'original': {'doi': '10.1177/0042098017740285',\n",
       "  'dataset_name': 'IRI Consumer Network',\n",
       "  'journal': 'Urban Studies',\n",
       "  'url': 'https://www.doi.org/10.1177/0042098017740285',\n",
       "  'date_added': '2019-10-14 16:34:18'},\n",
       " 'dimensions': {'linkout': 'https://www.economics.uci.edu/research/wp/1718/17-18-04.pdf',\n",
       "  'authors': [{'first_name': 'Matthew',\n",
       "    'last_name': 'Freedman',\n",
       "    'corresponding': '',\n",
       "    'orcid': '',\n",
       "    'current_organization_id': '',\n",
       "    'researcher_id': '',\n",
       "    'affiliations': [{'id': 'grid.266093.8',\n",
       "      'name': 'University of California, Irvine',\n",
       "      'city': 'Irvine',\n",
       "      'city_id': 5359777,\n",
       "      'country': 'United States',\n",
       "      'country_code': 'US',\n",
       "      'state': 'California',\n",
       "      'state_code': 'US-CA'}]},\n",
       "   {'first_name': 'Annemarie',\n",
       "    'last_name': 'Kuhns',\n",
       "    'corresponding': '',\n",
       "    'orcid': '',\n",
       "    'current_organization_id': 'grid.482913.5',\n",
       "    'researcher_id': 'ur.010072134242.80',\n",
       "    'affiliations': [{'id': 'grid.482913.5',\n",
       "      'name': 'Economic Research Service',\n",
       "      'city': 'Washington D.C.',\n",
       "      'city_id': 4140963,\n",
       "      'country': 'United States',\n",
       "      'country_code': 'US',\n",
       "      'state': 'District of Columbia',\n",
       "      'state_code': 'US-DC'}]}],\n",
       "  'doi': '10.1177/0042098017740285',\n",
       "  'keywords': ['eligibility',\n",
       "   'efforts',\n",
       "   'investment',\n",
       "   'area',\n",
       "   'supermarkets',\n",
       "   'entry',\n",
       "   'shopping',\n",
       "   'tax credits',\n",
       "   'supply-side subsidies',\n",
       "   'retailers',\n",
       "   'positive impact',\n",
       "   'income areas',\n",
       "   'food access',\n",
       "   'outcomes',\n",
       "   'subsidies',\n",
       "   'health outcomes',\n",
       "   'neighborhood',\n",
       "   'food shopping',\n",
       "   'funding',\n",
       "   'household-level scanner data',\n",
       "   'article',\n",
       "   'establishment',\n",
       "   'income communities',\n",
       "   'retail food establishments',\n",
       "   'census tracts',\n",
       "   'impact',\n",
       "   'advantages',\n",
       "   'run',\n",
       "   'low-income communities',\n",
       "   'New Markets Tax Credits',\n",
       "   'food retailers',\n",
       "   'program',\n",
       "   'policymakers',\n",
       "   'data',\n",
       "   'access',\n",
       "   'credit',\n",
       "   'low-income areas',\n",
       "   'scanner data',\n",
       "   'short run',\n",
       "   'dietary outcomes',\n",
       "   'evidence',\n",
       "   'effects',\n",
       "   'purchasing patterns',\n",
       "   'community',\n",
       "   'households'],\n",
       "  'journal_title': 'Urban Studies',\n",
       "  'title': 'Supply-side subsidies to improve food access and dietary outcomes: Evidence from the New Markets Tax Credit',\n",
       "  'dataset_name': 'IRI Consumer Network',\n",
       "  'journal': 'Urban Studies',\n",
       "  'url': 'https://www.doi.org/10.1177/0042098017740285',\n",
       "  'date_added': '2019-10-14 16:34:18'}}"
      ]
     },
     "execution_count": 54,
     "metadata": {},
     "output_type": "execute_result"
    }
   ],
   "source": [
    "a"
   ]
  },
  {
   "cell_type": "code",
   "execution_count": 58,
   "metadata": {},
   "outputs": [
    {
     "data": {
      "text/plain": [
       "{'doi': '10.1016/j.ypmed.2016.08.018',\n",
       " 'journal': 'Prev Med',\n",
       " 'url': 'http://europepmc.org/abstract/MED/27527573',\n",
       " 'title': 'the healthfulness of food and beverage purchases after the federal food package revisions: the case of two new england states'}"
      ]
     },
     "execution_count": 58,
     "metadata": {},
     "output_type": "execute_result"
    }
   ],
   "source": [
    "usda_ds_0_100[1]['europepmc']"
   ]
  },
  {
   "cell_type": "code",
   "execution_count": 65,
   "metadata": {},
   "outputs": [
    {
     "data": {
      "text/plain": [
       "{'journal': None,\n",
       " 'title': 'Food Environments and Obesity: Household Diet Expenditure Versus Food Deserts.',\n",
       " 'doi': '10.2105/AJPH.2016.303048',\n",
       " 'url': 'https://europepmc.org/articles/PMC4985118/'}"
      ]
     },
     "execution_count": 65,
     "metadata": {},
     "output_type": "execute_result"
    }
   ],
   "source": [
    "usda_ds_0_100[37]['openaire']"
   ]
  },
  {
   "cell_type": "code",
   "execution_count": 68,
   "metadata": {},
   "outputs": [
    {
     "name": "stdout",
     "output_type": "stream",
     "text": [
      "dict_keys(['linkout', 'authors', 'doi', 'keywords', 'journal_title', 'title', 'dataset_name', 'journal', 'url', 'date_added'])\n",
      "dict_keys(['authors', 'doi', 'keywords', 'journal_title', 'title'])\n",
      "dict_keys(['authors', 'doi', 'keywords', 'journal_title', 'title'])\n",
      "dict_keys(['authors', 'doi', 'keywords', 'journal_title', 'title'])\n",
      "dict_keys(['linkout', 'authors', 'doi', 'keywords', 'journal_title', 'title'])\n",
      "dict_keys(['linkout', 'authors', 'doi', 'keywords', 'journal_title', 'title'])\n",
      "dict_keys(['linkout', 'authors', 'doi', 'keywords', 'journal_title', 'title'])\n",
      "dict_keys(['linkout', 'authors', 'doi', 'keywords', 'journal_title', 'title'])\n",
      "dict_keys(['linkout', 'authors', 'doi', 'keywords', 'journal_title', 'title'])\n",
      "dict_keys(['linkout', 'authors', 'doi', 'keywords', 'journal_title', 'title'])\n",
      "dict_keys(['authors', 'doi', 'keywords', 'journal_title', 'title'])\n",
      "dict_keys(['authors', 'doi', 'keywords', 'journal_title', 'title'])\n",
      "dict_keys(['linkout', 'authors', 'doi', 'keywords', 'journal_title', 'title'])\n",
      "dict_keys(['linkout', 'authors', 'doi', 'keywords', 'journal_title', 'title'])\n",
      "dict_keys(['authors', 'doi', 'keywords', 'journal_title', 'title'])\n",
      "dict_keys(['authors', 'doi', 'keywords', 'journal_title', 'title'])\n",
      "dict_keys(['authors', 'doi', 'keywords', 'journal_title', 'title'])\n",
      "dict_keys(['linkout', 'authors', 'doi', 'keywords', 'journal_title', 'title'])\n",
      "dict_keys(['linkout', 'authors', 'doi', 'keywords', 'journal_title', 'title'])\n",
      "dict_keys(['authors', 'doi', 'keywords', 'journal_title', 'title'])\n",
      "dict_keys(['linkout', 'authors', 'doi', 'keywords', 'journal_title', 'title'])\n",
      "dict_keys(['authors', 'doi', 'keywords', 'journal_title', 'title'])\n",
      "dict_keys(['authors', 'doi', 'keywords', 'journal_title', 'title'])\n",
      "dict_keys(['authors', 'doi', 'keywords', 'journal_title', 'title'])\n",
      "dict_keys(['authors', 'doi', 'keywords', 'journal_title', 'title'])\n",
      "dict_keys(['linkout', 'authors', 'doi', 'keywords', 'journal_title', 'title'])\n",
      "dict_keys(['linkout', 'authors', 'doi', 'keywords', 'journal_title', 'title'])\n",
      "dict_keys(['linkout', 'authors', 'doi', 'keywords', 'journal_title', 'title'])\n",
      "dict_keys(['linkout', 'authors', 'doi', 'keywords', 'journal_title', 'title'])\n",
      "dict_keys(['authors', 'doi', 'keywords', 'journal_title', 'title'])\n",
      "dict_keys(['authors', 'doi', 'keywords', 'journal_title', 'title'])\n",
      "dict_keys(['authors', 'doi', 'keywords', 'journal_title', 'title'])\n",
      "dict_keys(['authors', 'doi', 'keywords', 'journal_title', 'title'])\n",
      "dict_keys(['linkout', 'authors', 'doi', 'keywords', 'journal_title', 'title'])\n",
      "dict_keys(['authors', 'doi', 'keywords', 'journal_title', 'title'])\n",
      "dict_keys(['authors', 'doi', 'keywords', 'journal_title', 'title'])\n",
      "dict_keys(['linkout', 'authors', 'doi', 'keywords', 'journal_title', 'title'])\n",
      "dict_keys(['linkout', 'authors', 'doi', 'keywords', 'journal_title', 'title'])\n",
      "dict_keys(['linkout', 'authors', 'doi', 'keywords', 'journal_title', 'title'])\n",
      "dict_keys(['authors', 'doi', 'keywords', 'journal_title', 'title'])\n",
      "dict_keys(['authors', 'doi', 'keywords', 'journal_title', 'title'])\n"
     ]
    }
   ],
   "source": [
    "# for i,d in enumerate(usda_ds_0_100):\n",
    "#     the_keys = d.keys()\n",
    "#     if 'dimensions' in the_keys:\n",
    "#         dim_values = d['dimensions']\n",
    "#         print(dim_values.keys())\n",
    "# #         print(i)\n"
   ]
  },
  {
   "cell_type": "code",
   "execution_count": null,
   "metadata": {},
   "outputs": [],
   "source": []
  }
 ],
 "metadata": {
  "kernelspec": {
   "display_name": "Python 3",
   "language": "python",
   "name": "python3"
  },
  "language_info": {
   "codemirror_mode": {
    "name": "ipython",
    "version": 3
   },
   "file_extension": ".py",
   "mimetype": "text/x-python",
   "name": "python",
   "nbconvert_exporter": "python",
   "pygments_lexer": "ipython3",
   "version": "3.7.3"
  }
 },
 "nbformat": 4,
 "nbformat_minor": 2
}
