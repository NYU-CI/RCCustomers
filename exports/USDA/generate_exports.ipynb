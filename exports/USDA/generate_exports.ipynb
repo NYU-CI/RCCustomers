{
 "cells": [
  {
   "cell_type": "code",
   "execution_count": 13,
   "metadata": {},
   "outputs": [],
   "source": [
    "import json"
   ]
  },
  {
   "cell_type": "code",
   "execution_count": 43,
   "metadata": {},
   "outputs": [],
   "source": [
    "def flatten(l):\n",
    "    fl = [item for sublist in l for item in sublist]\n",
    "    return fl\n",
    "\n",
    "def read_datasets():\n",
    "    datasets_path = \"/Users/sophierand/RCDatasets/datasets.json\"\n",
    "    with open(datasets_path) as json_file:\n",
    "        datasets = json.load(json_file)\n",
    "    return datasets\n",
    "\n",
    "\n",
    "def read_stewards():\n",
    "    stewards_path = \"/Users/sophierand/RCStewards/stewards.json\"\n",
    "    with open(stewards_path) as json_file:\n",
    "        stewards = json.load(json_file)\n",
    "    return stewards"
   ]
  },
  {
   "cell_type": "code",
   "execution_count": 44,
   "metadata": {},
   "outputs": [],
   "source": [
    "datasets = read_datasets()\n",
    "stewards = read_stewards()"
   ]
  },
  {
   "cell_type": "markdown",
   "metadata": {},
   "source": [
    "Read additional metadata from old ADRF"
   ]
  },
  {
   "cell_type": "code",
   "execution_count": 143,
   "metadata": {},
   "outputs": [],
   "source": [
    "    ds_md_path = \"/Users/sophierand/RCCustomers/exports/USDA/usda_datadump.json\"\n",
    "    with open(ds_md_path) as json_file:\n",
    "        addl_ds_md = json.load(json_file)\n",
    "\n"
   ]
  },
  {
   "cell_type": "markdown",
   "metadata": {},
   "source": [
    "Read in USDA datasets and add `steward` and `in_adrf` fields"
   ]
  },
  {
   "cell_type": "code",
   "execution_count": 101,
   "metadata": {},
   "outputs": [],
   "source": [
    "usda_datasets_path = 'usda_datasets_list.json'\n",
    "with open(usda_datasets_path) as json_file:\n",
    "    usda_datasets = json.load(json_file)"
   ]
  },
  {
   "cell_type": "code",
   "execution_count": 102,
   "metadata": {},
   "outputs": [],
   "source": [
    "# usda_datasets = ['dataset-001',\"dataset-364\",\"dataset-365\",\"dataset-370\"]"
   ]
  },
  {
   "cell_type": "code",
   "execution_count": 125,
   "metadata": {},
   "outputs": [],
   "source": [
    "# addl_ds_md"
   ]
  },
  {
   "cell_type": "code",
   "execution_count": 153,
   "metadata": {},
   "outputs": [
    {
     "ename": "KeyError",
     "evalue": "'temporal_coverage_start'",
     "output_type": "error",
     "traceback": [
      "\u001b[0;31m---------------------------------------------------------------------------\u001b[0m",
      "\u001b[0;31mKeyError\u001b[0m                                  Traceback (most recent call last)",
      "\u001b[0;32m<ipython-input-153-4ef5d6a5c56f>\u001b[0m in \u001b[0;36m<module>\u001b[0;34m\u001b[0m\n\u001b[1;32m     20\u001b[0m     \u001b[0;32mif\u001b[0m \u001b[0mlen\u001b[0m\u001b[0;34m(\u001b[0m\u001b[0maddl_md\u001b[0m\u001b[0;34m)\u001b[0m \u001b[0;34m>\u001b[0m \u001b[0;36m0\u001b[0m\u001b[0;34m:\u001b[0m\u001b[0;34m\u001b[0m\u001b[0;34m\u001b[0m\u001b[0m\n\u001b[1;32m     21\u001b[0m         \u001b[0maddl_md\u001b[0m \u001b[0;34m=\u001b[0m \u001b[0maddl_md\u001b[0m\u001b[0;34m[\u001b[0m\u001b[0;36m0\u001b[0m\u001b[0;34m]\u001b[0m\u001b[0;34m\u001b[0m\u001b[0;34m\u001b[0m\u001b[0m\n\u001b[0;32m---> 22\u001b[0;31m         \u001b[0maddl_md_keep\u001b[0m \u001b[0;34m=\u001b[0m \u001b[0;34m{\u001b[0m\u001b[0mk\u001b[0m\u001b[0;34m:\u001b[0m \u001b[0maddl_md\u001b[0m\u001b[0;34m[\u001b[0m\u001b[0mk\u001b[0m\u001b[0;34m]\u001b[0m \u001b[0;32mfor\u001b[0m \u001b[0mk\u001b[0m \u001b[0;32min\u001b[0m \u001b[0maddl_md_fields\u001b[0m \u001b[0;34m}\u001b[0m\u001b[0;34m\u001b[0m\u001b[0;34m\u001b[0m\u001b[0m\n\u001b[0m\u001b[1;32m     23\u001b[0m         \u001b[0mds_md\u001b[0m\u001b[0;34m.\u001b[0m\u001b[0mupdate\u001b[0m\u001b[0;34m(\u001b[0m\u001b[0maddl_md_keep\u001b[0m\u001b[0;34m)\u001b[0m\u001b[0;34m\u001b[0m\u001b[0;34m\u001b[0m\u001b[0m\n\u001b[1;32m     24\u001b[0m     \u001b[0mds_md_list\u001b[0m\u001b[0;34m.\u001b[0m\u001b[0mappend\u001b[0m\u001b[0;34m(\u001b[0m\u001b[0mds_md\u001b[0m\u001b[0;34m)\u001b[0m\u001b[0;34m\u001b[0m\u001b[0;34m\u001b[0m\u001b[0m\n",
      "\u001b[0;32m<ipython-input-153-4ef5d6a5c56f>\u001b[0m in \u001b[0;36m<dictcomp>\u001b[0;34m(.0)\u001b[0m\n\u001b[1;32m     20\u001b[0m     \u001b[0;32mif\u001b[0m \u001b[0mlen\u001b[0m\u001b[0;34m(\u001b[0m\u001b[0maddl_md\u001b[0m\u001b[0;34m)\u001b[0m \u001b[0;34m>\u001b[0m \u001b[0;36m0\u001b[0m\u001b[0;34m:\u001b[0m\u001b[0;34m\u001b[0m\u001b[0;34m\u001b[0m\u001b[0m\n\u001b[1;32m     21\u001b[0m         \u001b[0maddl_md\u001b[0m \u001b[0;34m=\u001b[0m \u001b[0maddl_md\u001b[0m\u001b[0;34m[\u001b[0m\u001b[0;36m0\u001b[0m\u001b[0;34m]\u001b[0m\u001b[0;34m\u001b[0m\u001b[0;34m\u001b[0m\u001b[0m\n\u001b[0;32m---> 22\u001b[0;31m         \u001b[0maddl_md_keep\u001b[0m \u001b[0;34m=\u001b[0m \u001b[0;34m{\u001b[0m\u001b[0mk\u001b[0m\u001b[0;34m:\u001b[0m \u001b[0maddl_md\u001b[0m\u001b[0;34m[\u001b[0m\u001b[0mk\u001b[0m\u001b[0;34m]\u001b[0m \u001b[0;32mfor\u001b[0m \u001b[0mk\u001b[0m \u001b[0;32min\u001b[0m \u001b[0maddl_md_fields\u001b[0m \u001b[0;34m}\u001b[0m\u001b[0;34m\u001b[0m\u001b[0;34m\u001b[0m\u001b[0m\n\u001b[0m\u001b[1;32m     23\u001b[0m         \u001b[0mds_md\u001b[0m\u001b[0;34m.\u001b[0m\u001b[0mupdate\u001b[0m\u001b[0;34m(\u001b[0m\u001b[0maddl_md_keep\u001b[0m\u001b[0;34m)\u001b[0m\u001b[0;34m\u001b[0m\u001b[0;34m\u001b[0m\u001b[0m\n\u001b[1;32m     24\u001b[0m     \u001b[0mds_md_list\u001b[0m\u001b[0;34m.\u001b[0m\u001b[0mappend\u001b[0m\u001b[0;34m(\u001b[0m\u001b[0mds_md\u001b[0m\u001b[0;34m)\u001b[0m\u001b[0;34m\u001b[0m\u001b[0;34m\u001b[0m\u001b[0m\n",
      "\u001b[0;31mKeyError\u001b[0m: 'temporal_coverage_start'"
     ]
    }
   ],
   "source": [
    "addl_md_fields = ['temporal_coverage_start', 'temporal_coverage_end'\n",
    "                  , 'files_total', 'data_classification', 'access_actions_required'\n",
    "                  , 'geographical_coverage', 'adrf_id', 'category', 'dataset_version'\n",
    "                  , 'data_usage_policy', 'data_steward_organization',  'files'\n",
    "                  , 'access_requirements', 'geographical_unit', 'related_articles'\n",
    "                  , 'data_provider', 'dataset_documentation', 'dataset_version_date'\n",
    "                  , 'source_archive', 'dataset_citation', 'reference_url', 'file_names'\n",
    "                  , 'created_at', 'updated_at', 'keywords', 'user_that_bookmarked']\n",
    "\n",
    "ds_md_list = []\n",
    "for d in usda_datasets:\n",
    "    ds_md = [a for a in datasets if d == a['id']][0]\n",
    "    ds_steward_list = [s['name'] for s in stewards if d in s['datasets']]\n",
    "    if len(ds_steward_list) > 0:\n",
    "        ds_steward = ds_steward_list[0]\n",
    "        ds_md.update({'steward':ds_steward,'in_adrf':1})\n",
    "    if len(ds_steward_list) == 0:\n",
    "        ds_md.update({'in_adrf':0})\n",
    "    addl_md = [p for p in addl_ds_md if d == p['dataset_id']]\n",
    "    if len(addl_md) > 0:\n",
    "        addl_md = addl_md[0]\n",
    "        addl_md_keep = {k: addl_md[k] for k in addl_md_fields }\n",
    "        ds_md.update(addl_md_keep)\n",
    "    ds_md_list.append(ds_md)"
   ]
  },
  {
   "cell_type": "code",
   "execution_count": null,
   "metadata": {},
   "outputs": [],
   "source": [
    "addl_md\n",
    "# {k: addl_md[k] for k in addl_md_fields }"
   ]
  },
  {
   "cell_type": "code",
   "execution_count": 146,
   "metadata": {},
   "outputs": [],
   "source": [
    "# [d for d in ds_md_list if d['id'] == 'dataset-001']"
   ]
  },
  {
   "cell_type": "code",
   "execution_count": 105,
   "metadata": {},
   "outputs": [],
   "source": [
    "# ds_md_list\n",
    "\n",
    "usda_datasets_export_path = 'usda_datasets_export.json'\n",
    "with open(usda_datasets_export_path, 'w') as outfile:\n",
    "    json.dump(ds_md_list, outfile, indent=2)"
   ]
  },
  {
   "cell_type": "code",
   "execution_count": 147,
   "metadata": {},
   "outputs": [],
   "source": [
    "# addl_ds_md"
   ]
  },
  {
   "cell_type": "code",
   "execution_count": 148,
   "metadata": {},
   "outputs": [
    {
     "data": {
      "text/plain": [
       "[{'model': 'ds.dataset',\n",
       "  'dataset_id': 'dataset-001',\n",
       "  'pk': 2001,\n",
       "  'fields': {'temporal_coverage_start': '2008',\n",
       "   'temporal_coverage_end': '2017',\n",
       "   'files_total': 0,\n",
       "   'data_classification': 'Restricted',\n",
       "   'access_actions_required': '',\n",
       "   'geographical_coverage': '[\"United States\"]',\n",
       "   'adrf_id': 'adrf_002001',\n",
       "   'category': 'Consumer Activity',\n",
       "   'dataset_version': 1,\n",
       "   'title': 'Information Resources, Inc. (IRI) InfoScan retail-based scanner data',\n",
       "   'data_usage_policy': 'All data provided here are proprietary and subject to approved research project use. The user shall not attempt to re-identify individuals represented in the data and agree not to disclose any data contained here to any unauthorized parties. Any analyses and data products derived from the data must be reviewed by the USDA before export from this system.',\n",
       "   'data_steward_organization': '',\n",
       "   'data_steward': 1,\n",
       "   'files': [],\n",
       "   'access_requirements': '',\n",
       "   'description': 'Weekly UPC-level retail food sales data. These data are collected though in-store scanners and include all food items sold by a set of affiliated retailers. Includes accompanying data sets of product information and store information. ',\n",
       "   'source_url': '',\n",
       "   'geographical_unit': '[]',\n",
       "   'related_articles': None,\n",
       "   'data_provider': 2000,\n",
       "   'dataset_documentation': '[]',\n",
       "   'dataset_version_date': 1487948041,\n",
       "   'source_archive': 'Information Resources, Inc. (IRI)',\n",
       "   'dataset_citation': '',\n",
       "   'reference_url': '',\n",
       "   'file_names': '[]',\n",
       "   'in_adrf': True,\n",
       "   'created_at': '2019-06-13T14:41:26Z',\n",
       "   'updated_at': '2019-06-13T14:41:26Z',\n",
       "   'keywords': [],\n",
       "   'user_that_bookmarked': []}}]"
      ]
     },
     "execution_count": 148,
     "metadata": {},
     "output_type": "execute_result"
    }
   ],
   "source": [
    "[p for p in addl_ds_md if p['dataset_id'] == 'dataset-001']"
   ]
  },
  {
   "cell_type": "code",
   "execution_count": null,
   "metadata": {},
   "outputs": [],
   "source": []
  }
 ],
 "metadata": {
  "kernelspec": {
   "display_name": "Python 3",
   "language": "python",
   "name": "python3"
  },
  "language_info": {
   "codemirror_mode": {
    "name": "ipython",
    "version": 3
   },
   "file_extension": ".py",
   "mimetype": "text/x-python",
   "name": "python",
   "nbconvert_exporter": "python",
   "pygments_lexer": "ipython3",
   "version": "3.7.3"
  }
 },
 "nbformat": 4,
 "nbformat_minor": 2
}
