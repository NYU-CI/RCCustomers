{
 "cells": [
  {
   "cell_type": "code",
   "execution_count": 40,
   "metadata": {},
   "outputs": [],
   "source": [
    "import json"
   ]
  },
  {
   "cell_type": "code",
   "execution_count": 41,
   "metadata": {},
   "outputs": [],
   "source": [
    "pub_metadata_path = 'pub_md.json'"
   ]
  },
  {
   "cell_type": "code",
   "execution_count": 42,
   "metadata": {},
   "outputs": [],
   "source": [
    "with open(pub_metadata_path) as json_file:\n",
    "    pub_md = json.load(json_file)"
   ]
  },
  {
   "cell_type": "code",
   "execution_count": 43,
   "metadata": {},
   "outputs": [],
   "source": [
    "# pub_md"
   ]
  },
  {
   "cell_type": "code",
   "execution_count": 44,
   "metadata": {},
   "outputs": [],
   "source": [
    "def rec_doi(pub_md):\n",
    "    doi_list = []\n",
    "    epmc_doi = pub_md['europepmc']['doi'].lower()\n",
    "    doi_list.append(epmc_doi)\n",
    "\n",
    "    dimensions_doi = pub_md['dimensions']['doi'].lower()\n",
    "    doi_list.append(dimensions_doi)\n",
    "\n",
    "    openaire_doi = pub_md['openaire']['doi'].lower()\n",
    "    doi_list.append(openaire_doi)\n",
    "\n",
    "    doi_dict = {'doi':list(set(doi_list))}\n",
    "    return doi_dict"
   ]
  },
  {
   "cell_type": "code",
   "execution_count": 45,
   "metadata": {},
   "outputs": [],
   "source": [
    "def rec_journals(pub_md):\n",
    "    journal_list = []\n",
    "    epmc_journal = pub_md['europepmc']['journal'].lower()\n",
    "    journal_list.append(epmc_journal)\n",
    "\n",
    "    dimensions_journal = pub_md['dimensions']['journal_title'].lower()\n",
    "    journal_list.append(dimensions_journal)\n",
    "\n",
    "    openaire_journal = pub_md['openaire']['journal'].lower()\n",
    "    journal_list.append(openaire_journal)\n",
    "\n",
    "    journal_dict = {'journal':list(set(journal_list))}\n",
    "    return journal_dict\n",
    "\n",
    "\n",
    "def rec_url(pub_md):\n",
    "    url_list = []\n",
    "    epmc_url = pub_md['europepmc']['url']\n",
    "    url_list.append(epmc_url)\n",
    "\n",
    "    openaire_url = pub_md['openaire']['url']\n",
    "    url_list.append(openaire_url)\n",
    "\n",
    "    url_dict = {'url':list(set(url_list))}\n",
    "    return url_dict\n",
    "\n",
    "\n",
    "def rec_pfs(pub_md):    \n",
    "    pdf_list = []\n",
    "    epmc_url = pub_md['europepmc']['pdf']\n",
    "    pdf_list.append(epmc_url)\n",
    "\n",
    "    openaire_url = pub_md['openaire']['pdf']\n",
    "    pdf_list.append(openaire_url)\n",
    "    \n",
    "    dimensions_url = pub_md['dimensions']['linkout']\n",
    "    pdf_list.append(dimensions_url)\n",
    "    \n",
    "    pdf_dict = {'pdf':list(set(pdf_list))}\n",
    "    return pdf_dict"
   ]
  },
  {
   "cell_type": "code",
   "execution_count": 31,
   "metadata": {},
   "outputs": [
    {
     "data": {
      "text/plain": [
       "'https://journals.plos.org/plosone/article/file?id=10.1371/journal.pone.0124351&type=printable'"
      ]
     },
     "execution_count": 31,
     "metadata": {},
     "output_type": "execute_result"
    }
   ],
   "source": [
    "# pub_md['dimensions']['linkout']use for pd"
   ]
  },
  {
   "cell_type": "code",
   "execution_count": 46,
   "metadata": {},
   "outputs": [
    {
     "data": {
      "text/plain": [
       "{'journal': 'PLoS ONE',\n",
       " 'title': 'relationships between diet, alcohol preference, and heart disease and type 2 diabetes among americans',\n",
       " 'doi': '10.1371/journal.pone.0124351',\n",
       " 'url': 'http://europepmc.org/articles/PMC4427330',\n",
       " 'pdf': 'http://europepmc.org/articles/PMC4427330?pdf=render'}"
      ]
     },
     "execution_count": 46,
     "metadata": {},
     "output_type": "execute_result"
    }
   ],
   "source": [
    " pub_md['openaire']"
   ]
  },
  {
   "cell_type": "code",
   "execution_count": 48,
   "metadata": {},
   "outputs": [],
   "source": []
  },
  {
   "cell_type": "code",
   "execution_count": 49,
   "metadata": {},
   "outputs": [
    {
     "data": {
      "text/plain": [
       "{'pdf': ['http://europepmc.org/articles/PMC4427330?pdf=render',\n",
       "  'https://journals.plos.org/plosone/article/file?id=10.1371/journal.pone.0124351&type=printable']}"
      ]
     },
     "execution_count": 49,
     "metadata": {},
     "output_type": "execute_result"
    }
   ],
   "source": [
    "pdf_dict"
   ]
  },
  {
   "cell_type": "code",
   "execution_count": 37,
   "metadata": {},
   "outputs": [
    {
     "data": {
      "text/plain": [
       "{'title': 'relationships between diet, alcohol preference, and heart disease and type 2 diabetes among americans',\n",
       " 'datasets': ['dataset-002'],\n",
       " 'doi': ['10.1371/journal.pone.0124351'],\n",
       " 'journal': ['plos one'],\n",
       " 'url': ['http://europepmc.org/articles/PMC4427330']}"
      ]
     },
     "execution_count": 37,
     "metadata": {},
     "output_type": "execute_result"
    }
   ],
   "source": [
    "pub_md_final = {k:pub_md[k] for k  in ['title','datasets']}\n",
    "pub_md_final.update(rec_doi(pub_md))\n",
    "pub_md_final.update(rec_journals(pub_md))\n",
    "pub_md_final.update(rec_url(pub_md))\n",
    "pub_md_final"
   ]
  },
  {
   "cell_type": "code",
   "execution_count": 8,
   "metadata": {},
   "outputs": [
    {
     "data": {
      "text/plain": [
       "{'journal': ['plos one']}"
      ]
     },
     "execution_count": 8,
     "metadata": {},
     "output_type": "execute_result"
    }
   ],
   "source": [
    "rec_journals(pub_md)"
   ]
  },
  {
   "cell_type": "code",
   "execution_count": null,
   "metadata": {},
   "outputs": [],
   "source": [
    "dict_you_want = { your_key: old_dict[your_key] for your_key in your_keys }"
   ]
  }
 ],
 "metadata": {
  "kernelspec": {
   "display_name": "Python 3",
   "language": "python",
   "name": "python3"
  },
  "language_info": {
   "codemirror_mode": {
    "name": "ipython",
    "version": 3
   },
   "file_extension": ".py",
   "mimetype": "text/x-python",
   "name": "python",
   "nbconvert_exporter": "python",
   "pygments_lexer": "ipython3",
   "version": "3.7.3"
  }
 },
 "nbformat": 4,
 "nbformat_minor": 2
}
