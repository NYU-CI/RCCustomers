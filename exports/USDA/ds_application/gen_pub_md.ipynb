{
 "cells": [
  {
   "cell_type": "code",
   "execution_count": 1,
   "metadata": {},
   "outputs": [],
   "source": [
    "import json"
   ]
  },
  {
   "cell_type": "code",
   "execution_count": 2,
   "metadata": {},
   "outputs": [],
   "source": [
    "usda_pubs_path = 'usda_pubs_list.json'\n",
    "with open(usda_pubs_path) as json_file:\n",
    "    usda_pubs = json.load(json_file)"
   ]
  },
  {
   "cell_type": "code",
   "execution_count": 3,
   "metadata": {},
   "outputs": [
    {
     "data": {
      "text/plain": [
       "<module 'RichContextAPI' from '/Users/sophierand/RCCustomers/exports/USDA/ds_application/RichContextAPI.py'>"
      ]
     },
     "execution_count": 3,
     "metadata": {},
     "output_type": "execute_result"
    }
   ],
   "source": [
    "import RichContextAPI\n",
    "import importlib\n",
    "importlib.reload(RichContextAPI)"
   ]
  },
  {
   "cell_type": "code",
   "execution_count": 20,
   "metadata": {},
   "outputs": [],
   "source": [
    "def grab_md(usda_pub_input):\n",
    "    publications_api_metadata = []\n",
    "    for p in usda_pub_input:\n",
    "        try:\n",
    "            title = p['title']\n",
    "\n",
    "            dimensions_md = RichContextAPI.get_dimensions_md(title)\n",
    "            if dimensions_md is not None:\n",
    "                p.update({'dimensions':dimensions_md})\n",
    "\n",
    "            epmc_md = RichContextAPI.get_epmc_md(title)\n",
    "            if epmc_md is not None:\n",
    "                p.update({'europepmc':epmc_md})\n",
    "\n",
    "            oa_md = RichContextAPI.oa_lookup_pub_uris(title)\n",
    "            if oa_md is not None:\n",
    "                p.update({'openaire':oa_md})\n",
    "\n",
    "            publications_api_metadata.append(p)    \n",
    "        except:\n",
    "            pass\n",
    "    return publications_api_metadata"
   ]
  },
  {
   "cell_type": "code",
   "execution_count": 14,
   "metadata": {},
   "outputs": [],
   "source": [
    "# publications_api_metadata = []\n",
    "# for p in usda_pubs[0:100]:\n",
    "#     try:\n",
    "#         title = p['title']\n",
    "        \n",
    "#         dimensions_md = RichContextAPI.get_dimensions_md(title)\n",
    "#         if dimensions_md is not None:\n",
    "#             p.update({'dimensions':dimensions_md})\n",
    "    \n",
    "#         epmc_md = RichContextAPI.get_epmc_md(title)\n",
    "#         if epmc_md is not None:\n",
    "#             p.update({'europepmc':epmc_md})\n",
    "            \n",
    "#         oa_md = RichContextAPI.oa_lookup_pub_uris(title)\n",
    "#         if oa_md is not None:\n",
    "#             p.update({'openaire':oa_md})\n",
    "\n",
    "#         publications_api_metadata.append(p)    \n",
    "#     except:\n",
    "#         pass"
   ]
  },
  {
   "cell_type": "code",
   "execution_count": 5,
   "metadata": {},
   "outputs": [
    {
     "data": {
      "text/plain": [
       "79"
      ]
     },
     "execution_count": 5,
     "metadata": {},
     "output_type": "execute_result"
    }
   ],
   "source": [
    "# len(publications_api_metadata)"
   ]
  },
  {
   "cell_type": "code",
   "execution_count": null,
   "metadata": {},
   "outputs": [],
   "source": []
  },
  {
   "cell_type": "code",
   "execution_count": 8,
   "metadata": {},
   "outputs": [],
   "source": [
    "usda_datasets_export_path = 'metadata_partitions/20191017_usda_pubs_md.json'\n",
    "with open(usda_datasets_export_path, 'w') as outfile:\n",
    "    json.dump(publications_api_metadata, outfile, indent=2)"
   ]
  },
  {
   "cell_type": "code",
   "execution_count": null,
   "metadata": {},
   "outputs": [],
   "source": []
  },
  {
   "cell_type": "code",
   "execution_count": 19,
   "metadata": {},
   "outputs": [],
   "source": [
    "# usda_ds_0_100"
   ]
  },
  {
   "cell_type": "code",
   "execution_count": 16,
   "metadata": {},
   "outputs": [],
   "source": [
    "usda_ds_0_100_path = 'metadata_partitions/20191017_usda_pubs_md.json'\n",
    "# usda_ds_0_100 = \n",
    "with open(usda_ds_0_100_path) as json_file:\n",
    "    usda_ds_0_100 = json.load(json_file)"
   ]
  },
  {
   "cell_type": "code",
   "execution_count": 17,
   "metadata": {},
   "outputs": [
    {
     "data": {
      "text/plain": [
       "1423"
      ]
     },
     "execution_count": 17,
     "metadata": {},
     "output_type": "execute_result"
    }
   ],
   "source": [
    "completed_title = list(set([p['title'] for p in usda_ds_0_100]))\n",
    "remaining_pubs = [p for p in usda_pubs if p['title'] not in completed_title] \n",
    "len(remaining_pubs)"
   ]
  },
  {
   "cell_type": "code",
   "execution_count": 22,
   "metadata": {},
   "outputs": [],
   "source": [
    "a = grab_md(remaining_pubs[0:100])"
   ]
  },
  {
   "cell_type": "code",
   "execution_count": 24,
   "metadata": {},
   "outputs": [
    {
     "data": {
      "text/plain": [
       "1456"
      ]
     },
     "execution_count": 24,
     "metadata": {},
     "output_type": "execute_result"
    }
   ],
   "source": [
    "a_title = list(set([p['title'] for p in a]))\n",
    "a_remaining = [p for p in usda_pubs if p['title'] not in a_title] \n",
    "len(a_remaining)"
   ]
  },
  {
   "cell_type": "code",
   "execution_count": 25,
   "metadata": {},
   "outputs": [],
   "source": [
    "b = grab_md(remaining_pubs[101:200])"
   ]
  },
  {
   "cell_type": "code",
   "execution_count": 26,
   "metadata": {},
   "outputs": [
    {
     "data": {
      "text/plain": [
       "1435"
      ]
     },
     "execution_count": 26,
     "metadata": {},
     "output_type": "execute_result"
    }
   ],
   "source": [
    "b_title = list(set([p['title'] for p in b]))\n",
    "b_remaining = [p for p in usda_pubs if p['title'] not in b_title] \n",
    "len(b_remaining)"
   ]
  },
  {
   "cell_type": "code",
   "execution_count": 27,
   "metadata": {},
   "outputs": [],
   "source": [
    "c = grab_md(remaining_pubs[201:300])"
   ]
  },
  {
   "cell_type": "code",
   "execution_count": 28,
   "metadata": {},
   "outputs": [
    {
     "data": {
      "text/plain": [
       "1433"
      ]
     },
     "execution_count": 28,
     "metadata": {},
     "output_type": "execute_result"
    }
   ],
   "source": [
    "c_title = list(set([p['title'] for p in c]))\n",
    "c_remaining = [p for p in usda_pubs if p['title'] not in c_title] \n",
    "len(c_remaining)"
   ]
  },
  {
   "cell_type": "code",
   "execution_count": 31,
   "metadata": {},
   "outputs": [],
   "source": [
    "d = grab_md(remaining_pubs[301:400])"
   ]
  },
  {
   "cell_type": "code",
   "execution_count": 32,
   "metadata": {},
   "outputs": [
    {
     "data": {
      "text/plain": [
       "1408"
      ]
     },
     "execution_count": 32,
     "metadata": {},
     "output_type": "execute_result"
    }
   ],
   "source": [
    "d_title = list(set([p['title'] for p in d]))\n",
    "d_remaining = [p for p in usda_pubs if p['title'] not in d_title] \n",
    "len(d_remaining)"
   ]
  },
  {
   "cell_type": "code",
   "execution_count": 34,
   "metadata": {},
   "outputs": [],
   "source": [
    "e = grab_md(remaining_pubs[401:500])"
   ]
  },
  {
   "cell_type": "code",
   "execution_count": null,
   "metadata": {},
   "outputs": [],
   "source": []
  }
 ],
 "metadata": {
  "kernelspec": {
   "display_name": "Python 3",
   "language": "python",
   "name": "python3"
  },
  "language_info": {
   "codemirror_mode": {
    "name": "ipython",
    "version": 3
   },
   "file_extension": ".py",
   "mimetype": "text/x-python",
   "name": "python",
   "nbconvert_exporter": "python",
   "pygments_lexer": "ipython3",
   "version": "3.7.3"
  }
 },
 "nbformat": 4,
 "nbformat_minor": 2
}
