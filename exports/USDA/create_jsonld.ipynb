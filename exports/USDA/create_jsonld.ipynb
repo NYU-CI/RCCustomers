{
 "cells": [
  {
   "cell_type": "code",
   "execution_count": 1,
   "metadata": {},
   "outputs": [],
   "source": [
    "TTL_HEADER = \"\"\"                                                                                                             \n",
    "@base <https://github.com/Coleridge-Initiative/adrf-onto/wiki/Vocabulary> .                                                  \n",
    "@prefix cito:   <http://purl.org/spar/cito/> .                                                                               \n",
    "@prefix dct:    <http://purl.org/dc/terms/> .                                                                                \n",
    "@prefix foaf:   <http://xmlns.com/foaf/0.1/> .                                                                               \n",
    "@prefix rdf:    <http://www.w3.org/1999/02/22-rdf-syntax-ns#> .                                                              \n",
    "@prefix xsd:    <http://www.w3.org/2001/XMLSchema#> .                                                                        \n",
    "\"\"\"\n",
    "\n",
    "PUB_TEMPLATE = \"\"\"                                                                                                           \n",
    ":{}                                                                                                                          \n",
    "  rdf:type :ResearchPublication ;                                                                                            \n",
    "  dct:title \"{}\"@en ;                                                                                                        \n",
    "  dct:identifier \"{}\" ;                                                                                                      \n",
    "  dct:language \"en\" ;                                                                                                        \n",
    "  foaf:page \"{}\"^^xsd:anyURI ;                                                                                               \n",
    "  .                                                                                                                          \n",
    "\"\"\""
   ]
  },
  {
   "cell_type": "code",
   "execution_count": 3,
   "metadata": {},
   "outputs": [],
   "source": [
    "from rdflib import Graph, plugin\n",
    "from rdflib.plugin import register, Parser, Serializer\n",
    "import pyld\n",
    "import json\n",
    "\n",
    "# format as JSON_LD                                                                                                      \n",
    "with open(\"vocab.json\", \"r\") as f:\n",
    "    CONTEXT = json.load(f)\n",
    "\n",
    "frags = [TTL_HEADER]\n"
   ]
  },
  {
   "cell_type": "code",
   "execution_count": null,
   "metadata": {},
   "outputs": [],
   "source": []
  },
  {
   "cell_type": "code",
   "execution_count": null,
   "metadata": {},
   "outputs": [],
   "source": [
    "\n",
    "for doi, pub_id, pub_url, journal, title in results:\n",
    "    frags.append(PUB_TEMPLATE.format(pub_id, title, doi, pub_url))\n",
    "\n",
    "g = Graph()\n",
    "g.parse(data=\"\\n\".join(frags), format=\"n3\")\n",
    "\n",
    "jsonld = json.loads(g.serialize(format=\"json-ld\", context=CONTEXT))\n",
    "jsonld = pyld.jsonld.compact(jsonld, CONTEXT)\n",
    "\n",
    "print(json.dumps(jsonld, indent=2))"
   ]
  }
 ],
 "metadata": {
  "kernelspec": {
   "display_name": "Python 3",
   "language": "python",
   "name": "python3"
  },
  "language_info": {
   "codemirror_mode": {
    "name": "ipython",
    "version": 3
   },
   "file_extension": ".py",
   "mimetype": "text/x-python",
   "name": "python",
   "nbconvert_exporter": "python",
   "pygments_lexer": "ipython3",
   "version": "3.7.3"
  }
 },
 "nbformat": 4,
 "nbformat_minor": 2
}
