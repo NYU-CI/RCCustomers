{
 "cells": [
  {
   "cell_type": "markdown",
   "metadata": {},
   "source": [
    "### To Do\n",
    "* update for additional nested metadata fields\n",
    "* create that building block - get API metadata on each of the partitions so that its `python api.py <filename>_publications.json` \n",
    "* then second step is below - stacking, deduplication and formatting\n",
    "* `python test.py` should be the final step"
   ]
  },
  {
   "cell_type": "code",
   "execution_count": 1,
   "metadata": {},
   "outputs": [],
   "source": [
    "import os"
   ]
  },
  {
   "cell_type": "markdown",
   "metadata": {},
   "source": [
    "#### Import and stack the partitions"
   ]
  },
  {
   "cell_type": "code",
   "execution_count": 2,
   "metadata": {},
   "outputs": [],
   "source": [
    "partitions = [os.path.join('/Users/sophierand/RCPublications/partitions',f) for f in os.listdir('/Users/sophierand/RCPublications/partitions') if f.endswith('.json')]\n",
    "# partitions                                               "
   ]
  },
  {
   "cell_type": "code",
   "execution_count": 3,
   "metadata": {},
   "outputs": [],
   "source": [
    "import json\n",
    "pub_list = []\n",
    "for p in partitions:\n",
    "    with open(p) as json_file:\n",
    "        partition = json.load(json_file)\n",
    "        pub_list.append(partition)"
   ]
  },
  {
   "cell_type": "code",
   "execution_count": 4,
   "metadata": {},
   "outputs": [],
   "source": [
    "flatten = lambda l: [item for sublist in l for item in sublist]"
   ]
  },
  {
   "cell_type": "code",
   "execution_count": 5,
   "metadata": {},
   "outputs": [],
   "source": [
    "pub_list_flat = flatten(pub_list)"
   ]
  },
  {
   "cell_type": "code",
   "execution_count": 23,
   "metadata": {},
   "outputs": [],
   "source": [
    "import collections\n",
    "from collections import defaultdict\n",
    "import pandas as pd\n",
    "\n",
    "def combine_metadata(dics):\n",
    "    dd = defaultdict(list)\n",
    "    for dic in dics:\n",
    "        for key, val in dic.items():  \n",
    "            if not pd.isnull(val):\n",
    "                dd[key].append(val)\n",
    "#                 dd[key].append(val.lower())\n",
    "                dd[key] = list(set(dd[key]))\n",
    "            else: \n",
    "                continue\n",
    "    return dict(dd)\n",
    "\n",
    "def merge_metadata(dicts):\n",
    "    res = collections.defaultdict(list)\n",
    "    md_list = []\n",
    "    for d in dicts:\n",
    "        for k, v in d.items():\n",
    "            if k  == 'original':\n",
    "                md_list.append(v)\n",
    "            if k == 'title':\n",
    "                res[k].append(v)\n",
    "            if k == 'datasets':\n",
    "                res[k].append(v)\n",
    "    res['original']  = combine_metadata(md_list)\n",
    "    res['title'] = list(set(res['title']))[0]\n",
    "    res['datasets'] = list(set(flatten(res['datasets'])))\n",
    "    return dict(res)"
   ]
  },
  {
   "cell_type": "markdown",
   "metadata": {},
   "source": [
    "#### Account for duplicates, merging any metadata into one subdictionary ('original')"
   ]
  },
  {
   "cell_type": "code",
   "execution_count": 24,
   "metadata": {},
   "outputs": [],
   "source": [
    "from collections import Counter\n",
    "ct = Counter(i['title'] for i in pub_list_flat)"
   ]
  },
  {
   "cell_type": "code",
   "execution_count": 25,
   "metadata": {},
   "outputs": [],
   "source": [
    "new_l = []\n",
    "for i,v in ct.items():\n",
    "    if v > 1:\n",
    "        dup_pubs = [p for p in pub_list_flat if p['title'] == i]\n",
    "        dup_pubs_merged = merge_metadata(dup_pubs)\n",
    "        new_l.append(dup_pubs_merged)\n",
    "    if v == 1:\n",
    "        unique_pubs = [p for p in pub_list_flat if p['title'] == i]\n",
    "        new_l.append(unique_pubs)"
   ]
  },
  {
   "cell_type": "code",
   "execution_count": 9,
   "metadata": {},
   "outputs": [],
   "source": [
    "json_pub_path = '/Users/sophierand/RCPublications/publications.json'"
   ]
  },
  {
   "cell_type": "code",
   "execution_count": 10,
   "metadata": {},
   "outputs": [],
   "source": [
    "with open(json_pub_path, 'w') as outfile:\n",
    "    json.dump(new_l, outfile, indent=2)"
   ]
  },
  {
   "cell_type": "code",
   "execution_count": null,
   "metadata": {},
   "outputs": [],
   "source": []
  }
 ],
 "metadata": {
  "kernelspec": {
   "display_name": "Python 3",
   "language": "python",
   "name": "python3"
  },
  "language_info": {
   "codemirror_mode": {
    "name": "ipython",
    "version": 3
   },
   "file_extension": ".py",
   "mimetype": "text/x-python",
   "name": "python",
   "nbconvert_exporter": "python",
   "pygments_lexer": "ipython3",
   "version": "3.7.3"
  }
 },
 "nbformat": 4,
 "nbformat_minor": 2
}
