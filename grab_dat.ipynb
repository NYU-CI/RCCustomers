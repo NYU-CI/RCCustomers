{
 "cells": [
  {
   "cell_type": "code",
   "execution_count": 1,
   "metadata": {},
   "outputs": [],
   "source": [
    "datasets_path = \"/Users/sophierand/RCDatasets/datasets.json\""
   ]
  },
  {
   "cell_type": "code",
   "execution_count": 2,
   "metadata": {},
   "outputs": [],
   "source": [
    "import json\n",
    "with open(datasets_path) as json_file:\n",
    "    datasets = json.load(json_file)"
   ]
  },
  {
   "cell_type": "code",
   "execution_count": 8,
   "metadata": {},
   "outputs": [
    {
     "data": {
      "text/plain": [
       "['dataset-059',\n",
       " 'dataset-036',\n",
       " 'dataset-048',\n",
       " 'dataset-041',\n",
       " 'dataset-030',\n",
       " 'dataset-040',\n",
       " 'dataset-025',\n",
       " 'dataset-038',\n",
       " 'dataset-049',\n",
       " 'dataset-037',\n",
       " 'dataset-060',\n",
       " 'dataset-026',\n",
       " 'dataset-034',\n",
       " 'dataset-051',\n",
       " 'dataset-044',\n",
       " 'dataset-043',\n",
       " 'dataset-031',\n",
       " 'dataset-032',\n",
       " 'dataset-056',\n",
       " 'dataset-028',\n",
       " 'dataset-035',\n",
       " 'dataset-053',\n",
       " 'dataset-054',\n",
       " 'dataset-055',\n",
       " 'dataset-029',\n",
       " 'dataset-042',\n",
       " 'dataset-057']"
      ]
     },
     "execution_count": 8,
     "metadata": {},
     "output_type": "execute_result"
    }
   ],
   "source": [
    "list(set([(d['id'],d['title']) for d in datasets if d['provider'] == \"U.S. Department of Agriculture\"]))\n",
    "\n",
    "list(set([d['id'] for d in datasets if d['provider'] == \"U.S. Department of Agriculture\"]))\n",
    "\n",
    "\n"
   ]
  },
  {
   "cell_type": "code",
   "execution_count": 11,
   "metadata": {},
   "outputs": [],
   "source": [
    "import pandas as pd\n",
    "tanf_csv = \"/Users/sophierand/RichContextMetadata/metadata/20190923_chapinhall/publication_dataset_linkages.csv\"\n",
    "tanf_data = pd.read_csv(tanf_csv)\n",
    "tanf_datasets = tanf_data.dataset_id.unique().tolist()"
   ]
  },
  {
   "cell_type": "code",
   "execution_count": 14,
   "metadata": {},
   "outputs": [],
   "source": [
    "tanf_dataset_list = []\n",
    "for t in tanf_datasets:\n",
    "    tanf_dataset_list.append(t.split(\",\"))"
   ]
  },
  {
   "cell_type": "code",
   "execution_count": 18,
   "metadata": {},
   "outputs": [],
   "source": [
    "# tanf_dataset_list\n",
    "flatten = lambda l: [item for sublist in l for item in sublist]\n",
    "tanf_dataset_list_final =[t.strip() for t in  flatten(tanf_dataset_list)]"
   ]
  },
  {
   "cell_type": "code",
   "execution_count": 20,
   "metadata": {},
   "outputs": [
    {
     "data": {
      "text/plain": [
       "['',\n",
       " 'dataset-114',\n",
       " \"BEN YOU'RE ON THIS ROW 63\",\n",
       " 'dataset-148',\n",
       " 'dataset-091',\n",
       " 'dataset-087',\n",
       " 'dataset-079',\n",
       " 'dataset-118',\n",
       " 'dataset-063',\n",
       " 'dataset-072',\n",
       " 'dataset-092',\n",
       " 'dataset-135',\n",
       " 'dataset-158',\n",
       " 'dataset-146',\n",
       " 'dataset-078',\n",
       " 'dataset-150',\n",
       " 'dataset-111',\n",
       " 'dataset-080',\n",
       " 'dataset-089',\n",
       " 'dataset-104',\n",
       " 'dataset-171',\n",
       " 'dataset-116',\n",
       " 'dataset-177',\n",
       " 'dataset-178',\n",
       " 'dataset-070',\n",
       " 'dataset-155',\n",
       " 'dataset-133',\n",
       " 'dataset-160',\n",
       " 'dataset-159',\n",
       " 'dataset-081',\n",
       " 'dataset-107',\n",
       " 'dataset-119',\n",
       " 'dataset-117',\n",
       " 'dataset-129',\n",
       " 'dataset-149',\n",
       " 'dataset-102',\n",
       " 'dataset-076',\n",
       " 'dataset-069',\n",
       " 'dataset-066',\n",
       " 'dataset-108',\n",
       " 'dataset-132',\n",
       " 'dataset-138',\n",
       " 'dataset-174',\n",
       " 'dataset-130',\n",
       " 'dataset-120',\n",
       " 'dataset-083',\n",
       " 'dataset-100',\n",
       " 'dataset-110',\n",
       " 'dataset-086',\n",
       " 'dataset-085',\n",
       " 'dataset-094',\n",
       " 'dataset-093',\n",
       " 'dataset-112',\n",
       " 'dataset-167',\n",
       " 'dataset-073',\n",
       " 'dataset-065',\n",
       " 'dataset-168',\n",
       " 'dataset-131',\n",
       " 'dataset-109',\n",
       " 'dataset-140',\n",
       " 'dataset-176',\n",
       " 'dataset-139',\n",
       " 'dataset-026',\n",
       " 'dataset-062',\n",
       " 'dataset-113',\n",
       " 'dataset-061',\n",
       " 'dataset-169',\n",
       " 'dataset-064',\n",
       " 'dataset-077',\n",
       " 'dataset-127',\n",
       " 'dataset-134',\n",
       " 'dataset-147',\n",
       " 'dataset-075',\n",
       " 'dataset-128',\n",
       " 'dataset-074',\n",
       " 'dataset-172',\n",
       " 'dataset-126',\n",
       " 'dataset-033',\n",
       " 'dataset-067',\n",
       " 'dataset-082',\n",
       " 'dataset-137',\n",
       " 'dataset-099',\n",
       " 'dataset-084',\n",
       " 'dataset-175',\n",
       " 'dataset-068',\n",
       " 'dataset-173',\n",
       " 'dataset-071',\n",
       " 'dataset-170',\n",
       " 'dataset-027',\n",
       " 'dataset-090',\n",
       " 'dataset-088',\n",
       " 'dataset-115',\n",
       " 'dataset-156',\n",
       " 'dataset-166',\n",
       " 'dataset-047',\n",
       " 'dataset-157',\n",
       " 'dataset-101',\n",
       " 'dataset-103']"
      ]
     },
     "execution_count": 20,
     "metadata": {},
     "output_type": "execute_result"
    }
   ],
   "source": [
    "list(set(tanf_dataset_list_final))"
   ]
  },
  {
   "cell_type": "code",
   "execution_count": null,
   "metadata": {},
   "outputs": [],
   "source": []
  }
 ],
 "metadata": {
  "kernelspec": {
   "display_name": "Python 3",
   "language": "python",
   "name": "python3"
  },
  "language_info": {
   "codemirror_mode": {
    "name": "ipython",
    "version": 3
   },
   "file_extension": ".py",
   "mimetype": "text/x-python",
   "name": "python",
   "nbconvert_exporter": "python",
   "pygments_lexer": "ipython3",
   "version": "3.7.3"
  }
 },
 "nbformat": 4,
 "nbformat_minor": 2
}
