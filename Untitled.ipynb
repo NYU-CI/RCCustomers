{
 "cells": [
  {
   "cell_type": "code",
   "execution_count": 5,
   "metadata": {},
   "outputs": [],
   "source": [
    "import os\n",
    "import json"
   ]
  },
  {
   "cell_type": "code",
   "execution_count": 6,
   "metadata": {},
   "outputs": [
    {
     "data": {
      "text/plain": [
       "'/Users/sophierand/RCPublications/partitions/20190726_usda_iri_publications.json'"
      ]
     },
     "execution_count": 6,
     "metadata": {},
     "output_type": "execute_result"
    }
   ],
   "source": [
    "usda_partitions[0]"
   ]
  },
  {
   "cell_type": "code",
   "execution_count": 43,
   "metadata": {},
   "outputs": [],
   "source": [
    "usda_partitions = [os.path.join('/Users/sophierand/RCPublications/partitions',f) for f in os.listdir('/Users/sophierand/RCPublications/partitions') if f.endswith('.json') and 'usda' in f]\n"
   ]
  },
  {
   "cell_type": "code",
   "execution_count": 44,
   "metadata": {},
   "outputs": [],
   "source": [
    "\n",
    "datasets_path = \"/Users/sophierand/RCDatasets/datasets.json\"\n",
    "with open(datasets_path) as json_file:\n",
    "    datasets = json.load(json_file)\n"
   ]
  },
  {
   "cell_type": "code",
   "execution_count": 45,
   "metadata": {},
   "outputs": [],
   "source": [
    "with open('/Users/sophierand/RCPublications/partitions/20190726_usda_iri_publications.json') as json_file:\n",
    "    partition = json.load(json_file)"
   ]
  },
  {
   "cell_type": "code",
   "execution_count": 46,
   "metadata": {},
   "outputs": [],
   "source": [
    "for p in partition:\n",
    "    pub_datasets = p['datasets']\n",
    "    dataset_name_list = [d['title'] for d in datasets if d['id'] in pub_datasets]\n",
    "#     print(dataset_name_list)\n",
    "    p.update({'ds_name':dataset_name_list})"
   ]
  },
  {
   "cell_type": "code",
   "execution_count": 49,
   "metadata": {},
   "outputs": [
    {
     "name": "stdout",
     "output_type": "stream",
     "text": [
      "['IRI Consumer Network']\n",
      "['dataset-002']\n",
      "['IRI Consumer Network']\n",
      "['dataset-002']\n",
      "['IRI Consumer Network']\n",
      "['dataset-002']\n",
      "['IRI Infoscan']\n",
      "['dataset-001']\n",
      "['IRI Infoscan']\n",
      "['dataset-001']\n",
      "['IRI Consumer Network']\n",
      "['dataset-002']\n",
      "['IRI Infoscan']\n",
      "['dataset-001']\n",
      "['IRI Consumer Network']\n",
      "['dataset-002']\n",
      "['IRI Infoscan']\n",
      "['dataset-001']\n",
      "['IRI Infoscan']\n",
      "['dataset-001']\n",
      "['IRI Infoscan']\n",
      "['dataset-001']\n",
      "['IRI Infoscan']\n",
      "['dataset-001']\n",
      "['IRI Consumer Network']\n",
      "['dataset-002']\n",
      "['IRI Consumer Network']\n",
      "['dataset-002']\n",
      "['IRI Consumer Network']\n",
      "['dataset-002']\n",
      "['IRI Consumer Network']\n",
      "['dataset-002']\n"
     ]
    }
   ],
   "source": [
    "for p in partition:\n",
    "    print(p['ds_name'])\n",
    "    print(p['datasets'])"
   ]
  },
  {
   "cell_type": "code",
   "execution_count": 23,
   "metadata": {},
   "outputs": [
    {
     "data": {
      "text/plain": [
       "['dataset-002', 'dataset-002']"
      ]
     },
     "execution_count": 23,
     "metadata": {},
     "output_type": "execute_result"
    }
   ],
   "source": [
    "pub_datasets"
   ]
  },
  {
   "cell_type": "code",
   "execution_count": 29,
   "metadata": {},
   "outputs": [
    {
     "data": {
      "text/plain": [
       "['IRI Infoscan', 'IRI Consumer Network']"
      ]
     },
     "execution_count": 29,
     "metadata": {},
     "output_type": "execute_result"
    }
   ],
   "source": [
    "[d['title'] for d in datasets if d['id'] in pub_datasets]"
   ]
  },
  {
   "cell_type": "code",
   "execution_count": 26,
   "metadata": {},
   "outputs": [
    {
     "data": {
      "text/plain": [
       "['dataset-002', 'dataset-002']"
      ]
     },
     "execution_count": 26,
     "metadata": {},
     "output_type": "execute_result"
    }
   ],
   "source": [
    "pub_datasets"
   ]
  },
  {
   "cell_type": "code",
   "execution_count": null,
   "metadata": {},
   "outputs": [],
   "source": []
  }
 ],
 "metadata": {
  "kernelspec": {
   "display_name": "Python 3",
   "language": "python",
   "name": "python3"
  },
  "language_info": {
   "codemirror_mode": {
    "name": "ipython",
    "version": 3
   },
   "file_extension": ".py",
   "mimetype": "text/x-python",
   "name": "python",
   "nbconvert_exporter": "python",
   "pygments_lexer": "ipython3",
   "version": "3.7.3"
  }
 },
 "nbformat": 4,
 "nbformat_minor": 4
}
